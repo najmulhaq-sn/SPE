{
 "cells": [
  {
   "cell_type": "markdown",
   "id": "2b8dea67",
   "metadata": {},
   "source": [
    "# imports"
   ]
  },
  {
   "cell_type": "code",
   "execution_count": 27,
   "id": "0a1d1701",
   "metadata": {
    "ExecuteTime": {
     "end_time": "2022-10-11T08:52:58.366080Z",
     "start_time": "2022-10-11T08:52:55.829662Z"
    }
   },
   "outputs": [],
   "source": [
    "%reload_ext autoreload\n",
    "%autoreload 2\n",
    "%matplotlib inline"
   ]
  },
  {
   "cell_type": "code",
   "execution_count": 28,
   "id": "8181948e",
   "metadata": {
    "ExecuteTime": {
     "end_time": "2022-10-11T08:52:58.551610Z",
     "start_time": "2022-10-11T08:52:58.367010Z"
    }
   },
   "outputs": [],
   "source": [
    "import datetime\n",
    "import os\n",
    "import matplotlib.pyplot as plt\n",
    "import numpy as np\n",
    "import pandas as pd\n",
    "# The following is not a package. It is a file utils.py which should be in the same folder as this notebook.\n",
    "from utils import plot_image\n",
    "from datetime import datetime\n",
    "from dateutil.relativedelta import relativedelta\n",
    "import glob\n"
   ]
  },
  {
   "cell_type": "code",
   "execution_count": 29,
   "id": "696700ce",
   "metadata": {
    "ExecuteTime": {
     "end_time": "2022-10-11T08:52:58.733601Z",
     "start_time": "2022-10-11T08:52:58.551610Z"
    }
   },
   "outputs": [],
   "source": [
    "from sentinelhub import SHConfig\n",
    "config = SHConfig()"
   ]
  },
  {
   "cell_type": "code",
   "execution_count": 30,
   "id": "5007db76",
   "metadata": {
    "ExecuteTime": {
     "end_time": "2022-10-11T08:52:59.084888Z",
     "start_time": "2022-10-11T08:52:58.753317Z"
    }
   },
   "outputs": [],
   "source": [
    "#create an client and instance on sentinal-hub\n",
    "config.sh_client_id = '9d0e7fa9-5e61-4762-bdee-e17f312c8eb5'\n",
    "config.sh_client_secret = 'Qhh(WQu@wuP&(!uuWtQ@Uw^9o?/1wLRm%4yvufg9'\n",
    "config.instance_id = \"a5f10728-b270-4276-a238-9258e142713a\"\n",
    "config.save()"
   ]
  },
  {
   "cell_type": "code",
   "execution_count": 31,
   "id": "f24836d3",
   "metadata": {
    "ExecuteTime": {
     "end_time": "2022-10-11T08:52:59.269876Z",
     "start_time": "2022-10-11T08:52:59.086611Z"
    }
   },
   "outputs": [],
   "source": [
    "if not config.sh_client_id or not config.sh_client_secret:\n",
    "    print(\"Warning! To use Process API, please provide the credentials (OAuth client ID and client secret).\")"
   ]
  },
  {
   "cell_type": "code",
   "execution_count": 32,
   "id": "b2074f03",
   "metadata": {
    "ExecuteTime": {
     "end_time": "2022-10-11T08:52:59.518137Z",
     "start_time": "2022-10-11T08:52:59.269876Z"
    }
   },
   "outputs": [],
   "source": [
    "from sentinelhub import (\n",
    "    CRS,\n",
    "    BBox,\n",
    "    Geometry,\n",
    "    DataCollection,\n",
    "    DownloadRequest,\n",
    "    MimeType,\n",
    "    MosaickingOrder,\n",
    "    SentinelHubDownloadClient,\n",
    "    SentinelHubRequest,\n",
    "    bbox_to_dimensions,\n",
    ")"
   ]
  },
  {
   "cell_type": "markdown",
   "id": "7b7ad58f",
   "metadata": {},
   "source": [
    "# Setting area of interest"
   ]
  },
  {
   "cell_type": "code",
   "execution_count": 33,
   "id": "5dcf551e",
   "metadata": {
    "ExecuteTime": {
     "end_time": "2022-10-11T08:52:59.707007Z",
     "start_time": "2022-10-11T08:52:59.526547Z"
    }
   },
   "outputs": [],
   "source": [
    "poly = [[80.065957,8.68801],[80.376549,8.515564],[80.032973,8.504699],[80.065957,8.68801]]\n",
    "import numpy as np\n"
   ]
  },
  {
   "cell_type": "code",
   "execution_count": 34,
   "id": "3c863974",
   "metadata": {
    "ExecuteTime": {
     "end_time": "2022-10-11T08:52:59.901389Z",
     "start_time": "2022-10-11T08:52:59.707007Z"
    }
   },
   "outputs": [],
   "source": [
    "def bbox_cord(poly):\n",
    "    poly_arr = np.array(poly)\n",
    "    df = pd.DataFrame(poly_arr, columns = ['lat','long'])\n",
    "    Xmin = df['lat'].min()\n",
    "    Ymin = df['long'].min()\n",
    "    Xmax = df['lat'].max()\n",
    "    Ymax = df['long'].max()\n",
    "    bbox = [Xmin,Ymin,Xmax,Ymax]\n",
    "    return bbox"
   ]
  },
  {
   "cell_type": "code",
   "execution_count": 35,
   "id": "1c11633b",
   "metadata": {
    "ExecuteTime": {
     "end_time": "2022-10-11T08:53:00.220552Z",
     "start_time": "2022-10-11T08:52:59.907230Z"
    }
   },
   "outputs": [
    {
     "data": {
      "text/plain": [
       "[80.032973, 8.504699, 80.376549, 8.68801]"
      ]
     },
     "execution_count": 35,
     "metadata": {},
     "output_type": "execute_result"
    }
   ],
   "source": [
    "bbox_generated = bbox_cord(poly)\n",
    "bbox_generated"
   ]
  },
  {
   "cell_type": "code",
   "execution_count": 36,
   "id": "4611bc9a",
   "metadata": {
    "ExecuteTime": {
     "end_time": "2022-10-11T08:53:00.686786Z",
     "start_time": "2022-10-11T08:53:00.238712Z"
    }
   },
   "outputs": [],
   "source": [
    "final_bbox = BBox(bbox=bbox_generated, crs=CRS.WGS84)\n",
    "geometry = Geometry(geometry={\"type\":\"Polygon\",\"coordinates\":[poly]}, crs=CRS.WGS84)\n"
   ]
  },
  {
   "cell_type": "code",
   "execution_count": 37,
   "id": "33b26d4e",
   "metadata": {
    "ExecuteTime": {
     "end_time": "2022-10-11T08:53:01.140855Z",
     "start_time": "2022-10-11T08:53:00.718023Z"
    }
   },
   "outputs": [
    {
     "name": "stdout",
     "output_type": "stream",
     "text": [
      "Image shape at 20 m resolution: (1893, 1009) pixels\n"
     ]
    }
   ],
   "source": [
    "resolution =20\n",
    "box_size = bbox_to_dimensions(final_bbox, resolution= resolution)\n",
    "print(f\"Image shape at {resolution} m resolution: {box_size} pixels\")"
   ]
  },
  {
   "cell_type": "code",
   "execution_count": 38,
   "id": "a091dbe2",
   "metadata": {
    "ExecuteTime": {
     "end_time": "2022-10-11T08:53:01.298134Z",
     "start_time": "2022-10-11T08:53:01.149872Z"
    }
   },
   "outputs": [],
   "source": [
    "#date range\n",
    "current_date = datetime.today().strftime('%Y-%m-%d')\n",
    "past_date = datetime.today() - relativedelta(months=10)\n",
    "past_date = past_date.strftime('%Y-%m-%d')"
   ]
  },
  {
   "cell_type": "code",
   "execution_count": 39,
   "id": "55b77a2e",
   "metadata": {
    "ExecuteTime": {
     "end_time": "2022-10-11T08:53:01.831158Z",
     "start_time": "2022-10-11T08:53:01.298134Z"
    }
   },
   "outputs": [],
   "source": [
    "evalscript_all_bands = \"\"\"\n",
    "    //VERSION=3\n",
    "    function setup() {\n",
    "        return {\n",
    "            input: [{\n",
    "                bands: [\"B08\",\"B02\",\"B03\",\"B04\"],\n",
    "                units: \"DN\"\n",
    "            }],\n",
    "            output: {\n",
    "                bands: 4,\n",
    "                sampleType: \"float32\" \n",
    "            }\n",
    "        };\n",
    "    }\n",
    "\n",
    "    function evaluatePixel(sample) {\n",
    "        return [sample.B08,\n",
    "                sample.B02,\n",
    "                sample.B03,\n",
    "                sample.B04,\n",
    "];\n",
    "    }\n",
    "\"\"\"\n",
    "#32 bit Tiff output wuth 4 bands\n",
    "request_all_bands = SentinelHubRequest(\n",
    "    data_folder=\"Data\", #data store directory\n",
    "    evalscript=evalscript_all_bands,\n",
    "    input_data=[\n",
    "        SentinelHubRequest.input_data(\n",
    "            data_collection=DataCollection.SENTINEL2_L1C,\n",
    "            time_interval=( past_date,current_date),\n",
    "            mosaicking_order=MosaickingOrder.LEAST_CC,\n",
    "            other_args={\"dataFilter\": {\"maxCloudCoverage\": 20}},\n",
    "        )\n",
    "    ],\n",
    "    responses=[SentinelHubRequest.output_response(\"default\", MimeType.TIFF)],\n",
    "    bbox=final_bbox,\n",
    "    size=box_size,\n",
    "    geometry = geometry,\n",
    "    config=config,\n",
    ")"
   ]
  },
  {
   "cell_type": "code",
   "execution_count": 26,
   "id": "327ac285",
   "metadata": {
    "ExecuteTime": {
     "end_time": "2022-10-11T05:37:17.505685Z",
     "start_time": "2022-10-11T05:37:10.311175Z"
    }
   },
   "outputs": [
    {
     "ename": "DownloadFailedException",
     "evalue": "Failed to download from:\nhttps://services.sentinel-hub.com/api/v1/process\nwith HTTPError:\n403 Client Error: Forbidden for url: https://services.sentinel-hub.com/api/v1/process\nServer response: \"{\"status\": 403, \"reason\": \"Forbidden\", \"message\": \"Invalid or expired account.\", \"code\": \"COMMON_INSUFFICIENT_PERMISSIONS\"}\"",
     "output_type": "error",
     "traceback": [
      "\u001b[1;31m---------------------------------------------------------------------------\u001b[0m",
      "\u001b[1;31mHTTPError\u001b[0m                                 Traceback (most recent call last)",
      "File \u001b[1;32m~\\anaconda3\\envs\\sentinal\\lib\\site-packages\\sentinelhub\\download\\handlers.py:41\u001b[0m, in \u001b[0;36mfail_user_errors.<locals>.new_download_func\u001b[1;34m(self, request)\u001b[0m\n\u001b[0;32m     40\u001b[0m \u001b[38;5;28;01mtry\u001b[39;00m:\n\u001b[1;32m---> 41\u001b[0m     \u001b[38;5;28;01mreturn\u001b[39;00m \u001b[43mdownload_func\u001b[49m\u001b[43m(\u001b[49m\u001b[38;5;28;43mself\u001b[39;49m\u001b[43m,\u001b[49m\u001b[43m \u001b[49m\u001b[43mrequest\u001b[49m\u001b[43m)\u001b[49m\n\u001b[0;32m     42\u001b[0m \u001b[38;5;28;01mexcept\u001b[39;00m requests\u001b[38;5;241m.\u001b[39mHTTPError \u001b[38;5;28;01mas\u001b[39;00m exception:\n",
      "File \u001b[1;32m~\\anaconda3\\envs\\sentinal\\lib\\site-packages\\sentinelhub\\download\\sentinelhub_client.py:90\u001b[0m, in \u001b[0;36mSentinelHubDownloadClient._execute_download\u001b[1;34m(self, request)\u001b[0m\n\u001b[0;32m     88\u001b[0m     \u001b[38;5;28;01mcontinue\u001b[39;00m\n\u001b[1;32m---> 90\u001b[0m \u001b[43mresponse\u001b[49m\u001b[38;5;241;43m.\u001b[39;49m\u001b[43mraise_for_status\u001b[49m\u001b[43m(\u001b[49m\u001b[43m)\u001b[49m\n\u001b[0;32m     92\u001b[0m LOGGER\u001b[38;5;241m.\u001b[39mdebug(\u001b[38;5;124m\"\u001b[39m\u001b[38;5;124mSuccessful \u001b[39m\u001b[38;5;132;01m%s\u001b[39;00m\u001b[38;5;124m request to \u001b[39m\u001b[38;5;132;01m%s\u001b[39;00m\u001b[38;5;124m\"\u001b[39m, request\u001b[38;5;241m.\u001b[39mrequest_type\u001b[38;5;241m.\u001b[39mvalue, request\u001b[38;5;241m.\u001b[39murl)\n",
      "File \u001b[1;32m~\\anaconda3\\envs\\sentinal\\lib\\site-packages\\requests\\models.py:1021\u001b[0m, in \u001b[0;36mResponse.raise_for_status\u001b[1;34m(self)\u001b[0m\n\u001b[0;32m   1020\u001b[0m \u001b[38;5;28;01mif\u001b[39;00m http_error_msg:\n\u001b[1;32m-> 1021\u001b[0m     \u001b[38;5;28;01mraise\u001b[39;00m HTTPError(http_error_msg, response\u001b[38;5;241m=\u001b[39m\u001b[38;5;28mself\u001b[39m)\n",
      "\u001b[1;31mHTTPError\u001b[0m: 403 Client Error: Forbidden for url: https://services.sentinel-hub.com/api/v1/process",
      "\nThe above exception was the direct cause of the following exception:\n",
      "\u001b[1;31mDownloadFailedException\u001b[0m                   Traceback (most recent call last)",
      "Cell \u001b[1;32mIn [26], line 2\u001b[0m\n\u001b[0;32m      1\u001b[0m \u001b[38;5;66;03m#API request\u001b[39;00m\n\u001b[1;32m----> 2\u001b[0m all_bands_response \u001b[38;5;241m=\u001b[39m \u001b[43mrequest_all_bands\u001b[49m\u001b[38;5;241;43m.\u001b[39;49m\u001b[43mget_data\u001b[49m\u001b[43m(\u001b[49m\u001b[43m)\u001b[49m\n",
      "File \u001b[1;32m~\\anaconda3\\envs\\sentinal\\lib\\site-packages\\sentinelhub\\base.py:110\u001b[0m, in \u001b[0;36mDataRequest.get_data\u001b[1;34m(self, save_data, redownload, data_filter, max_threads, decode_data, raise_download_errors, show_progress)\u001b[0m\n\u001b[0;32m     88\u001b[0m \u001b[38;5;124;03m\"\"\"Get requested data either by downloading it or by reading it from the disk (if it\u001b[39;00m\n\u001b[0;32m     89\u001b[0m \u001b[38;5;124;03mwas previously downloaded and saved).\u001b[39;00m\n\u001b[0;32m     90\u001b[0m \n\u001b[1;32m   (...)\u001b[0m\n\u001b[0;32m    107\u001b[0m \u001b[38;5;124;03m    shape ``[height, width, channels]``.\u001b[39;00m\n\u001b[0;32m    108\u001b[0m \u001b[38;5;124;03m\"\"\"\u001b[39;00m\n\u001b[0;32m    109\u001b[0m \u001b[38;5;28mself\u001b[39m\u001b[38;5;241m.\u001b[39m_preprocess_request(save_data, \u001b[38;5;28;01mTrue\u001b[39;00m)\n\u001b[1;32m--> 110\u001b[0m \u001b[38;5;28;01mreturn\u001b[39;00m \u001b[38;5;28;43mself\u001b[39;49m\u001b[38;5;241;43m.\u001b[39;49m\u001b[43m_execute_data_download\u001b[49m\u001b[43m(\u001b[49m\n\u001b[0;32m    111\u001b[0m \u001b[43m    \u001b[49m\u001b[43mdata_filter\u001b[49m\u001b[43m,\u001b[49m\n\u001b[0;32m    112\u001b[0m \u001b[43m    \u001b[49m\u001b[43mredownload\u001b[49m\u001b[43m,\u001b[49m\n\u001b[0;32m    113\u001b[0m \u001b[43m    \u001b[49m\u001b[43mmax_threads\u001b[49m\u001b[43m,\u001b[49m\n\u001b[0;32m    114\u001b[0m \u001b[43m    \u001b[49m\u001b[43mraise_download_errors\u001b[49m\u001b[43m,\u001b[49m\n\u001b[0;32m    115\u001b[0m \u001b[43m    \u001b[49m\u001b[43mdecode_data\u001b[49m\u001b[38;5;241;43m=\u001b[39;49m\u001b[43mdecode_data\u001b[49m\u001b[43m,\u001b[49m\n\u001b[0;32m    116\u001b[0m \u001b[43m    \u001b[49m\u001b[43mshow_progress\u001b[49m\u001b[38;5;241;43m=\u001b[39;49m\u001b[43mshow_progress\u001b[49m\u001b[43m,\u001b[49m\n\u001b[0;32m    117\u001b[0m \u001b[43m\u001b[49m\u001b[43m)\u001b[49m\n",
      "File \u001b[1;32m~\\anaconda3\\envs\\sentinal\\lib\\site-packages\\sentinelhub\\base.py:184\u001b[0m, in \u001b[0;36mDataRequest._execute_data_download\u001b[1;34m(self, data_filter, redownload, max_threads, raise_download_errors, decode_data, show_progress)\u001b[0m\n\u001b[0;32m    179\u001b[0m     \u001b[38;5;28;01mraise\u001b[39;00m \u001b[38;5;167;01mValueError\u001b[39;00m(\u001b[38;5;124m\"\u001b[39m\u001b[38;5;124mdata_filter parameter must be a list of indices\u001b[39m\u001b[38;5;124m\"\u001b[39m)\n\u001b[0;32m    181\u001b[0m client \u001b[38;5;241m=\u001b[39m \u001b[38;5;28mself\u001b[39m\u001b[38;5;241m.\u001b[39mdownload_client_class(\n\u001b[0;32m    182\u001b[0m     redownload\u001b[38;5;241m=\u001b[39mredownload, raise_download_errors\u001b[38;5;241m=\u001b[39mraise_download_errors, config\u001b[38;5;241m=\u001b[39m\u001b[38;5;28mself\u001b[39m\u001b[38;5;241m.\u001b[39mconfig\n\u001b[0;32m    183\u001b[0m )\n\u001b[1;32m--> 184\u001b[0m data_list \u001b[38;5;241m=\u001b[39m \u001b[43mclient\u001b[49m\u001b[38;5;241;43m.\u001b[39;49m\u001b[43mdownload\u001b[49m\u001b[43m(\u001b[49m\n\u001b[0;32m    185\u001b[0m \u001b[43m    \u001b[49m\u001b[43mfiltered_download_list\u001b[49m\u001b[43m,\u001b[49m\u001b[43m \u001b[49m\u001b[43mmax_threads\u001b[49m\u001b[38;5;241;43m=\u001b[39;49m\u001b[43mmax_threads\u001b[49m\u001b[43m,\u001b[49m\u001b[43m \u001b[49m\u001b[43mdecode_data\u001b[49m\u001b[38;5;241;43m=\u001b[39;49m\u001b[43mdecode_data\u001b[49m\u001b[43m,\u001b[49m\u001b[43m \u001b[49m\u001b[43mshow_progress\u001b[49m\u001b[38;5;241;43m=\u001b[39;49m\u001b[43mshow_progress\u001b[49m\n\u001b[0;32m    186\u001b[0m \u001b[43m\u001b[49m\u001b[43m)\u001b[49m\n\u001b[0;32m    188\u001b[0m \u001b[38;5;28;01mif\u001b[39;00m is_repeating_filter:\n\u001b[0;32m    189\u001b[0m     data_list \u001b[38;5;241m=\u001b[39m [copy\u001b[38;5;241m.\u001b[39mdeepcopy(data_list[index]) \u001b[38;5;28;01mfor\u001b[39;00m index \u001b[38;5;129;01min\u001b[39;00m mapping_list]\n",
      "File \u001b[1;32m~\\anaconda3\\envs\\sentinal\\lib\\site-packages\\sentinelhub\\download\\sentinelhub_client.py:62\u001b[0m, in \u001b[0;36mSentinelHubDownloadClient.download\u001b[1;34m(self, *args, **kwargs)\u001b[0m\n\u001b[0;32m     60\u001b[0m \u001b[38;5;28mself\u001b[39m\u001b[38;5;241m.\u001b[39mlock \u001b[38;5;241m=\u001b[39m Lock()\n\u001b[0;32m     61\u001b[0m \u001b[38;5;28;01mtry\u001b[39;00m:\n\u001b[1;32m---> 62\u001b[0m     \u001b[38;5;28;01mreturn\u001b[39;00m \u001b[38;5;28;43msuper\u001b[39;49m\u001b[43m(\u001b[49m\u001b[43m)\u001b[49m\u001b[38;5;241;43m.\u001b[39;49m\u001b[43mdownload\u001b[49m\u001b[43m(\u001b[49m\u001b[38;5;241;43m*\u001b[39;49m\u001b[43margs\u001b[49m\u001b[43m,\u001b[49m\u001b[43m \u001b[49m\u001b[38;5;241;43m*\u001b[39;49m\u001b[38;5;241;43m*\u001b[39;49m\u001b[43mkwargs\u001b[49m\u001b[43m)\u001b[49m\n\u001b[0;32m     63\u001b[0m \u001b[38;5;28;01mfinally\u001b[39;00m:\n\u001b[0;32m     64\u001b[0m     \u001b[38;5;28mself\u001b[39m\u001b[38;5;241m.\u001b[39mlock \u001b[38;5;241m=\u001b[39m \u001b[38;5;28;01mNone\u001b[39;00m\n",
      "File \u001b[1;32m~\\anaconda3\\envs\\sentinal\\lib\\site-packages\\sentinelhub\\download\\client.py:113\u001b[0m, in \u001b[0;36mDownloadClient.download\u001b[1;34m(self, download_requests, max_threads, decode_data, show_progress)\u001b[0m\n\u001b[0;32m    111\u001b[0m     \u001b[38;5;28;01melse\u001b[39;00m:\n\u001b[0;32m    112\u001b[0m         \u001b[38;5;28;01mfor\u001b[39;00m future \u001b[38;5;129;01min\u001b[39;00m as_completed(download_list):\n\u001b[1;32m--> 113\u001b[0m             data_list[future_order[future]] \u001b[38;5;241m=\u001b[39m \u001b[38;5;28;43mself\u001b[39;49m\u001b[38;5;241;43m.\u001b[39;49m\u001b[43m_process_download_future\u001b[49m\u001b[43m(\u001b[49m\u001b[43mfuture\u001b[49m\u001b[43m)\u001b[49m\n\u001b[0;32m    115\u001b[0m \u001b[38;5;28;01mif\u001b[39;00m \u001b[38;5;28misinstance\u001b[39m(download_requests, DownloadRequest):\n\u001b[0;32m    116\u001b[0m     \u001b[38;5;28;01mreturn\u001b[39;00m data_list[\u001b[38;5;241m0\u001b[39m]\n",
      "File \u001b[1;32m~\\anaconda3\\envs\\sentinal\\lib\\site-packages\\sentinelhub\\download\\client.py:126\u001b[0m, in \u001b[0;36mDownloadClient._process_download_future\u001b[1;34m(self, future)\u001b[0m\n\u001b[0;32m    124\u001b[0m \u001b[38;5;28;01mif\u001b[39;00m \u001b[38;5;28mself\u001b[39m\u001b[38;5;241m.\u001b[39mraise_download_errors:\n\u001b[0;32m    125\u001b[0m     traceback \u001b[38;5;241m=\u001b[39m sys\u001b[38;5;241m.\u001b[39mexc_info()[\u001b[38;5;241m2\u001b[39m]\n\u001b[1;32m--> 126\u001b[0m     \u001b[38;5;28;01mraise\u001b[39;00m download_exception\u001b[38;5;241m.\u001b[39mwith_traceback(traceback)\n\u001b[0;32m    128\u001b[0m warnings\u001b[38;5;241m.\u001b[39mwarn(\u001b[38;5;28mstr\u001b[39m(download_exception), category\u001b[38;5;241m=\u001b[39mSHRuntimeWarning)\n\u001b[0;32m    129\u001b[0m \u001b[38;5;28;01mreturn\u001b[39;00m \u001b[38;5;28;01mNone\u001b[39;00m\n",
      "File \u001b[1;32m~\\anaconda3\\envs\\sentinal\\lib\\site-packages\\sentinelhub\\download\\client.py:122\u001b[0m, in \u001b[0;36mDownloadClient._process_download_future\u001b[1;34m(self, future)\u001b[0m\n\u001b[0;32m    120\u001b[0m \u001b[38;5;124;03m\"\"\"Unpacks the future and correctly handles exceptions\"\"\"\u001b[39;00m\n\u001b[0;32m    121\u001b[0m \u001b[38;5;28;01mtry\u001b[39;00m:\n\u001b[1;32m--> 122\u001b[0m     \u001b[38;5;28;01mreturn\u001b[39;00m \u001b[43mfuture\u001b[49m\u001b[38;5;241;43m.\u001b[39;49m\u001b[43mresult\u001b[49m\u001b[43m(\u001b[49m\u001b[43m)\u001b[49m\n\u001b[0;32m    123\u001b[0m \u001b[38;5;28;01mexcept\u001b[39;00m DownloadFailedException \u001b[38;5;28;01mas\u001b[39;00m download_exception:\n\u001b[0;32m    124\u001b[0m     \u001b[38;5;28;01mif\u001b[39;00m \u001b[38;5;28mself\u001b[39m\u001b[38;5;241m.\u001b[39mraise_download_errors:\n",
      "File \u001b[1;32m~\\anaconda3\\envs\\sentinal\\lib\\concurrent\\futures\\_base.py:437\u001b[0m, in \u001b[0;36mFuture.result\u001b[1;34m(self, timeout)\u001b[0m\n\u001b[0;32m    435\u001b[0m     \u001b[38;5;28;01mraise\u001b[39;00m CancelledError()\n\u001b[0;32m    436\u001b[0m \u001b[38;5;28;01melif\u001b[39;00m \u001b[38;5;28mself\u001b[39m\u001b[38;5;241m.\u001b[39m_state \u001b[38;5;241m==\u001b[39m FINISHED:\n\u001b[1;32m--> 437\u001b[0m     \u001b[38;5;28;01mreturn\u001b[39;00m \u001b[38;5;28;43mself\u001b[39;49m\u001b[38;5;241;43m.\u001b[39;49m\u001b[43m__get_result\u001b[49m\u001b[43m(\u001b[49m\u001b[43m)\u001b[49m\n\u001b[0;32m    439\u001b[0m \u001b[38;5;28mself\u001b[39m\u001b[38;5;241m.\u001b[39m_condition\u001b[38;5;241m.\u001b[39mwait(timeout)\n\u001b[0;32m    441\u001b[0m \u001b[38;5;28;01mif\u001b[39;00m \u001b[38;5;28mself\u001b[39m\u001b[38;5;241m.\u001b[39m_state \u001b[38;5;129;01min\u001b[39;00m [CANCELLED, CANCELLED_AND_NOTIFIED]:\n",
      "File \u001b[1;32m~\\anaconda3\\envs\\sentinal\\lib\\concurrent\\futures\\_base.py:389\u001b[0m, in \u001b[0;36mFuture.__get_result\u001b[1;34m(self)\u001b[0m\n\u001b[0;32m    387\u001b[0m \u001b[38;5;28;01mif\u001b[39;00m \u001b[38;5;28mself\u001b[39m\u001b[38;5;241m.\u001b[39m_exception:\n\u001b[0;32m    388\u001b[0m     \u001b[38;5;28;01mtry\u001b[39;00m:\n\u001b[1;32m--> 389\u001b[0m         \u001b[38;5;28;01mraise\u001b[39;00m \u001b[38;5;28mself\u001b[39m\u001b[38;5;241m.\u001b[39m_exception\n\u001b[0;32m    390\u001b[0m     \u001b[38;5;28;01mfinally\u001b[39;00m:\n\u001b[0;32m    391\u001b[0m         \u001b[38;5;66;03m# Break a reference cycle with the exception in self._exception\u001b[39;00m\n\u001b[0;32m    392\u001b[0m         \u001b[38;5;28mself\u001b[39m \u001b[38;5;241m=\u001b[39m \u001b[38;5;28;01mNone\u001b[39;00m\n",
      "File \u001b[1;32m~\\anaconda3\\envs\\sentinal\\lib\\concurrent\\futures\\thread.py:57\u001b[0m, in \u001b[0;36m_WorkItem.run\u001b[1;34m(self)\u001b[0m\n\u001b[0;32m     54\u001b[0m     \u001b[38;5;28;01mreturn\u001b[39;00m\n\u001b[0;32m     56\u001b[0m \u001b[38;5;28;01mtry\u001b[39;00m:\n\u001b[1;32m---> 57\u001b[0m     result \u001b[38;5;241m=\u001b[39m \u001b[38;5;28;43mself\u001b[39;49m\u001b[38;5;241;43m.\u001b[39;49m\u001b[43mfn\u001b[49m\u001b[43m(\u001b[49m\u001b[38;5;241;43m*\u001b[39;49m\u001b[38;5;28;43mself\u001b[39;49m\u001b[38;5;241;43m.\u001b[39;49m\u001b[43margs\u001b[49m\u001b[43m,\u001b[49m\u001b[43m \u001b[49m\u001b[38;5;241;43m*\u001b[39;49m\u001b[38;5;241;43m*\u001b[39;49m\u001b[38;5;28;43mself\u001b[39;49m\u001b[38;5;241;43m.\u001b[39;49m\u001b[43mkwargs\u001b[49m\u001b[43m)\u001b[49m\n\u001b[0;32m     58\u001b[0m \u001b[38;5;28;01mexcept\u001b[39;00m \u001b[38;5;167;01mBaseException\u001b[39;00m \u001b[38;5;28;01mas\u001b[39;00m exc:\n\u001b[0;32m     59\u001b[0m     \u001b[38;5;28mself\u001b[39m\u001b[38;5;241m.\u001b[39mfuture\u001b[38;5;241m.\u001b[39mset_exception(exc)\n",
      "File \u001b[1;32m~\\anaconda3\\envs\\sentinal\\lib\\site-packages\\sentinelhub\\download\\client.py:133\u001b[0m, in \u001b[0;36mDownloadClient._single_download_decoded\u001b[1;34m(self, request)\u001b[0m\n\u001b[0;32m    131\u001b[0m \u001b[38;5;28;01mdef\u001b[39;00m \u001b[38;5;21m_single_download_decoded\u001b[39m(\u001b[38;5;28mself\u001b[39m, request: DownloadRequest) \u001b[38;5;241m-\u001b[39m\u001b[38;5;241m>\u001b[39m Any:\n\u001b[0;32m    132\u001b[0m     \u001b[38;5;124;03m\"\"\"Downloads a response and decodes it into data. By decoding a single response\"\"\"\u001b[39;00m\n\u001b[1;32m--> 133\u001b[0m     response \u001b[38;5;241m=\u001b[39m \u001b[38;5;28;43mself\u001b[39;49m\u001b[38;5;241;43m.\u001b[39;49m\u001b[43m_single_download\u001b[49m\u001b[43m(\u001b[49m\u001b[43mrequest\u001b[49m\u001b[43m)\u001b[49m\n\u001b[0;32m    134\u001b[0m     \u001b[38;5;28;01mreturn\u001b[39;00m \u001b[38;5;28;01mNone\u001b[39;00m \u001b[38;5;28;01mif\u001b[39;00m response \u001b[38;5;129;01mis\u001b[39;00m \u001b[38;5;28;01mNone\u001b[39;00m \u001b[38;5;28;01melse\u001b[39;00m response\u001b[38;5;241m.\u001b[39mdecode()\n",
      "File \u001b[1;32m~\\anaconda3\\envs\\sentinal\\lib\\site-packages\\sentinelhub\\download\\client.py:146\u001b[0m, in \u001b[0;36mDownloadClient._single_download\u001b[1;34m(self, request)\u001b[0m\n\u001b[0;32m    144\u001b[0m no_local_data \u001b[38;5;241m=\u001b[39m \u001b[38;5;28mself\u001b[39m\u001b[38;5;241m.\u001b[39mredownload \u001b[38;5;129;01mor\u001b[39;00m response_path \u001b[38;5;129;01mis\u001b[39;00m \u001b[38;5;28;01mNone\u001b[39;00m \u001b[38;5;129;01mor\u001b[39;00m \u001b[38;5;129;01mnot\u001b[39;00m os\u001b[38;5;241m.\u001b[39mpath\u001b[38;5;241m.\u001b[39mexists(response_path)\n\u001b[0;32m    145\u001b[0m \u001b[38;5;28;01mif\u001b[39;00m no_local_data:\n\u001b[1;32m--> 146\u001b[0m     response \u001b[38;5;241m=\u001b[39m \u001b[38;5;28;43mself\u001b[39;49m\u001b[38;5;241;43m.\u001b[39;49m\u001b[43m_execute_download\u001b[49m\u001b[43m(\u001b[49m\u001b[43mrequest\u001b[49m\u001b[43m)\u001b[49m\n\u001b[0;32m    147\u001b[0m \u001b[38;5;28;01melse\u001b[39;00m:\n\u001b[0;32m    148\u001b[0m     \u001b[38;5;28;01mif\u001b[39;00m \u001b[38;5;129;01mnot\u001b[39;00m request\u001b[38;5;241m.\u001b[39mreturn_data \u001b[38;5;129;01mor\u001b[39;00m response_path \u001b[38;5;129;01mis\u001b[39;00m \u001b[38;5;28;01mNone\u001b[39;00m:\n",
      "File \u001b[1;32m~\\anaconda3\\envs\\sentinal\\lib\\site-packages\\sentinelhub\\download\\handlers.py:67\u001b[0m, in \u001b[0;36mretry_temporary_errors.<locals>.new_download_func\u001b[1;34m(self, request)\u001b[0m\n\u001b[0;32m     65\u001b[0m \u001b[38;5;28;01mfor\u001b[39;00m attempt_num \u001b[38;5;129;01min\u001b[39;00m \u001b[38;5;28mrange\u001b[39m(download_attempts):\n\u001b[0;32m     66\u001b[0m     \u001b[38;5;28;01mtry\u001b[39;00m:\n\u001b[1;32m---> 67\u001b[0m         \u001b[38;5;28;01mreturn\u001b[39;00m \u001b[43mdownload_func\u001b[49m\u001b[43m(\u001b[49m\u001b[38;5;28;43mself\u001b[39;49m\u001b[43m,\u001b[49m\u001b[43m \u001b[49m\u001b[43mrequest\u001b[49m\u001b[43m)\u001b[49m\n\u001b[0;32m     68\u001b[0m     \u001b[38;5;28;01mexcept\u001b[39;00m requests\u001b[38;5;241m.\u001b[39mRequestException \u001b[38;5;28;01mas\u001b[39;00m exception:\n\u001b[0;32m     69\u001b[0m         \u001b[38;5;28;01mif\u001b[39;00m \u001b[38;5;129;01mnot\u001b[39;00m (\n\u001b[0;32m     70\u001b[0m             _is_temporary_problem(exception)\n\u001b[0;32m     71\u001b[0m             \u001b[38;5;129;01mor\u001b[39;00m (\n\u001b[1;32m   (...)\u001b[0m\n\u001b[0;32m     74\u001b[0m             )\n\u001b[0;32m     75\u001b[0m         ):\n",
      "File \u001b[1;32m~\\anaconda3\\envs\\sentinal\\lib\\site-packages\\sentinelhub\\download\\handlers.py:47\u001b[0m, in \u001b[0;36mfail_user_errors.<locals>.new_download_func\u001b[1;34m(self, request)\u001b[0m\n\u001b[0;32m     42\u001b[0m \u001b[38;5;28;01mexcept\u001b[39;00m requests\u001b[38;5;241m.\u001b[39mHTTPError \u001b[38;5;28;01mas\u001b[39;00m exception:\n\u001b[0;32m     43\u001b[0m     \u001b[38;5;28;01mif\u001b[39;00m (\n\u001b[0;32m     44\u001b[0m         exception\u001b[38;5;241m.\u001b[39mresponse\u001b[38;5;241m.\u001b[39mstatus_code \u001b[38;5;241m<\u001b[39m requests\u001b[38;5;241m.\u001b[39mstatus_codes\u001b[38;5;241m.\u001b[39mcodes\u001b[38;5;241m.\u001b[39mINTERNAL_SERVER_ERROR\n\u001b[0;32m     45\u001b[0m         \u001b[38;5;129;01mand\u001b[39;00m exception\u001b[38;5;241m.\u001b[39mresponse\u001b[38;5;241m.\u001b[39mstatus_code \u001b[38;5;241m!=\u001b[39m requests\u001b[38;5;241m.\u001b[39mstatus_codes\u001b[38;5;241m.\u001b[39mcodes\u001b[38;5;241m.\u001b[39mTOO_MANY_REQUESTS\n\u001b[0;32m     46\u001b[0m     ):\n\u001b[1;32m---> 47\u001b[0m         \u001b[38;5;28;01mraise\u001b[39;00m DownloadFailedException(\n\u001b[0;32m     48\u001b[0m             _create_download_failed_message(exception, request\u001b[38;5;241m.\u001b[39murl), request_exception\u001b[38;5;241m=\u001b[39mexception\n\u001b[0;32m     49\u001b[0m         ) \u001b[38;5;28;01mfrom\u001b[39;00m \u001b[38;5;21;01mexception\u001b[39;00m\n\u001b[0;32m     50\u001b[0m     \u001b[38;5;28;01mraise\u001b[39;00m exception \u001b[38;5;28;01mfrom\u001b[39;00m \u001b[38;5;21;01mexception\u001b[39;00m\n",
      "\u001b[1;31mDownloadFailedException\u001b[0m: Failed to download from:\nhttps://services.sentinel-hub.com/api/v1/process\nwith HTTPError:\n403 Client Error: Forbidden for url: https://services.sentinel-hub.com/api/v1/process\nServer response: \"{\"status\": 403, \"reason\": \"Forbidden\", \"message\": \"Invalid or expired account.\", \"code\": \"COMMON_INSUFFICIENT_PERMISSIONS\"}\""
     ]
    }
   ],
   "source": [
    "#API request\n",
    "all_bands_response = request_all_bands.get_data()"
   ]
  },
  {
   "cell_type": "code",
   "execution_count": null,
   "id": "6ec9c6b5",
   "metadata": {
    "ExecuteTime": {
     "end_time": "2022-10-11T05:37:17.507691Z",
     "start_time": "2022-10-11T05:37:17.507691Z"
    }
   },
   "outputs": [],
   "source": [
    "#visualize RGB\n",
    "plot_image(all_bands_response[0][:, :, [1, 2, 3]], factor=3.5 / 1e4, clip_range=(0, 1))"
   ]
  },
  {
   "cell_type": "code",
   "execution_count": 18,
   "id": "8d8a6ea3",
   "metadata": {
    "ExecuteTime": {
     "end_time": "2022-09-27T11:12:41.379940Z",
     "start_time": "2022-09-27T11:12:29.659541Z"
    }
   },
   "outputs": [],
   "source": [
    "all_bands_img = request_all_bands.get_data(save_data=True)"
   ]
  },
  {
   "cell_type": "markdown",
   "id": "c39fd78b",
   "metadata": {},
   "source": [
    "rename the file"
   ]
  },
  {
   "cell_type": "code",
   "execution_count": 10,
   "id": "04c757be",
   "metadata": {
    "ExecuteTime": {
     "end_time": "2022-10-11T03:51:14.876531Z",
     "start_time": "2022-10-11T03:51:14.862574Z"
    }
   },
   "outputs": [],
   "source": [
    "list_of_files = glob.glob(r'C:\\Users\\Harith\\EngenuityAI\\SPE\\SPE testing\\SPE-testing\\Sentinel-hub API\\Data\\*') # * means all if need specific format then *.csv"
   ]
  },
  {
   "cell_type": "code",
   "execution_count": 11,
   "id": "81b0b4d0",
   "metadata": {
    "ExecuteTime": {
     "end_time": "2022-10-11T03:51:15.350237Z",
     "start_time": "2022-10-11T03:51:15.330331Z"
    }
   },
   "outputs": [
    {
     "name": "stdout",
     "output_type": "stream",
     "text": [
      "C:\\Users\\Harith\\EngenuityAI\\SPE\\SPE testing\\SPE-testing\\Sentinel-hub API\\Data\\05fcfd50ddb933d26862424c909c4870\n"
     ]
    }
   ],
   "source": [
    "latest_file = max(list_of_files, key=os.path.getctime)\n",
    "print(latest_file)"
   ]
  },
  {
   "cell_type": "code",
   "execution_count": 12,
   "id": "d34f23fd",
   "metadata": {
    "ExecuteTime": {
     "end_time": "2022-10-11T03:51:16.945177Z",
     "start_time": "2022-10-11T03:51:16.937199Z"
    }
   },
   "outputs": [],
   "source": [
    "new_name = r'C:\\Users\\Harith\\EngenuityAI\\SPE\\SPE testing\\SPE-testing\\Sentinel-hub API\\Data\\triangle'\n",
    "os.rename(latest_file, new_name)"
   ]
  },
  {
   "cell_type": "code",
   "execution_count": null,
   "id": "a200b38d",
   "metadata": {},
   "outputs": [],
   "source": []
  }
 ],
 "metadata": {
  "kernelspec": {
   "display_name": "Python 3 (ipykernel)",
   "language": "python",
   "name": "python3"
  },
  "language_info": {
   "codemirror_mode": {
    "name": "ipython",
    "version": 3
   },
   "file_extension": ".py",
   "mimetype": "text/x-python",
   "name": "python",
   "nbconvert_exporter": "python",
   "pygments_lexer": "ipython3",
   "version": "3.8.13"
  },
  "toc": {
   "base_numbering": 1,
   "nav_menu": {},
   "number_sections": true,
   "sideBar": true,
   "skip_h1_title": false,
   "title_cell": "Table of Contents",
   "title_sidebar": "Contents",
   "toc_cell": false,
   "toc_position": {},
   "toc_section_display": true,
   "toc_window_display": false
  }
 },
 "nbformat": 4,
 "nbformat_minor": 5
}

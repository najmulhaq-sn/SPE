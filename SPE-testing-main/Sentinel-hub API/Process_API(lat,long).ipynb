{
 "cells": [
  {
   "cell_type": "markdown",
   "id": "2b8dea67",
   "metadata": {},
   "source": [
    "# imports"
   ]
  },
  {
   "cell_type": "code",
   "execution_count": 20,
   "id": "0a1d1701",
   "metadata": {
    "ExecuteTime": {
     "end_time": "2022-10-10T06:53:37.265429Z",
     "start_time": "2022-10-10T06:53:37.125437Z"
    }
   },
   "outputs": [],
   "source": [
    "%reload_ext autoreload\n",
    "%autoreload 2\n",
    "%matplotlib inline"
   ]
  },
  {
   "cell_type": "code",
   "execution_count": 21,
   "id": "8181948e",
   "metadata": {
    "ExecuteTime": {
     "end_time": "2022-10-10T06:53:38.229514Z",
     "start_time": "2022-10-10T06:53:38.083285Z"
    }
   },
   "outputs": [],
   "source": [
    "import datetime\n",
    "import os\n",
    "import matplotlib.pyplot as plt\n",
    "import numpy as np\n",
    "import pandas as pd\n",
    "# The following is not a package. It is a file utils.py which should be in the same folder as this notebook.\n",
    "from utils import plot_image\n",
    "from datetime import datetime\n",
    "from dateutil.relativedelta import relativedelta"
   ]
  },
  {
   "cell_type": "code",
   "execution_count": 22,
   "id": "696700ce",
   "metadata": {
    "ExecuteTime": {
     "end_time": "2022-10-10T06:53:38.995175Z",
     "start_time": "2022-10-10T06:53:38.848533Z"
    }
   },
   "outputs": [],
   "source": [
    "from sentinelhub import SHConfig\n",
    "config = SHConfig()"
   ]
  },
  {
   "cell_type": "code",
   "execution_count": 34,
   "id": "5007db76",
   "metadata": {
    "ExecuteTime": {
     "end_time": "2022-10-10T06:54:30.904198Z",
     "start_time": "2022-10-10T06:54:30.765872Z"
    }
   },
   "outputs": [],
   "source": [
    "#create an client and instance on sentinal-hub\n",
    "config.sh_client_id = '1543b9e6-3abf-441b-9f19-0c8b70b925b2'\n",
    "config.sh_client_secret = 'J2H.z_4ENpdQomb)Q1t*f-u?Zh<{)TH1Cd4JmQMv'\n",
    "config.instance_id = \"d6043a1f-543a-453e-acd6-8f90b6b74f56\"\n",
    "config.save()"
   ]
  },
  {
   "cell_type": "code",
   "execution_count": 24,
   "id": "f24836d3",
   "metadata": {
    "ExecuteTime": {
     "end_time": "2022-10-10T06:53:40.385316Z",
     "start_time": "2022-10-10T06:53:40.237268Z"
    }
   },
   "outputs": [],
   "source": [
    "if not config.sh_client_id or not config.sh_client_secret:\n",
    "    print(\"Warning! To use Process API, please provide the credentials (OAuth client ID and client secret).\")"
   ]
  },
  {
   "cell_type": "code",
   "execution_count": 25,
   "id": "b2074f03",
   "metadata": {
    "ExecuteTime": {
     "end_time": "2022-10-10T06:53:41.479972Z",
     "start_time": "2022-10-10T06:53:41.338312Z"
    }
   },
   "outputs": [],
   "source": [
    "from sentinelhub import (\n",
    "    CRS,\n",
    "    BBox,\n",
    "    Geometry,\n",
    "    DataCollection,\n",
    "    DownloadRequest,\n",
    "    MimeType,\n",
    "    MosaickingOrder,\n",
    "    SentinelHubDownloadClient,\n",
    "    SentinelHubRequest,\n",
    "    bbox_to_dimensions,\n",
    ")"
   ]
  },
  {
   "cell_type": "markdown",
   "id": "7b7ad58f",
   "metadata": {},
   "source": [
    "# Setting area of interest"
   ]
  },
  {
   "cell_type": "code",
   "execution_count": 26,
   "id": "5dcf551e",
   "metadata": {
    "ExecuteTime": {
     "end_time": "2022-10-10T06:53:42.409802Z",
     "start_time": "2022-10-10T06:53:42.261264Z"
    }
   },
   "outputs": [],
   "source": [
    "poly = [[7.090278,80.554440],[7.090278,80.554170],[7.091667,80.555280],[7.090833,80.555000]]\n",
    "poly = [[7.090278,80.55444],[7.090278,80.55417],[7.090556,80.55222],[7.090278,80.55167],[7.09,80.55083],[7.091389,80.54806],[7.093056,80.55],[7.093333,80.55083],[7.094167,80.55306],[7.094167,80.55333],[7.093889,80.55417],[7.093611,80.555],[7.0925,80.55528],[7.091667,80.55528],[7.090833,80.555]]\n",
    "\n"
   ]
  },
  {
   "cell_type": "code",
   "execution_count": 27,
   "id": "3c863974",
   "metadata": {
    "ExecuteTime": {
     "end_time": "2022-10-10T06:53:42.735064Z",
     "start_time": "2022-10-10T06:53:42.580059Z"
    }
   },
   "outputs": [],
   "source": [
    "def bbox_cord(poly):\n",
    "    poly_arr = np.array(poly)\n",
    "    df = pd.DataFrame(poly_arr, columns = ['long','lat'])\n",
    "    Xmin = df['lat'].min()\n",
    "    Ymin = df['long'].min()\n",
    "    Xmax = df['lat'].max()\n",
    "    Ymax = df['long'].max()\n",
    "    bbox = [Xmin,Ymin,Xmax,Ymax]\n",
    "    i = [1,0]\n",
    "    output = poly_arr[:,i]\n",
    "    output = output.tolist()\n",
    "    return bbox,output"
   ]
  },
  {
   "cell_type": "code",
   "execution_count": 28,
   "id": "1c11633b",
   "metadata": {
    "ExecuteTime": {
     "end_time": "2022-10-10T06:53:43.291818Z",
     "start_time": "2022-10-10T06:53:43.143541Z"
    }
   },
   "outputs": [
    {
     "data": {
      "text/plain": [
       "[80.54806, 7.09, 80.55528, 7.094167]"
      ]
     },
     "execution_count": 28,
     "metadata": {},
     "output_type": "execute_result"
    }
   ],
   "source": [
    "bbox_generated,poly = bbox_cord(poly)\n",
    "bbox_generated"
   ]
  },
  {
   "cell_type": "code",
   "execution_count": 29,
   "id": "4611bc9a",
   "metadata": {
    "ExecuteTime": {
     "end_time": "2022-10-10T06:53:44.361556Z",
     "start_time": "2022-10-10T06:53:44.214137Z"
    }
   },
   "outputs": [],
   "source": [
    "final_bbox = BBox(bbox=bbox_generated, crs=CRS.WGS84)\n",
    "geometry = Geometry(geometry={\"type\":\"Polygon\",\"coordinates\":[poly]}, crs=CRS.WGS84)\n"
   ]
  },
  {
   "cell_type": "code",
   "execution_count": 30,
   "id": "33b26d4e",
   "metadata": {
    "ExecuteTime": {
     "end_time": "2022-10-10T06:53:44.668918Z",
     "start_time": "2022-10-10T06:53:44.522489Z"
    }
   },
   "outputs": [
    {
     "name": "stdout",
     "output_type": "stream",
     "text": [
      "Image shape at 10 m resolution: (80, 46) pixels\n"
     ]
    }
   ],
   "source": [
    "resolution =10\n",
    "box_size = bbox_to_dimensions(final_bbox, resolution= resolution)\n",
    "print(f\"Image shape at {resolution} m resolution: {box_size} pixels\")"
   ]
  },
  {
   "cell_type": "code",
   "execution_count": 31,
   "id": "a091dbe2",
   "metadata": {
    "ExecuteTime": {
     "end_time": "2022-10-10T06:53:44.949454Z",
     "start_time": "2022-10-10T06:53:44.798833Z"
    }
   },
   "outputs": [],
   "source": [
    "#date range\n",
    "current_date = datetime.today().strftime('%Y-%m-%d')\n",
    "past_date = datetime.today() - relativedelta(months=6)\n",
    "past_date = past_date.strftime('%Y-%m-%d')"
   ]
  },
  {
   "cell_type": "code",
   "execution_count": 32,
   "id": "55b77a2e",
   "metadata": {
    "ExecuteTime": {
     "end_time": "2022-10-10T06:53:45.227412Z",
     "start_time": "2022-10-10T06:53:45.071140Z"
    }
   },
   "outputs": [],
   "source": [
    "evalscript_all_bands = \"\"\"\n",
    "    //VERSION=3\n",
    "    function setup() {\n",
    "        return {\n",
    "            input: [{\n",
    "                bands: [\"B02\",\"B03\",\"B04\",\"B08\"],\n",
    "                units: \"DN\"\n",
    "            }],\n",
    "            output: {\n",
    "                bands: 4,\n",
    "                sampleType: \"float32\" \n",
    "            }\n",
    "        };\n",
    "    }\n",
    "\n",
    "    function evaluatePixel(sample) {\n",
    "        return [sample.B02,\n",
    "                sample.B03,\n",
    "                sample.B04,\n",
    "                sample.B08,\n",
    "];\n",
    "    }\n",
    "\"\"\"\n",
    "#32 bit Tiff output wuth 4 bands\n",
    "request_all_bands = SentinelHubRequest(\n",
    "    data_folder=\"Data\", #data store directory\n",
    "    evalscript=evalscript_all_bands,\n",
    "    input_data=[\n",
    "        SentinelHubRequest.input_data(\n",
    "            data_collection=DataCollection.SENTINEL2_L1C,\n",
    "            time_interval=( past_date,current_date),\n",
    "            mosaicking_order=MosaickingOrder.LEAST_CC,\n",
    "            other_args={\"dataFilter\": {\"maxCloudCoverage\": 50}},\n",
    "        )\n",
    "    ],\n",
    "    responses=[SentinelHubRequest.output_response(\"default\", MimeType.TIFF)],\n",
    "    bbox=final_bbox,\n",
    "    size=box_size,\n",
    "    geometry = geometry,\n",
    "    config=config,\n",
    ")"
   ]
  },
  {
   "cell_type": "code",
   "execution_count": 35,
   "id": "327ac285",
   "metadata": {
    "ExecuteTime": {
     "end_time": "2022-10-10T06:54:43.768449Z",
     "start_time": "2022-10-10T06:54:40.469842Z"
    }
   },
   "outputs": [],
   "source": [
    "#API request\n",
    "all_bands_response = request_all_bands.get_data()"
   ]
  },
  {
   "cell_type": "code",
   "execution_count": 37,
   "id": "6ec9c6b5",
   "metadata": {
    "ExecuteTime": {
     "end_time": "2022-10-10T06:55:17.533949Z",
     "start_time": "2022-10-10T06:55:17.226348Z"
    }
   },
   "outputs": [
    {
     "data": {
      "image/png": "[encoded data removed]",
      "text/plain": [
       "<Figure size 1500x1500 with 1 Axes>"
      ]
     },
     "metadata": {},
     "output_type": "display_data"
    }
   ],
   "source": [
    "#visualize RGB\n",
    "plot_image(all_bands_response[0][:, :, [0, 1, 2]], factor=3.5 / 1e4, clip_range=(0, 1))"
   ]
  },
  {
   "cell_type": "code",
   "execution_count": 39,
   "id": "8d8a6ea3",
   "metadata": {
    "ExecuteTime": {
     "end_time": "2022-10-10T09:17:12.680275Z",
     "start_time": "2022-10-10T09:17:12.485172Z"
    }
   },
   "outputs": [
    {
     "ename": "TypeError",
     "evalue": "get_data() got an unexpected keyword argument 'file'",
     "output_type": "error",
     "traceback": [
      "\u001b[1;31m---------------------------------------------------------------------------\u001b[0m",
      "\u001b[1;31mTypeError\u001b[0m                                 Traceback (most recent call last)",
      "Cell \u001b[1;32mIn [39], line 1\u001b[0m\n\u001b[1;32m----> 1\u001b[0m all_bands_img \u001b[38;5;241m=\u001b[39m \u001b[43mrequest_all_bands\u001b[49m\u001b[38;5;241;43m.\u001b[39;49m\u001b[43mget_data\u001b[49m\u001b[43m(\u001b[49m\u001b[43msave_data\u001b[49m\u001b[38;5;241;43m=\u001b[39;49m\u001b[38;5;28;43;01mTrue\u001b[39;49;00m\u001b[43m,\u001b[49m\u001b[43mfile\u001b[49m\u001b[38;5;241;43m=\u001b[39;49m\u001b[38;5;124;43m'\u001b[39;49m\u001b[38;5;124;43mnew\u001b[39;49m\u001b[38;5;124;43m'\u001b[39;49m\u001b[43m)\u001b[49m\n",
      "\u001b[1;31mTypeError\u001b[0m: get_data() got an unexpected keyword argument 'file'"
     ]
    }
   ],
   "source": [
    "all_bands_img = request_all_bands.get_data(save_data=True)"
   ]
  },
  {
   "cell_type": "code",
   "execution_count": 41,
   "id": "64209218",
   "metadata": {
    "ExecuteTime": {
     "end_time": "2022-10-10T10:18:26.305558Z",
     "start_time": "2022-10-10T10:18:26.160222Z"
    }
   },
   "outputs": [],
   "source": [
    "file= r\"C:\\Users\\Harith\\EngenuityAI\\SPE\\SPE testing\\SPE-testing\\Sentinel-hub API\\Data\""
   ]
  },
  {
   "cell_type": "code",
   "execution_count": 43,
   "id": "f3329d84",
   "metadata": {
    "ExecuteTime": {
     "end_time": "2022-10-10T10:18:36.822370Z",
     "start_time": "2022-10-10T10:18:36.655097Z"
    }
   },
   "outputs": [
    {
     "ename": "AttributeError",
     "evalue": "'numpy.ndarray' object has no attribute 'save'",
     "output_type": "error",
     "traceback": [
      "\u001b[1;31m---------------------------------------------------------------------------\u001b[0m",
      "\u001b[1;31mAttributeError\u001b[0m                            Traceback (most recent call last)",
      "Cell \u001b[1;32mIn [43], line 1\u001b[0m\n\u001b[1;32m----> 1\u001b[0m \u001b[43mall_bands_response\u001b[49m\u001b[43m[\u001b[49m\u001b[38;5;241;43m0\u001b[39;49m\u001b[43m]\u001b[49m\u001b[43m[\u001b[49m\u001b[43m:\u001b[49m\u001b[43m,\u001b[49m\u001b[43m \u001b[49m\u001b[43m:\u001b[49m\u001b[43m,\u001b[49m\u001b[43m \u001b[49m\u001b[43m[\u001b[49m\u001b[38;5;241;43m0\u001b[39;49m\u001b[43m,\u001b[49m\u001b[43m \u001b[49m\u001b[38;5;241;43m1\u001b[39;49m\u001b[43m,\u001b[49m\u001b[43m \u001b[49m\u001b[38;5;241;43m2\u001b[39;49m\u001b[43m]\u001b[49m\u001b[43m]\u001b[49m\u001b[38;5;241;43m.\u001b[39;49m\u001b[43msave\u001b[49m(file\u001b[38;5;241m+\u001b[39m\u001b[38;5;124m\"\u001b[39m\u001b[38;5;124m\\\u001b[39m\u001b[38;5;124mgampola.tif\u001b[39m\u001b[38;5;124m\"\u001b[39m)\n",
      "\u001b[1;31mAttributeError\u001b[0m: 'numpy.ndarray' object has no attribute 'save'"
     ]
    }
   ],
   "source": [
    "all_bands_response[0][:, :, [0, 1, 2]].save(file+\"\\gampola.tif\")"
   ]
  },
  {
   "cell_type": "code",
   "execution_count": null,
   "id": "f51cbcab",
   "metadata": {},
   "outputs": [],
   "source": []
  }
 ],
 "metadata": {
  "kernelspec": {
   "display_name": "Python 3 (ipykernel)",
   "language": "python",
   "name": "python3"
  },
  "language_info": {
   "codemirror_mode": {
    "name": "ipython",
    "version": 3
   },
   "file_extension": ".py",
   "mimetype": "text/x-python",
   "name": "python",
   "nbconvert_exporter": "python",
   "pygments_lexer": "ipython3",
   "version": "3.8.13"
  },
  "toc": {
   "base_numbering": 1,
   "nav_menu": {},
   "number_sections": true,
   "sideBar": true,
   "skip_h1_title": false,
   "title_cell": "Table of Contents",
   "title_sidebar": "Contents",
   "toc_cell": false,
   "toc_position": {},
   "toc_section_display": true,
   "toc_window_display": false
  }
 },
 "nbformat": 4,
 "nbformat_minor": 5
}

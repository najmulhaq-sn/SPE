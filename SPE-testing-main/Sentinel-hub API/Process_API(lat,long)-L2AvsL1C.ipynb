{
 "cells": [
  {
   "cell_type": "markdown",
   "id": "2b8dea67",
   "metadata": {},
   "source": [
    "# imports"
   ]
  },
  {
   "cell_type": "code",
   "execution_count": 1,
   "id": "0a1d1701",
   "metadata": {
    "ExecuteTime": {
     "end_time": "2022-10-10T07:12:08.593595Z",
     "start_time": "2022-10-10T07:12:07.093551Z"
    }
   },
   "outputs": [],
   "source": [
    "%reload_ext autoreload\n",
    "%autoreload 2\n",
    "%matplotlib inline"
   ]
  },
  {
   "cell_type": "code",
   "execution_count": 2,
   "id": "8181948e",
   "metadata": {
    "ExecuteTime": {
     "end_time": "2022-10-10T07:12:09.477597Z",
     "start_time": "2022-10-10T07:12:08.599869Z"
    }
   },
   "outputs": [],
   "source": [
    "import datetime\n",
    "import os\n",
    "import matplotlib.pyplot as plt\n",
    "import numpy as np\n",
    "import pandas as pd\n",
    "# The following is not a package. It is a file utils.py which should be in the same folder as this notebook.\n",
    "from utils import plot_image\n",
    "from datetime import datetime\n",
    "from dateutil.relativedelta import relativedelta"
   ]
  },
  {
   "cell_type": "code",
   "execution_count": 3,
   "id": "696700ce",
   "metadata": {
    "ExecuteTime": {
     "end_time": "2022-10-10T07:12:10.037635Z",
     "start_time": "2022-10-10T07:12:09.479551Z"
    }
   },
   "outputs": [
    {
     "name": "stderr",
     "output_type": "stream",
     "text": [
      "C:\\Users\\Harith\\anaconda3\\envs\\sentinal\\lib\\site-packages\\tqdm\\auto.py:22: TqdmWarning: IProgress not found. Please update jupyter and ipywidgets. See https://ipywidgets.readthedocs.io/en/stable/user_install.html\n",
      "  from .autonotebook import tqdm as notebook_tqdm\n"
     ]
    }
   ],
   "source": [
    "from sentinelhub import SHConfig\n",
    "config = SHConfig()"
   ]
  },
  {
   "cell_type": "code",
   "execution_count": 4,
   "id": "5007db76",
   "metadata": {
    "ExecuteTime": {
     "end_time": "2022-10-10T07:12:10.162952Z",
     "start_time": "2022-10-10T07:12:10.041625Z"
    }
   },
   "outputs": [],
   "source": [
    "#create an client and instance on sentinal-hub\n",
    "config.sh_client_id = '1543b9e6-3abf-441b-9f19-0c8b70b925b2'\n",
    "config.sh_client_secret = 'J2H.z_4ENpdQomb)Q1t*f-u?Zh<{)TH1Cd4JmQMv'\n",
    "config.instance_id = \"d6043a1f-543a-453e-acd6-8f90b6b74f56\"\n",
    "config.save()"
   ]
  },
  {
   "cell_type": "code",
   "execution_count": 5,
   "id": "f24836d3",
   "metadata": {
    "ExecuteTime": {
     "end_time": "2022-10-10T07:12:10.286483Z",
     "start_time": "2022-10-10T07:12:10.165597Z"
    }
   },
   "outputs": [],
   "source": [
    "if not config.sh_client_id or not config.sh_client_secret:\n",
    "    print(\"Warning! To use Process API, please provide the credentials (OAuth client ID and client secret).\")"
   ]
  },
  {
   "cell_type": "code",
   "execution_count": 6,
   "id": "b2074f03",
   "metadata": {
    "ExecuteTime": {
     "end_time": "2022-10-10T07:12:10.488503Z",
     "start_time": "2022-10-10T07:12:10.298152Z"
    }
   },
   "outputs": [],
   "source": [
    "from sentinelhub import (\n",
    "    CRS,\n",
    "    BBox,\n",
    "    Geometry,\n",
    "    DataCollection,\n",
    "    DownloadRequest,\n",
    "    MimeType,\n",
    "    MosaickingOrder,\n",
    "    SentinelHubDownloadClient,\n",
    "    SentinelHubRequest,\n",
    "    bbox_to_dimensions,\n",
    ")"
   ]
  },
  {
   "cell_type": "markdown",
   "id": "7b7ad58f",
   "metadata": {},
   "source": [
    "# Setting area of interest"
   ]
  },
  {
   "cell_type": "code",
   "execution_count": 7,
   "id": "5dcf551e",
   "metadata": {
    "ExecuteTime": {
     "end_time": "2022-10-10T07:12:10.892452Z",
     "start_time": "2022-10-10T07:12:10.491492Z"
    }
   },
   "outputs": [],
   "source": [
    "poly = [[7.090278,80.554440],[7.090278,80.554170],[7.091667,80.555280],[7.090833,80.555000]]\n",
    "poly = [[7.090278,80.55444],[7.090278,80.55417],[7.090556,80.55222],[7.090278,80.55167],[7.09,80.55083],[7.091389,80.54806],[7.093056,80.55],[7.093333,80.55083],[7.094167,80.55306],[7.094167,80.55333],[7.093889,80.55417],[7.093611,80.555],[7.0925,80.55528],[7.091667,80.55528],[7.090833,80.555]]\n",
    "\n"
   ]
  },
  {
   "cell_type": "code",
   "execution_count": 8,
   "id": "3c863974",
   "metadata": {
    "ExecuteTime": {
     "end_time": "2022-10-10T07:12:11.372160Z",
     "start_time": "2022-10-10T07:12:10.895191Z"
    }
   },
   "outputs": [],
   "source": [
    "def bbox_cord(poly):\n",
    "    poly_arr = np.array(poly)\n",
    "    df = pd.DataFrame(poly_arr, columns = ['long','lat'])\n",
    "    Xmin = df['lat'].min()\n",
    "    Ymin = df['long'].min()\n",
    "    Xmax = df['lat'].max()\n",
    "    Ymax = df['long'].max()\n",
    "    bbox = [Xmin,Ymin,Xmax,Ymax]\n",
    "    i = [1,0]\n",
    "    output = poly_arr[:,i]\n",
    "    output = output.tolist()\n",
    "    return bbox,output"
   ]
  },
  {
   "cell_type": "code",
   "execution_count": 9,
   "id": "1c11633b",
   "metadata": {
    "ExecuteTime": {
     "end_time": "2022-10-10T07:12:11.698581Z",
     "start_time": "2022-10-10T07:12:11.384780Z"
    }
   },
   "outputs": [
    {
     "data": {
      "text/plain": [
       "[80.54806, 7.09, 80.55528, 7.094167]"
      ]
     },
     "execution_count": 9,
     "metadata": {},
     "output_type": "execute_result"
    }
   ],
   "source": [
    "bbox_generated,poly = bbox_cord(poly)\n",
    "bbox_generated"
   ]
  },
  {
   "cell_type": "code",
   "execution_count": 10,
   "id": "4611bc9a",
   "metadata": {
    "ExecuteTime": {
     "end_time": "2022-10-10T07:12:11.807430Z",
     "start_time": "2022-10-10T07:12:11.703572Z"
    }
   },
   "outputs": [],
   "source": [
    "final_bbox = BBox(bbox=bbox_generated, crs=CRS.WGS84)\n",
    "geometry = Geometry(geometry={\"type\":\"Polygon\",\"coordinates\":[poly]}, crs=CRS.WGS84)\n"
   ]
  },
  {
   "cell_type": "code",
   "execution_count": 11,
   "id": "33b26d4e",
   "metadata": {
    "ExecuteTime": {
     "end_time": "2022-10-10T07:12:16.709969Z",
     "start_time": "2022-10-10T07:12:16.618657Z"
    }
   },
   "outputs": [
    {
     "name": "stdout",
     "output_type": "stream",
     "text": [
      "Image shape at 10 m resolution: (80, 46) pixels\n"
     ]
    }
   ],
   "source": [
    "resolution =10\n",
    "box_size = bbox_to_dimensions(final_bbox, resolution= resolution)\n",
    "print(f\"Image shape at {resolution} m resolution: {box_size} pixels\")"
   ]
  },
  {
   "cell_type": "code",
   "execution_count": 12,
   "id": "a091dbe2",
   "metadata": {
    "ExecuteTime": {
     "end_time": "2022-10-10T07:12:16.880719Z",
     "start_time": "2022-10-10T07:12:16.805468Z"
    }
   },
   "outputs": [],
   "source": [
    "#date range\n",
    "current_date = datetime.today().strftime('%Y-%m-%d')\n",
    "past_date = datetime.today() - relativedelta(months=6)\n",
    "past_date = past_date.strftime('%Y-%m-%d')"
   ]
  },
  {
   "cell_type": "code",
   "execution_count": 26,
   "id": "55b77a2e",
   "metadata": {
    "ExecuteTime": {
     "end_time": "2022-10-10T09:03:17.690544Z",
     "start_time": "2022-10-10T09:03:17.604912Z"
    }
   },
   "outputs": [],
   "source": [
    "evalscript_all_bands = \"\"\"\n",
    "    //VERSION=3\n",
    "    function setup() {\n",
    "        return {\n",
    "            input: [{\n",
    "                bands: [\"B02\",\"B03\",\"B04\",\"B08\"],\n",
    "                units: \"DN\"\n",
    "            }],\n",
    "            output: {\n",
    "                bands: 4,\n",
    "                sampleType: \"float32\" \n",
    "            }\n",
    "        };\n",
    "    }\n",
    "\n",
    "    function evaluatePixel(sample) {\n",
    "        return [sample.B02,\n",
    "                sample.B03,\n",
    "                sample.B04,\n",
    "                sample.B08,\n",
    "];\n",
    "    }\n",
    "\"\"\"\n",
    "#32 bit Tiff output wuth 4 bands\n",
    "#L2A\n",
    "request_all_bandsl2a = SentinelHubRequest(\n",
    "    data_folder=\"Data\", #data store directory\n",
    "    evalscript=evalscript_all_bands,\n",
    "    input_data=[\n",
    "        SentinelHubRequest.input_data(\n",
    "            data_collection=DataCollection.SENTINEL2_L2A,\n",
    "            time_interval=( past_date,current_date),\n",
    "            mosaicking_order=MosaickingOrder.LEAST_CC,\n",
    "            other_args={\"dataFilter\": {\"maxCloudCoverage\": 50}},\n",
    "        )\n",
    "    ],\n",
    "    responses=[SentinelHubRequest.output_response(\"default\", MimeType.TIFF)],\n",
    "    bbox=final_bbox,\n",
    "    size=box_size,\n",
    "    geometry = geometry,\n",
    "    config=config,\n",
    ")\n",
    "#L1C\n",
    "request_all_bandsl1c = SentinelHubRequest(\n",
    "    data_folder=\"Data\", #data store directory\n",
    "    evalscript=evalscript_all_bands,\n",
    "    input_data=[\n",
    "        SentinelHubRequest.input_data(\n",
    "            data_collection=DataCollection.SENTINEL2_L1C,\n",
    "            time_interval=( past_date,current_date),\n",
    "            mosaicking_order=MosaickingOrder.LEAST_CC,\n",
    "            other_args={\"dataFilter\": {\"maxCloudCoverage\": 50}},\n",
    "        )\n",
    "    ],\n",
    "    responses=[SentinelHubRequest.output_response(\"default\", MimeType.TIFF)],\n",
    "    bbox=final_bbox,\n",
    "    size=box_size,\n",
    "    geometry = geometry,\n",
    "    config=config,\n",
    ")"
   ]
  },
  {
   "cell_type": "markdown",
   "id": "bdcb7181",
   "metadata": {},
   "source": [
    "# L2A"
   ]
  },
  {
   "cell_type": "code",
   "execution_count": 27,
   "id": "327ac285",
   "metadata": {
    "ExecuteTime": {
     "end_time": "2022-10-10T09:03:39.178892Z",
     "start_time": "2022-10-10T09:03:18.810104Z"
    }
   },
   "outputs": [
    {
     "data": {
      "image/png": "[encoded data removed]",
      "text/plain": [
       "<Figure size 1500x1500 with 1 Axes>"
      ]
     },
     "metadata": {},
     "output_type": "display_data"
    }
   ],
   "source": [
    "#API request L2A\n",
    "all_bands_response = request_all_bandsl2a.get_data()\n",
    "#visualize RGB\n",
    "plot_image(all_bands_response[0][:, :, [0, 1, 2]], factor=3.5 / 1e4, clip_range=(0, 1))"
   ]
  },
  {
   "cell_type": "markdown",
   "id": "be26c149",
   "metadata": {},
   "source": [
    "# L1C"
   ]
  },
  {
   "cell_type": "code",
   "execution_count": 28,
   "id": "6ec9c6b5",
   "metadata": {
    "ExecuteTime": {
     "end_time": "2022-10-10T09:03:41.983688Z",
     "start_time": "2022-10-10T09:03:39.181884Z"
    }
   },
   "outputs": [
    {
     "data": {
      "image/png": "[encoded data removed]",
      "text/plain": [
       "<Figure size 1500x1500 with 1 Axes>"
      ]
     },
     "metadata": {},
     "output_type": "display_data"
    }
   ],
   "source": [
    "#API request L1C\n",
    "all_bands_response = request_all_bandsl1c.get_data()\n",
    "#visualize RGB\n",
    "plot_image(all_bands_response[0][:, :, [0, 1, 2]], factor=3.5 / 1e4, clip_range=(0, 1))"
   ]
  },
  {
   "cell_type": "code",
   "execution_count": 29,
   "id": "8d8a6ea3",
   "metadata": {
    "ExecuteTime": {
     "end_time": "2022-10-10T09:08:33.001671Z",
     "start_time": "2022-10-10T09:08:24.229479Z"
    }
   },
   "outputs": [],
   "source": [
    "all_bands_img = request_all_bandsl2a.get_data(save_data=True)"
   ]
  },
  {
   "cell_type": "code",
   "execution_count": null,
   "id": "2d524fd0",
   "metadata": {},
   "outputs": [],
   "source": []
  }
 ],
 "metadata": {
  "kernelspec": {
   "display_name": "Python 3 (ipykernel)",
   "language": "python",
   "name": "python3"
  },
  "language_info": {
   "codemirror_mode": {
    "name": "ipython",
    "version": 3
   },
   "file_extension": ".py",
   "mimetype": "text/x-python",
   "name": "python",
   "nbconvert_exporter": "python",
   "pygments_lexer": "ipython3",
   "version": "3.8.13"
  },
  "toc": {
   "base_numbering": 1,
   "nav_menu": {},
   "number_sections": true,
   "sideBar": true,
   "skip_h1_title": false,
   "title_cell": "Table of Contents",
   "title_sidebar": "Contents",
   "toc_cell": false,
   "toc_position": {},
   "toc_section_display": true,
   "toc_window_display": false
  }
 },
 "nbformat": 4,
 "nbformat_minor": 5
}

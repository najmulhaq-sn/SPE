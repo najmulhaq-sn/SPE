{
 "cells": [
  {
   "cell_type": "markdown",
   "id": "35f12186",
   "metadata": {},
   "source": [
    "# Process API"
   ]
  },
  {
   "cell_type": "markdown",
   "id": "c13bd1ae",
   "metadata": {},
   "source": [
    "create an account on sentinal-hub, create a new client and save the credentials"
   ]
  },
  {
   "cell_type": "code",
   "execution_count": 1,
   "id": "adf2c755",
   "metadata": {
    "ExecuteTime": {
     "end_time": "2022-10-18T17:29:15.876110Z",
     "start_time": "2022-10-18T17:29:09.239313Z"
    }
   },
   "outputs": [],
   "source": [
    "from sentinelhub import SHConfig\n",
    "\n",
    "config = SHConfig()\n",
    "#create an client and instance on sentinal-hub\n",
    "config.sh_client_id = '1543b9e6-3abf-441b-9f19-0c8b70b925b2'\n",
    "config.sh_client_secret = 'J2H.z_4ENpdQomb)Q1t*f-u?Zh<{)TH1Cd4JmQMv'\n",
    "config.instance_id = \"d6043a1f-543a-453e-acd6-8f90b6b74f56\"\n",
    "config.save()\n",
    "if not config.sh_client_id or not config.sh_client_secret:\n",
    "    print(\"Warning! To use Process API, please provide the credentials (OAuth client ID and client secret).\")"
   ]
  },
  {
   "cell_type": "markdown",
   "id": "ed81a814",
   "metadata": {},
   "source": [
    "# Imports"
   ]
  },
  {
   "cell_type": "code",
   "execution_count": 2,
   "id": "b9a1cec5",
   "metadata": {
    "ExecuteTime": {
     "end_time": "2022-10-18T17:30:06.545018Z",
     "start_time": "2022-10-18T17:29:15.879155Z"
    }
   },
   "outputs": [],
   "source": [
    "%reload_ext autoreload\n",
    "%autoreload 2\n",
    "%matplotlib inline\n",
    "\n",
    "from datetime import datetime\n",
    "from dateutil.relativedelta import relativedelta\n",
    "import os\n",
    "import pandas as pd\n",
    "import matplotlib.pyplot as plt\n",
    "import numpy as np\n",
    "\n",
    "from sentinelhub import (\n",
    "    CRS,\n",
    "    BBox,\n",
    "    Geometry,\n",
    "    DataCollection,\n",
    "    DownloadRequest,\n",
    "    MimeType,\n",
    "    MosaickingOrder,\n",
    "    SentinelHubDownloadClient,\n",
    "    SentinelHubRequest,\n",
    "    bbox_to_dimensions,\n",
    ")\n",
    "\n",
    "# The following is not a package. It is a file utils.py which should be in the same folder as this notebook.\n",
    "from utils import plot_image\n",
    "from s2cloudless import CloudMaskRequest, S2PixelCloudDetector, get_s2_evalscript\n"
   ]
  },
  {
   "cell_type": "markdown",
   "id": "f9aa350e",
   "metadata": {},
   "source": [
    "Select Area"
   ]
  },
  {
   "cell_type": "code",
   "execution_count": 3,
   "id": "cad0b27f",
   "metadata": {
    "ExecuteTime": {
     "end_time": "2022-10-18T17:30:06.792349Z",
     "start_time": "2022-10-18T17:30:06.557977Z"
    }
   },
   "outputs": [],
   "source": [
    "poly = [[7.090278,80.55444],[7.090278,80.55417],[7.090556,80.55222],[7.090278,80.55167],[7.09,80.55083],[7.091389,80.54806],[7.093056,80.55],[7.093333,80.55083],[7.094167,80.55306],[7.094167,80.55333],[7.093889,80.55417],[7.093611,80.555],[7.0925,80.55528],[7.091667,80.55528],[7.090833,80.555]]\n"
   ]
  },
  {
   "cell_type": "code",
   "execution_count": 4,
   "id": "b8f6ac33",
   "metadata": {
    "ExecuteTime": {
     "end_time": "2022-10-18T17:30:07.575944Z",
     "start_time": "2022-10-18T17:30:06.801323Z"
    }
   },
   "outputs": [
    {
     "data": {
      "text/plain": [
       "[80.54806, 7.09, 80.55528, 7.094167]"
      ]
     },
     "execution_count": 4,
     "metadata": {},
     "output_type": "execute_result"
    }
   ],
   "source": [
    "#bounding box defining\n",
    "def bbox_cord(poly):\n",
    "    poly_arr = np.array(poly)\n",
    "    df = pd.DataFrame(poly_arr, columns = ['long','lat'])\n",
    "    Xmin = df['lat'].min()\n",
    "    Ymin = df['long'].min()\n",
    "    Xmax = df['lat'].max()\n",
    "    Ymax = df['long'].max()\n",
    "    bbox = [Xmin,Ymin,Xmax,Ymax]\n",
    "    i = [1,0]\n",
    "    output = poly_arr[:,i]\n",
    "    output = output.tolist()\n",
    "    return bbox,output\n",
    "bbox_generated,poly = bbox_cord(poly)\n",
    "bbox_generated"
   ]
  },
  {
   "cell_type": "code",
   "execution_count": 5,
   "id": "014c7ee2",
   "metadata": {
    "ExecuteTime": {
     "end_time": "2022-10-18T17:30:08.089720Z",
     "start_time": "2022-10-18T17:30:07.584918Z"
    }
   },
   "outputs": [
    {
     "data": {
      "text/plain": [
       "[[80.55444, 7.090278],\n",
       " [80.55417, 7.090278],\n",
       " [80.55222, 7.090556],\n",
       " [80.55167, 7.090278],\n",
       " [80.55083, 7.09],\n",
       " [80.54806, 7.091389],\n",
       " [80.55, 7.093056],\n",
       " [80.55083, 7.093333],\n",
       " [80.55306, 7.094167],\n",
       " [80.55333, 7.094167],\n",
       " [80.55417, 7.093889],\n",
       " [80.555, 7.093611],\n",
       " [80.55528, 7.0925],\n",
       " [80.55528, 7.091667],\n",
       " [80.555, 7.090833]]"
      ]
     },
     "execution_count": 5,
     "metadata": {},
     "output_type": "execute_result"
    }
   ],
   "source": [
    "poly"
   ]
  },
  {
   "cell_type": "code",
   "execution_count": 6,
   "id": "a58e8b69",
   "metadata": {
    "ExecuteTime": {
     "end_time": "2022-10-18T17:30:08.730121Z",
     "start_time": "2022-10-18T17:30:08.096706Z"
    }
   },
   "outputs": [],
   "source": [
    "#define diementions for the request\n",
    "final_bbox = BBox(bbox=bbox_generated, crs=CRS.WGS84)\n",
    "geometry = Geometry(geometry={\"type\":\"Polygon\",\"coordinates\":[poly]}, crs=CRS.WGS84)"
   ]
  },
  {
   "cell_type": "code",
   "execution_count": 7,
   "id": "13db9541",
   "metadata": {
    "ExecuteTime": {
     "end_time": "2022-10-18T17:30:09.694154Z",
     "start_time": "2022-10-18T17:30:08.745081Z"
    }
   },
   "outputs": [
    {
     "name": "stdout",
     "output_type": "stream",
     "text": [
      "Image shape at 10 m resolution: (80, 46) pixels\n"
     ]
    }
   ],
   "source": [
    "#resolution and size of the output\n",
    "resolution =10\n",
    "box_size = bbox_to_dimensions(final_bbox, resolution= resolution)\n",
    "print(f\"Image shape at {resolution} m resolution: {box_size} pixels\")"
   ]
  },
  {
   "cell_type": "code",
   "execution_count": 8,
   "id": "91af9961",
   "metadata": {
    "ExecuteTime": {
     "end_time": "2022-10-18T17:30:09.838720Z",
     "start_time": "2022-10-18T17:30:09.696088Z"
    }
   },
   "outputs": [
    {
     "name": "stdout",
     "output_type": "stream",
     "text": [
      "Monthly time windows:\n",
      "\n",
      "('2022-04-18', '2022-05-19')\n",
      "('2022-05-19', '2022-06-18')\n",
      "('2022-06-18', '2022-07-19')\n",
      "('2022-07-19', '2022-08-18')\n",
      "('2022-08-18', '2022-09-18')\n",
      "('2022-09-18', '2022-10-18')\n"
     ]
    }
   ],
   "source": [
    "#date range\n",
    "\n",
    "current_date = datetime.today()\n",
    "past_date = datetime.today() - relativedelta(months=6)\n",
    "n_chunks = 6\n",
    "tdelta = (current_date - past_date) / n_chunks\n",
    "edges = [(past_date + i * tdelta).date().isoformat() for i in range(n_chunks+1)]\n",
    "slots = [(edges[i], edges[i + 1]) for i in range(len(edges) - 1)]\n",
    "\n",
    "print(\"Monthly time windows:\\n\")\n",
    "for slot in slots:\n",
    "    print(slot)"
   ]
  },
  {
   "cell_type": "code",
   "execution_count": 9,
   "id": "c2e39583",
   "metadata": {
    "ExecuteTime": {
     "end_time": "2022-10-18T17:30:10.336810Z",
     "start_time": "2022-10-18T17:30:09.858656Z"
    }
   },
   "outputs": [],
   "source": [
    "evalscript_true_color = \"\"\"\n",
    "    //VERSION=3\n",
    "\n",
    "    function setup() {\n",
    "        return {\n",
    "            input: [{\n",
    "                bands: [\"B02\", \"B03\", \"B04\",\"B08\",\"CLM\"],\n",
    "                \n",
    "            }],\n",
    "            output: {\n",
    "                bands: 5,\n",
    "                sampleType: \"float32\"\n",
    "            }\n",
    "        };\n",
    "    }\n",
    "\n",
    "    function evaluatePixel(sample) {\n",
    "        return [sample.B02, sample.B03, sample.B04,sample.B08,sample.CLM];\n",
    "    }\n",
    "\"\"\"\n",
    "#32 bit Tiff output wuth 4 bands\n",
    "def request_all_bands(time_interval):\n",
    "    \n",
    "    return  SentinelHubRequest(\n",
    "        data_folder=\"Data\", #data store directory\n",
    "        evalscript=evalscript_true_color,\n",
    "        input_data=[\n",
    "            SentinelHubRequest.input_data(\n",
    "                data_collection=DataCollection.SENTINEL2_L2A,\n",
    "                time_interval=time_interval,\n",
    "                mosaicking_order=MosaickingOrder.LEAST_CC,\n",
    "                #other_args={\"dataFilter\": {\"maxCloudCoverage\": 50}},\n",
    "            )\n",
    "        ],\n",
    "        responses=[SentinelHubRequest.output_response(\"default\", MimeType.TIFF)],\n",
    "        bbox=final_bbox,\n",
    "        size=box_size,\n",
    "        #geometry = geometry,\n",
    "        config=config,\n",
    "    )"
   ]
  },
  {
   "cell_type": "code",
   "execution_count": 10,
   "id": "2f969ba7",
   "metadata": {
    "ExecuteTime": {
     "end_time": "2022-10-18T17:30:23.187552Z",
     "start_time": "2022-10-18T17:30:10.363720Z"
    }
   },
   "outputs": [
    {
     "data": {
      "text/plain": [
       "[[array([[[0.6744, 0.6308, 0.6148, 0.6232, 1.    ],\n",
       "          [0.7124, 0.6644, 0.6408, 0.6616, 1.    ],\n",
       "          [0.7216, 0.6984, 0.6732, 0.6808, 1.    ],\n",
       "          ...,\n",
       "          [0.8664, 0.8032, 0.7696, 0.7792, 1.    ],\n",
       "          [0.8928, 0.8376, 0.804 , 0.8152, 1.    ],\n",
       "          [0.9184, 0.8592, 0.8416, 0.836 , 1.    ]],\n",
       "  \n",
       "         [[0.6764, 0.6388, 0.622 , 0.6312, 1.    ],\n",
       "          [0.6988, 0.67  , 0.6476, 0.6524, 1.    ],\n",
       "          [0.662 , 0.6608, 0.6696, 0.6352, 1.    ],\n",
       "          ...,\n",
       "          [0.8712, 0.8168, 0.7848, 0.8008, 1.    ],\n",
       "          [0.8944, 0.8456, 0.8192, 0.8272, 1.    ],\n",
       "          [0.9264, 0.8712, 0.84  , 0.8504, 1.    ]],\n",
       "  \n",
       "         [[0.6708, 0.6372, 0.628 , 0.6368, 1.    ],\n",
       "          [0.6624, 0.6436, 0.63  , 0.62  , 1.    ],\n",
       "          [0.598 , 0.5968, 0.6216, 0.5884, 1.    ],\n",
       "          ...,\n",
       "          [0.8464, 0.828 , 0.8008, 0.7944, 1.    ],\n",
       "          [0.868 , 0.8424, 0.8288, 0.8056, 1.    ],\n",
       "          [0.8856, 0.8664, 0.8544, 0.824 , 1.    ]],\n",
       "  \n",
       "         ...,\n",
       "  \n",
       "         [[0.201 , 0.1998, 0.1954, 0.2684, 1.    ],\n",
       "          [0.2706, 0.2332, 0.2138, 0.3148, 1.    ],\n",
       "          [0.2968, 0.2588, 0.227 , 0.3412, 1.    ],\n",
       "          ...,\n",
       "          [0.8144, 0.792 , 0.784 , 0.7752, 1.    ],\n",
       "          [0.8328, 0.8048, 0.8072, 0.7792, 1.    ],\n",
       "          [0.8424, 0.8272, 0.844 , 0.7904, 1.    ]],\n",
       "  \n",
       "         [[0.2834, 0.2392, 0.2012, 0.322 , 1.    ],\n",
       "          [0.3384, 0.2946, 0.2566, 0.3716, 1.    ],\n",
       "          [0.336 , 0.305 , 0.2656, 0.3752, 1.    ],\n",
       "          ...,\n",
       "          [0.788 , 0.7728, 0.768 , 0.748 , 1.    ],\n",
       "          [0.8296, 0.7832, 0.776 , 0.7728, 1.    ],\n",
       "          [0.8464, 0.7992, 0.8024, 0.784 , 1.    ]],\n",
       "  \n",
       "         [[0.324 , 0.2998, 0.2608, 0.364 , 1.    ],\n",
       "          [0.348 , 0.3312, 0.3052, 0.3848, 1.    ],\n",
       "          [0.3404, 0.3264, 0.2996, 0.3824, 1.    ],\n",
       "          ...,\n",
       "          [0.756 , 0.7408, 0.7432, 0.7184, 1.    ],\n",
       "          [0.7984, 0.7824, 0.7696, 0.7568, 1.    ],\n",
       "          [0.8168, 0.7984, 0.7872, 0.7752, 1.    ]]], dtype=float32)],\n",
       " [array([[[0.8432, 0.7848, 0.7496, 0.772 , 1.    ],\n",
       "          [0.8424, 0.7776, 0.744 , 0.776 , 1.    ],\n",
       "          [0.8392, 0.7728, 0.7328, 0.768 , 1.    ],\n",
       "          ...,\n",
       "          [0.6636, 0.6552, 0.6396, 0.688 , 1.    ],\n",
       "          [0.6532, 0.6556, 0.6568, 0.682 , 1.    ],\n",
       "          [0.6592, 0.6564, 0.662 , 0.6768, 1.    ]],\n",
       "  \n",
       "         [[0.8232, 0.764 , 0.732 , 0.7632, 1.    ],\n",
       "          [0.8176, 0.756 , 0.7248, 0.7584, 1.    ],\n",
       "          [0.816 , 0.7456, 0.7148, 0.7536, 1.    ],\n",
       "          ...,\n",
       "          [0.702 , 0.666 , 0.624 , 0.7036, 1.    ],\n",
       "          [0.7036, 0.6884, 0.6568, 0.7076, 1.    ],\n",
       "          [0.7076, 0.694 , 0.668 , 0.7056, 1.    ]],\n",
       "  \n",
       "         [[0.8056, 0.7528, 0.7368, 0.7496, 1.    ],\n",
       "          [0.7968, 0.748 , 0.724 , 0.744 , 1.    ],\n",
       "          [0.7936, 0.7392, 0.714 , 0.7416, 1.    ],\n",
       "          ...,\n",
       "          [0.7216, 0.6568, 0.604 , 0.6968, 1.    ],\n",
       "          [0.7376, 0.6896, 0.6488, 0.7104, 1.    ],\n",
       "          [0.7328, 0.696 , 0.6664, 0.7152, 1.    ]],\n",
       "  \n",
       "         ...,\n",
       "  \n",
       "         [[0.7696, 0.7168, 0.6948, 0.7264, 1.    ],\n",
       "          [0.7552, 0.6984, 0.6704, 0.7164, 1.    ],\n",
       "          [0.7408, 0.6932, 0.6544, 0.706 , 1.    ],\n",
       "          ...,\n",
       "          [0.2514, 0.239 , 0.2226, 0.334 , 1.    ],\n",
       "          [0.274 , 0.2536, 0.2396, 0.3504, 1.    ],\n",
       "          [0.2916, 0.2678, 0.2546, 0.3628, 1.    ]],\n",
       "  \n",
       "         [[0.7504, 0.6976, 0.6844, 0.712 , 1.    ],\n",
       "          [0.7288, 0.6788, 0.6576, 0.6984, 1.    ],\n",
       "          [0.7172, 0.6696, 0.6408, 0.6844, 1.    ],\n",
       "          ...,\n",
       "          [0.2648, 0.2536, 0.2388, 0.344 , 1.    ],\n",
       "          [0.2864, 0.267 , 0.249 , 0.3608, 1.    ],\n",
       "          [0.2976, 0.282 , 0.2576, 0.3752, 1.    ]],\n",
       "  \n",
       "         [[0.7336, 0.6928, 0.68  , 0.7044, 1.    ],\n",
       "          [0.712 , 0.6724, 0.6572, 0.6876, 1.    ],\n",
       "          [0.6968, 0.664 , 0.6408, 0.6788, 1.    ],\n",
       "          ...,\n",
       "          [0.2814, 0.2692, 0.2432, 0.3608, 1.    ],\n",
       "          [0.3024, 0.2728, 0.2476, 0.3668, 1.    ],\n",
       "          [0.3066, 0.28  , 0.2476, 0.374 , 1.    ]]], dtype=float32)],\n",
       " [array([[[0.0326, 0.0487, 0.0296, 0.2484, 0.    ],\n",
       "          [0.0354, 0.0589, 0.0352, 0.35  , 0.    ],\n",
       "          [0.0324, 0.0588, 0.0321, 0.372 , 0.    ],\n",
       "          ...,\n",
       "          [0.031 , 0.0534, 0.0324, 0.283 , 0.    ],\n",
       "          [0.0272, 0.0436, 0.0247, 0.2732, 0.    ],\n",
       "          [0.028 , 0.0506, 0.0278, 0.314 , 0.    ]],\n",
       "  \n",
       "         [[0.0301, 0.0434, 0.0272, 0.2228, 0.    ],\n",
       "          [0.0332, 0.0532, 0.0308, 0.314 , 0.    ],\n",
       "          [0.0294, 0.054 , 0.0296, 0.3408, 0.    ],\n",
       "          ...,\n",
       "          [0.0292, 0.0448, 0.0278, 0.2888, 0.    ],\n",
       "          [0.027 , 0.0404, 0.0235, 0.2908, 0.    ],\n",
       "          [0.0325, 0.056 , 0.0278, 0.3856, 0.    ]],\n",
       "  \n",
       "         [[0.0296, 0.0387, 0.0256, 0.1938, 0.    ],\n",
       "          [0.033 , 0.0446, 0.0267, 0.2442, 0.    ],\n",
       "          [0.0283, 0.0446, 0.0258, 0.3002, 0.    ],\n",
       "          ...,\n",
       "          [0.0272, 0.0454, 0.025 , 0.2808, 0.    ],\n",
       "          [0.0253, 0.0383, 0.0239, 0.3112, 0.    ],\n",
       "          [0.0311, 0.0505, 0.0283, 0.4052, 0.    ]],\n",
       "  \n",
       "         ...,\n",
       "  \n",
       "         [[0.0256, 0.0353, 0.0214, 0.1926, 0.    ],\n",
       "          [0.0326, 0.0483, 0.0298, 0.2664, 0.    ],\n",
       "          [0.033 , 0.0468, 0.0278, 0.314 , 0.    ],\n",
       "          ...,\n",
       "          [0.0314, 0.0454, 0.0341, 0.2478, 0.    ],\n",
       "          [0.0257, 0.0373, 0.0268, 0.2654, 0.    ],\n",
       "          [0.035 , 0.0495, 0.035 , 0.362 , 0.    ]],\n",
       "  \n",
       "         [[0.0329, 0.044 , 0.0278, 0.2578, 0.    ],\n",
       "          [0.0361, 0.0498, 0.031 , 0.3034, 0.    ],\n",
       "          [0.0279, 0.046 , 0.0254, 0.3086, 0.    ],\n",
       "          ...,\n",
       "          [0.0414, 0.0534, 0.0422, 0.1926, 0.    ],\n",
       "          [0.035 , 0.049 , 0.0366, 0.2962, 0.    ],\n",
       "          [0.0403, 0.0538, 0.0351, 0.3772, 0.    ]],\n",
       "  \n",
       "         [[0.0353, 0.0546, 0.0334, 0.3086, 0.    ],\n",
       "          [0.0358, 0.0523, 0.032 , 0.3232, 0.    ],\n",
       "          [0.0326, 0.054 , 0.0285, 0.3544, 0.    ],\n",
       "          ...,\n",
       "          [0.0401, 0.0565, 0.0452, 0.2168, 0.    ],\n",
       "          [0.0348, 0.0536, 0.0384, 0.3444, 0.    ],\n",
       "          [0.0375, 0.0574, 0.0309, 0.3908, 0.    ]]], dtype=float32)],\n",
       " [array([[[0.0326, 0.0487, 0.0296, 0.2484, 0.    ],\n",
       "          [0.0354, 0.0589, 0.0352, 0.35  , 0.    ],\n",
       "          [0.0324, 0.0588, 0.0321, 0.372 , 0.    ],\n",
       "          ...,\n",
       "          [0.031 , 0.0534, 0.0324, 0.283 , 0.    ],\n",
       "          [0.0272, 0.0436, 0.0247, 0.2732, 0.    ],\n",
       "          [0.028 , 0.0506, 0.0278, 0.314 , 0.    ]],\n",
       "  \n",
       "         [[0.0301, 0.0434, 0.0272, 0.2228, 0.    ],\n",
       "          [0.0332, 0.0532, 0.0308, 0.314 , 0.    ],\n",
       "          [0.0294, 0.054 , 0.0296, 0.3408, 0.    ],\n",
       "          ...,\n",
       "          [0.0292, 0.0448, 0.0278, 0.2888, 0.    ],\n",
       "          [0.027 , 0.0404, 0.0235, 0.2908, 0.    ],\n",
       "          [0.0325, 0.056 , 0.0278, 0.3856, 0.    ]],\n",
       "  \n",
       "         [[0.0296, 0.0387, 0.0256, 0.1938, 0.    ],\n",
       "          [0.033 , 0.0446, 0.0267, 0.2442, 0.    ],\n",
       "          [0.0283, 0.0446, 0.0258, 0.3002, 0.    ],\n",
       "          ...,\n",
       "          [0.0272, 0.0454, 0.025 , 0.2808, 0.    ],\n",
       "          [0.0253, 0.0383, 0.0239, 0.3112, 0.    ],\n",
       "          [0.0311, 0.0505, 0.0283, 0.4052, 0.    ]],\n",
       "  \n",
       "         ...,\n",
       "  \n",
       "         [[0.0256, 0.0353, 0.0214, 0.1926, 0.    ],\n",
       "          [0.0326, 0.0483, 0.0298, 0.2664, 0.    ],\n",
       "          [0.033 , 0.0468, 0.0278, 0.314 , 0.    ],\n",
       "          ...,\n",
       "          [0.0314, 0.0454, 0.0341, 0.2478, 0.    ],\n",
       "          [0.0257, 0.0373, 0.0268, 0.2654, 0.    ],\n",
       "          [0.035 , 0.0495, 0.035 , 0.362 , 0.    ]],\n",
       "  \n",
       "         [[0.0329, 0.044 , 0.0278, 0.2578, 0.    ],\n",
       "          [0.0361, 0.0498, 0.031 , 0.3034, 0.    ],\n",
       "          [0.0279, 0.046 , 0.0254, 0.3086, 0.    ],\n",
       "          ...,\n",
       "          [0.0414, 0.0534, 0.0422, 0.1926, 0.    ],\n",
       "          [0.035 , 0.049 , 0.0366, 0.2962, 0.    ],\n",
       "          [0.0403, 0.0538, 0.0351, 0.3772, 0.    ]],\n",
       "  \n",
       "         [[0.0353, 0.0546, 0.0334, 0.3086, 0.    ],\n",
       "          [0.0358, 0.0523, 0.032 , 0.3232, 0.    ],\n",
       "          [0.0326, 0.054 , 0.0285, 0.3544, 0.    ],\n",
       "          ...,\n",
       "          [0.0401, 0.0565, 0.0452, 0.2168, 0.    ],\n",
       "          [0.0348, 0.0536, 0.0384, 0.3444, 0.    ],\n",
       "          [0.0375, 0.0574, 0.0309, 0.3908, 0.    ]]], dtype=float32)],\n",
       " [array([[[0.0645, 0.0865, 0.054 , 0.4048, 0.    ],\n",
       "          [0.0626, 0.0984, 0.0552, 0.5304, 0.    ],\n",
       "          [0.0593, 0.1016, 0.0532, 0.578 , 0.    ],\n",
       "          ...,\n",
       "          [0.0518, 0.0856, 0.0526, 0.3644, 0.    ],\n",
       "          [0.0398, 0.062 , 0.0341, 0.3792, 0.    ],\n",
       "          [0.0347, 0.0576, 0.0304, 0.4084, 0.    ]],\n",
       "  \n",
       "         [[0.0618, 0.0802, 0.0536, 0.3524, 0.    ],\n",
       "          [0.0571, 0.0825, 0.0518, 0.4332, 0.    ],\n",
       "          [0.057 , 0.0822, 0.0484, 0.482 , 0.    ],\n",
       "          ...,\n",
       "          [0.0461, 0.0725, 0.0401, 0.3884, 0.    ],\n",
       "          [0.037 , 0.0566, 0.0299, 0.3884, 0.    ],\n",
       "          [0.0412, 0.0613, 0.0334, 0.4256, 0.    ]],\n",
       "  \n",
       "         [[0.0614, 0.0816, 0.0554, 0.3108, 0.    ],\n",
       "          [0.0548, 0.0714, 0.0514, 0.3632, 0.    ],\n",
       "          [0.051 , 0.0744, 0.0473, 0.4472, 0.    ],\n",
       "          ...,\n",
       "          [0.0414, 0.0584, 0.0373, 0.3456, 0.    ],\n",
       "          [0.0354, 0.0515, 0.03  , 0.358 , 0.    ],\n",
       "          [0.0429, 0.0578, 0.0367, 0.404 , 0.    ]],\n",
       "  \n",
       "         ...,\n",
       "  \n",
       "         [[0.1468, 0.1592, 0.1574, 0.3464, 0.    ],\n",
       "          [0.0958, 0.111 , 0.1114, 0.2762, 0.    ],\n",
       "          [0.0766, 0.0843, 0.0777, 0.2366, 0.    ],\n",
       "          ...,\n",
       "          [0.0474, 0.0652, 0.0404, 0.3792, 0.    ],\n",
       "          [0.0558, 0.0722, 0.0564, 0.3268, 0.    ],\n",
       "          [0.0398, 0.0632, 0.0398, 0.412 , 0.    ]],\n",
       "  \n",
       "         [[0.1472, 0.1626, 0.1558, 0.3584, 0.    ],\n",
       "          [0.1044, 0.1254, 0.1226, 0.3136, 0.    ],\n",
       "          [0.0858, 0.1021, 0.0986, 0.2922, 0.    ],\n",
       "          ...,\n",
       "          [0.05  , 0.0668, 0.0524, 0.2658, 0.    ],\n",
       "          [0.0697, 0.0852, 0.0666, 0.281 , 0.    ],\n",
       "          [0.0422, 0.066 , 0.0436, 0.4216, 0.    ]],\n",
       "  \n",
       "         [[0.15  , 0.1536, 0.1316, 0.3456, 0.    ],\n",
       "          [0.1252, 0.1336, 0.12  , 0.3188, 0.    ],\n",
       "          [0.1092, 0.1206, 0.107 , 0.3006, 0.    ],\n",
       "          ...,\n",
       "          [0.0568, 0.0748, 0.0648, 0.2852, 0.    ],\n",
       "          [0.0636, 0.0751, 0.0646, 0.3256, 0.    ],\n",
       "          [0.044 , 0.0692, 0.0484, 0.4112, 0.    ]]], dtype=float32)],\n",
       " [array([[[0.1578, 0.1808, 0.166 , 0.4444, 0.    ],\n",
       "          [0.134 , 0.1632, 0.141 , 0.462 , 0.    ],\n",
       "          [0.1098, 0.1444, 0.122 , 0.4644, 0.    ],\n",
       "          ...,\n",
       "          [0.058 , 0.0952, 0.0628, 0.4236, 1.    ],\n",
       "          [0.0501, 0.0758, 0.0422, 0.45  , 1.    ],\n",
       "          [0.046 , 0.0759, 0.0404, 0.4948, 1.    ]],\n",
       "  \n",
       "         [[0.1458, 0.1654, 0.1506, 0.428 , 0.    ],\n",
       "          [0.1282, 0.1532, 0.1378, 0.4376, 0.    ],\n",
       "          [0.1096, 0.1424, 0.1224, 0.4416, 0.    ],\n",
       "          ...,\n",
       "          [0.0554, 0.0856, 0.0524, 0.4488, 1.    ],\n",
       "          [0.0489, 0.0755, 0.0414, 0.472 , 1.    ],\n",
       "          [0.0461, 0.0758, 0.0382, 0.5412, 1.    ]],\n",
       "  \n",
       "         [[0.143 , 0.151 , 0.1296, 0.396 , 0.    ],\n",
       "          [0.135 , 0.145 , 0.1122, 0.4028, 0.    ],\n",
       "          [0.1176, 0.1424, 0.1028, 0.4356, 0.    ],\n",
       "          ...,\n",
       "          [0.0514, 0.075 , 0.0486, 0.4068, 1.    ],\n",
       "          [0.0443, 0.0687, 0.0392, 0.4568, 1.    ],\n",
       "          [0.0496, 0.0728, 0.0414, 0.5392, 1.    ]],\n",
       "  \n",
       "         ...,\n",
       "  \n",
       "         [[0.0277, 0.0248, 0.0169, 0.0866, 1.    ],\n",
       "          [0.0254, 0.0233, 0.0157, 0.0805, 1.    ],\n",
       "          [0.0249, 0.0222, 0.0154, 0.0852, 1.    ],\n",
       "          ...,\n",
       "          [0.2468, 0.309 , 0.3472, 0.3952, 1.    ],\n",
       "          [0.283 , 0.2564, 0.2698, 0.3872, 1.    ],\n",
       "          [0.3508, 0.3108, 0.2678, 0.4396, 1.    ]],\n",
       "  \n",
       "         [[0.0242, 0.0219, 0.0151, 0.0792, 1.    ],\n",
       "          [0.0243, 0.0219, 0.0155, 0.0778, 1.    ],\n",
       "          [0.0249, 0.0215, 0.015 , 0.0796, 1.    ],\n",
       "          ...,\n",
       "          [0.2706, 0.3008, 0.3428, 0.3972, 1.    ],\n",
       "          [0.2972, 0.2708, 0.278 , 0.3952, 1.    ],\n",
       "          [0.3488, 0.3086, 0.278 , 0.4384, 1.    ]],\n",
       "  \n",
       "         [[0.0252, 0.0236, 0.017 , 0.0854, 1.    ],\n",
       "          [0.0239, 0.0229, 0.016 , 0.0834, 1.    ],\n",
       "          [0.0237, 0.0232, 0.0151, 0.0849, 1.    ],\n",
       "          ...,\n",
       "          [0.2756, 0.324 , 0.364 , 0.4088, 1.    ],\n",
       "          [0.2978, 0.2994, 0.33  , 0.4064, 1.    ],\n",
       "          [0.3352, 0.3042, 0.3172, 0.4252, 1.    ]]], dtype=float32)]]"
      ]
     },
     "execution_count": 10,
     "metadata": {},
     "output_type": "execute_result"
    }
   ],
   "source": [
    "# create a list of requests\n",
    "list_of_requests = [request_all_bands(slot) for slot in slots]\n",
    "list_of_requests = [request.get_data() for request in list_of_requests]\n",
    "list_of_requests"
   ]
  },
  {
   "cell_type": "code",
   "execution_count": 11,
   "id": "021e119e",
   "metadata": {
    "ExecuteTime": {
     "end_time": "2022-10-18T17:30:23.314213Z",
     "start_time": "2022-10-18T17:30:23.190504Z"
    }
   },
   "outputs": [
    {
     "data": {
      "text/plain": [
       "(46, 80)"
      ]
     },
     "execution_count": 11,
     "metadata": {},
     "output_type": "execute_result"
    }
   ],
   "source": [
    "list_of_requests[0][0][:, :,0].shape"
   ]
  },
  {
   "cell_type": "code",
   "execution_count": 12,
   "id": "7032abd9",
   "metadata": {
    "ExecuteTime": {
     "end_time": "2022-10-18T17:30:25.023608Z",
     "start_time": "2022-10-18T17:30:23.316168Z"
    }
   },
   "outputs": [
    {
     "data": {
      "text/plain": [
       "3677"
      ]
     },
     "execution_count": 12,
     "metadata": {},
     "output_type": "execute_result"
    }
   ],
   "source": [
    "np.count_nonzero(list_of_requests[4][0][:, :,3] - list_of_requests[3][0][:, :,3])"
   ]
  },
  {
   "cell_type": "code",
   "execution_count": 13,
   "id": "f4e12321",
   "metadata": {
    "ExecuteTime": {
     "end_time": "2022-10-18T17:30:25.164245Z",
     "start_time": "2022-10-18T17:30:25.026601Z"
    }
   },
   "outputs": [
    {
     "data": {
      "text/plain": [
       "array([[0.0319    , 0.0272    , 0.0269    , ..., 0.0208    , 0.0126    ,\n",
       "        0.0067    ],\n",
       "       [0.0317    , 0.0239    , 0.0276    , ..., 0.0169    , 0.01      ,\n",
       "        0.0087    ],\n",
       "       [0.0318    , 0.0218    , 0.0227    , ..., 0.0142    , 0.0101    ,\n",
       "        0.0118    ],\n",
       "       ...,\n",
       "       [0.1212    , 0.0632    , 0.0436    , ..., 0.016     , 0.0301    ,\n",
       "        0.0048    ],\n",
       "       [0.1143    , 0.0683    , 0.0579    , ..., 0.0086    , 0.0347    ,\n",
       "        0.0019    ],\n",
       "       [0.1147    , 0.08940001, 0.0766    , ..., 0.0167    , 0.0288    ,\n",
       "        0.0065    ]], dtype=float32)"
      ]
     },
     "execution_count": 13,
     "metadata": {},
     "output_type": "execute_result"
    }
   ],
   "source": [
    "list_of_requests[4][0][:, :,0] - list_of_requests[3][0][:, :,0]"
   ]
  },
  {
   "cell_type": "code",
   "execution_count": 14,
   "id": "778c2e0c",
   "metadata": {
    "ExecuteTime": {
     "end_time": "2022-10-18T17:30:27.138914Z",
     "start_time": "2022-10-18T17:30:25.188221Z"
    }
   },
   "outputs": [
    {
     "name": "stdout",
     "output_type": "stream",
     "text": [
      "0 3680 ('2022-04-18', '2022-05-19') (46, 80, 3)\n",
      "1 3680 ('2022-05-19', '2022-06-18') (46, 80, 3)\n",
      "2 0 ('2022-06-18', '2022-07-19') (46, 80, 3)\n",
      "3 0 ('2022-07-19', '2022-08-18') (46, 80, 3)\n",
      "4 0 ('2022-08-18', '2022-09-18') (46, 80, 3)\n",
      "5 2630 ('2022-09-18', '2022-10-18') (46, 80, 3)\n",
      "0 4\n"
     ]
    },
    {
     "data": {
      "image/png": "[encoded data removed]",
      "text/plain": [
       "<Figure size 2608.7x1000 with 6 Axes>"
      ]
     },
     "metadata": {},
     "output_type": "display_data"
    }
   ],
   "source": [
    "# plotting\n",
    "cloud_pix=list_of_requests[0][0]\n",
    "best=np.count_nonzero(cloud_pix == 1) #initializing\n",
    "ncols = 3\n",
    "nrows = 2\n",
    "aspect_ratio = box_size[0] / box_size[1]\n",
    "subplot_kw = {\"xticks\": [], \"yticks\": [], \"frame_on\": False}\n",
    "pos=0 #position\n",
    "best_slot=0\n",
    "fig, axs = plt.subplots(ncols=ncols, nrows=nrows, figsize=(5 * ncols * aspect_ratio, 5 * nrows), subplot_kw=subplot_kw)\n",
    "cloud_pix=list_of_requests[0][0]\n",
    "best=np.count_nonzero(cloud_pix == 1)\n",
    "for  idx, image in enumerate(list_of_requests):\n",
    "    imagex = image[0][:, :, [0,1, 2]]\n",
    "    cloud_pix = image[0][:, :, 4]\n",
    "    cloud = np.count_nonzero(cloud_pix == 1)\n",
    "    if best >= cloud :\n",
    "        best=cloud\n",
    "        best_slot=slots[idx]\n",
    "        pos = idx\n",
    "    print(idx,cloud,slots[idx],imagex.shape)\n",
    "    ax = axs[idx // ncols][idx % ncols]\n",
    "    ax.imshow(np.clip(imagex * 2.5 , 0, 1))\n",
    "    ax.set_title(f\"{slots[idx][0]}  -  {slots[idx][1]}\", fontsize=10)\n",
    "plt.tight_layout()\n",
    "print(best,pos)"
   ]
  },
  {
   "cell_type": "code",
   "execution_count": 15,
   "id": "523b4d23",
   "metadata": {
    "ExecuteTime": {
     "end_time": "2022-10-18T17:30:27.626608Z",
     "start_time": "2022-10-18T17:30:27.143892Z"
    }
   },
   "outputs": [
    {
     "data": {
      "image/png": "[encoded data removed]",
      "text/plain": [
       "<Figure size 1500x1500 with 1 Axes>"
      ]
     },
     "metadata": {},
     "output_type": "display_data"
    }
   ],
   "source": [
    "#plot best image\n",
    "plot_image(list_of_requests[pos][0][:, :, [0, 1, 2]], factor=2.5, clip_range=(0, 1))"
   ]
  },
  {
   "cell_type": "code",
   "execution_count": 16,
   "id": "ec853b12",
   "metadata": {
    "ExecuteTime": {
     "end_time": "2022-10-18T17:30:33.720906Z",
     "start_time": "2022-10-18T17:30:27.630597Z"
    }
   },
   "outputs": [],
   "source": [
    "import earthpy.spatial as es\n",
    "\n"
   ]
  },
  {
   "cell_type": "code",
   "execution_count": 17,
   "id": "04f7a5c0",
   "metadata": {
    "ExecuteTime": {
     "end_time": "2022-10-18T17:30:33.860331Z",
     "start_time": "2022-10-18T17:30:33.723911Z"
    }
   },
   "outputs": [
    {
     "data": {
      "text/plain": [
       "(46, 80)"
      ]
     },
     "execution_count": 17,
     "metadata": {},
     "output_type": "execute_result"
    }
   ],
   "source": [
    "list_of_requests[pos][0][:, :, 2].shape"
   ]
  },
  {
   "cell_type": "code",
   "execution_count": 18,
   "id": "7f0e6b05",
   "metadata": {
    "ExecuteTime": {
     "end_time": "2022-10-14T05:23:46.369665Z",
     "start_time": "2022-10-14T05:23:46.226012Z"
    }
   },
   "outputs": [],
   "source": [
    "req = list_of_requests[pos][0][:, :, :]"
   ]
  },
  {
   "cell_type": "code",
   "execution_count": 19,
   "id": "f7701f2e",
   "metadata": {
    "ExecuteTime": {
     "end_time": "2022-10-14T05:23:49.463358Z",
     "start_time": "2022-10-14T05:23:49.325746Z"
    }
   },
   "outputs": [
    {
     "data": {
      "text/plain": [
       "array([[0.3388, 0.442 , 0.464 , ..., 0.3364, 0.3372, 0.376 ],\n",
       "       [0.3012, 0.3892, 0.4116, ..., 0.3384, 0.34  , 0.4036],\n",
       "       [0.2466, 0.3144, 0.3904, ..., 0.283 , 0.3312, 0.3712],\n",
       "       ...,\n",
       "       [0.3192, 0.3172, 0.3288, ..., 0.3452, 0.2556, 0.3616],\n",
       "       [0.354 , 0.3432, 0.392 , ..., 0.2578, 0.2566, 0.3872],\n",
       "       [0.3668, 0.3652, 0.3992, ..., 0.261 , 0.303 , 0.4036]],\n",
       "      dtype=float32)"
      ]
     },
     "execution_count": 19,
     "metadata": {},
     "output_type": "execute_result"
    }
   ],
   "source": [
    "req[:, :, 3]"
   ]
  },
  {
   "cell_type": "code",
   "execution_count": 20,
   "id": "2ec9ec69",
   "metadata": {
    "ExecuteTime": {
     "end_time": "2022-10-14T05:23:55.091650Z",
     "start_time": "2022-10-14T05:23:54.916436Z"
    }
   },
   "outputs": [
    {
     "data": {
      "text/plain": [
       "array([[0.7940165 , 0.8386023 , 0.84786934, ..., 0.77989423, 0.8461538 ,\n",
       "        0.88471174],\n",
       "       [0.79820895, 0.8397542 , 0.851552  , ..., 0.8125335 , 0.8763797 ,\n",
       "        0.8624827 ],\n",
       "       [0.76584315, 0.825254  , 0.87062764, ..., 0.8106206 , 0.87330323,\n",
       "        0.8643897 ],\n",
       "       ...,\n",
       "       [0.8450867 , 0.84365016, 0.85500705, ..., 0.78305787, 0.6927152 ,\n",
       "        0.82626253],\n",
       "       [0.8209877 , 0.82601756, 0.8622327 , ..., 0.65894467, 0.5800493 ,\n",
       "        0.8420552 ],\n",
       "       [0.8113581 , 0.8356371 , 0.85631245, ..., 0.6613622 , 0.7133163 ,\n",
       "        0.85265094]], dtype=float32)"
      ]
     },
     "execution_count": 20,
     "metadata": {},
     "output_type": "execute_result"
    }
   ],
   "source": [
    "\n",
    "import earthpy.spatial as es\n",
    "ndvi = es.normalized_diff(list_of_requests[pos][0][:, :, 3], list_of_requests[pos][0][:, :, 2])\n",
    "\n",
    "ndvi"
   ]
  },
  {
   "cell_type": "code",
   "execution_count": 21,
   "id": "e84c68c0",
   "metadata": {
    "ExecuteTime": {
     "end_time": "2022-10-14T05:23:55.983574Z",
     "start_time": "2022-10-14T05:23:55.850355Z"
    }
   },
   "outputs": [
    {
     "data": {
      "text/plain": [
       "(46, 80)"
      ]
     },
     "execution_count": 21,
     "metadata": {},
     "output_type": "execute_result"
    }
   ],
   "source": [
    "ndvi.shape"
   ]
  },
  {
   "cell_type": "code",
   "execution_count": 22,
   "id": "417e1ecc",
   "metadata": {
    "ExecuteTime": {
     "end_time": "2022-10-14T05:24:18.741946Z",
     "start_time": "2022-10-14T05:24:18.597168Z"
    }
   },
   "outputs": [
    {
     "data": {
      "text/plain": [
       "0.7056856"
      ]
     },
     "execution_count": 22,
     "metadata": {},
     "output_type": "execute_result"
    }
   ],
   "source": [
    "ndvi[40][50]"
   ]
  },
  {
   "cell_type": "code",
   "execution_count": 150,
   "id": "d8ddcb34",
   "metadata": {
    "ExecuteTime": {
     "end_time": "2022-10-10T09:10:23.843089Z",
     "start_time": "2022-10-10T09:10:21.695075Z"
    }
   },
   "outputs": [],
   "source": [
    "all_bands_img = request_all_bands(best_slot).get_data(save_data=True)"
   ]
  },
  {
   "cell_type": "code",
   "execution_count": 18,
   "id": "946b8d7b",
   "metadata": {
    "ExecuteTime": {
     "end_time": "2022-10-12T10:06:03.705457Z",
     "start_time": "2022-10-12T10:06:02.416685Z"
    }
   },
   "outputs": [
    {
     "name": "stdout",
     "output_type": "stream",
     "text": [
      "pip 22.2.2 from C:\\Users\\Harith\\anaconda3\\envs\\sentinal\\lib\\site-packages\\pip (python 3.8)\n",
      "\n",
      "Note: you may need to restart the kernel to use updated packages.\n"
     ]
    }
   ],
   "source": [
    "pip -V"
   ]
  },
  {
   "cell_type": "code",
   "execution_count": 19,
   "id": "564c7be7",
   "metadata": {
    "ExecuteTime": {
     "end_time": "2022-10-12T10:06:43.577034Z",
     "start_time": "2022-10-12T10:06:39.074417Z"
    }
   },
   "outputs": [
    {
     "name": "stdout",
     "output_type": "stream",
     "text": [
      "Requirement already satisfied: pip in c:\\users\\harith\\anaconda3\\envs\\sentinal\\lib\\site-packages (22.2.2)\n",
      "Note: you may need to restart the kernel to use updated packages.\n"
     ]
    }
   ],
   "source": [
    "pip install --upgrade pip"
   ]
  },
  {
   "cell_type": "code",
   "execution_count": null,
   "id": "98020913",
   "metadata": {},
   "outputs": [],
   "source": []
  }
 ],
 "metadata": {
  "kernelspec": {
   "display_name": "Python 3 (ipykernel)",
   "language": "python",
   "name": "python3"
  },
  "language_info": {
   "codemirror_mode": {
    "name": "ipython",
    "version": 3
   },
   "file_extension": ".py",
   "mimetype": "text/x-python",
   "name": "python",
   "nbconvert_exporter": "python",
   "pygments_lexer": "ipython3",
   "version": "3.8.13"
  },
  "toc": {
   "base_numbering": 1,
   "nav_menu": {},
   "number_sections": true,
   "sideBar": true,
   "skip_h1_title": false,
   "title_cell": "Table of Contents",
   "title_sidebar": "Contents",
   "toc_cell": false,
   "toc_position": {},
   "toc_section_display": true,
   "toc_window_display": false
  }
 },
 "nbformat": 4,
 "nbformat_minor": 5
}

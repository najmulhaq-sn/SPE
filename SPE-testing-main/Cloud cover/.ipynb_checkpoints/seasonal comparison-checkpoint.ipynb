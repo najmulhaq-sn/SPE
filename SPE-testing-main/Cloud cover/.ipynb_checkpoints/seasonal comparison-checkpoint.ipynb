{
 "cells": [
  {
   "cell_type": "markdown",
   "id": "35f12186",
   "metadata": {},
   "source": [
    "Process API"
   ]
  },
  {
   "cell_type": "code",
   "execution_count": 1,
   "id": "adf2c755",
   "metadata": {
    "ExecuteTime": {
     "end_time": "2022-10-10T04:18:25.085340Z",
     "start_time": "2022-10-10T04:18:14.205837Z"
    }
   },
   "outputs": [
    {
     "name": "stderr",
     "output_type": "stream",
     "text": [
      "C:\\Users\\Harith\\anaconda3\\envs\\sentinal\\lib\\site-packages\\tqdm\\auto.py:22: TqdmWarning: IProgress not found. Please update jupyter and ipywidgets. See https://ipywidgets.readthedocs.io/en/stable/user_install.html\n",
      "  from .autonotebook import tqdm as notebook_tqdm\n"
     ]
    }
   ],
   "source": [
    "from sentinelhub import SHConfig\n",
    "\n",
    "config = SHConfig()\n",
    "#create an client and instance on sentinal-hub\n",
    "config.sh_client_id = '1543b9e6-3abf-441b-9f19-0c8b70b925b2'\n",
    "config.sh_client_secret = 'J2H.z_4ENpdQomb)Q1t*f-u?Zh<{)TH1Cd4JmQMv'\n",
    "config.instance_id = \"d6043a1f-543a-453e-acd6-8f90b6b74f56\"\n",
    "config.save()\n",
    "if not config.sh_client_id or not config.sh_client_secret:\n",
    "    print(\"Warning! To use Process API, please provide the credentials (OAuth client ID and client secret).\")"
   ]
  },
  {
   "cell_type": "markdown",
   "id": "ed81a814",
   "metadata": {},
   "source": [
    "Imports"
   ]
  },
  {
   "cell_type": "code",
   "execution_count": 26,
   "id": "b9a1cec5",
   "metadata": {
    "ExecuteTime": {
     "end_time": "2022-10-10T05:15:27.796306Z",
     "start_time": "2022-10-10T05:15:27.197864Z"
    }
   },
   "outputs": [],
   "source": [
    "%reload_ext autoreload\n",
    "%autoreload 2\n",
    "%matplotlib inline\n",
    "\n",
    "from datetime import datetime\n",
    "from dateutil.relativedelta import relativedelta\n",
    "import os\n",
    "import pandas as pd\n",
    "import matplotlib.pyplot as plt\n",
    "import numpy as np\n",
    "\n",
    "from sentinelhub import (\n",
    "    CRS,\n",
    "    BBox,\n",
    "    Geometry,\n",
    "    DataCollection,\n",
    "    DownloadRequest,\n",
    "    MimeType,\n",
    "    MosaickingOrder,\n",
    "    SentinelHubDownloadClient,\n",
    "    SentinelHubRequest,\n",
    "    bbox_to_dimensions,\n",
    ")\n",
    "\n",
    "# The following is not a package. It is a file utils.py which should be in the same folder as this notebook.\n",
    "from utils import plot_image\n",
    "from s2cloudless import CloudMaskRequest, S2PixelCloudDetector, get_s2_evalscript\n"
   ]
  },
  {
   "cell_type": "markdown",
   "id": "f9aa350e",
   "metadata": {},
   "source": [
    "Select Area"
   ]
  },
  {
   "cell_type": "code",
   "execution_count": 74,
   "id": "cad0b27f",
   "metadata": {
    "ExecuteTime": {
     "end_time": "2022-10-10T06:30:05.010596Z",
     "start_time": "2022-10-10T06:30:04.416680Z"
    }
   },
   "outputs": [],
   "source": [
    "poly = [[7.090278,80.55444],[7.090278,80.55417],[7.090556,80.55222],[7.090278,80.55167],[7.09,80.55083],[7.091389,80.54806],[7.093056,80.55],[7.093333,80.55083],[7.094167,80.55306],[7.094167,80.55333],[7.093889,80.55417],[7.093611,80.555],[7.0925,80.55528],[7.091667,80.55528],[7.090833,80.555]]\n"
   ]
  },
  {
   "cell_type": "code",
   "execution_count": 75,
   "id": "b8f6ac33",
   "metadata": {
    "ExecuteTime": {
     "end_time": "2022-10-10T06:30:05.614427Z",
     "start_time": "2022-10-10T06:30:05.038343Z"
    }
   },
   "outputs": [
    {
     "data": {
      "text/plain": [
       "[80.54806, 7.09, 80.55528, 7.094167]"
      ]
     },
     "execution_count": 75,
     "metadata": {},
     "output_type": "execute_result"
    }
   ],
   "source": [
    "#bounding box defining\n",
    "def bbox_cord(poly):\n",
    "    poly_arr = np.array(poly)\n",
    "    df = pd.DataFrame(poly_arr, columns = ['long','lat'])\n",
    "    Xmin = df['lat'].min()\n",
    "    Ymin = df['long'].min()\n",
    "    Xmax = df['lat'].max()\n",
    "    Ymax = df['long'].max()\n",
    "    bbox = [Xmin,Ymin,Xmax,Ymax]\n",
    "    i = [1,0]\n",
    "    output = poly_arr[:,i]\n",
    "    output = output.tolist()\n",
    "    return bbox,output\n",
    "bbox_generated,poly = bbox_cord(poly)\n",
    "bbox_generated"
   ]
  },
  {
   "cell_type": "code",
   "execution_count": 81,
   "id": "014c7ee2",
   "metadata": {
    "ExecuteTime": {
     "end_time": "2022-10-10T06:30:54.757885Z",
     "start_time": "2022-10-10T06:30:54.163799Z"
    }
   },
   "outputs": [
    {
     "data": {
      "text/plain": [
       "[[80.55444, 7.090278],\n",
       " [80.55417, 7.090278],\n",
       " [80.55222, 7.090556],\n",
       " [80.55167, 7.090278],\n",
       " [80.55083, 7.09],\n",
       " [80.54806, 7.091389],\n",
       " [80.55, 7.093056],\n",
       " [80.55083, 7.093333],\n",
       " [80.55306, 7.094167],\n",
       " [80.55333, 7.094167],\n",
       " [80.55417, 7.093889],\n",
       " [80.555, 7.093611],\n",
       " [80.55528, 7.0925],\n",
       " [80.55528, 7.091667],\n",
       " [80.555, 7.090833]]"
      ]
     },
     "execution_count": 81,
     "metadata": {},
     "output_type": "execute_result"
    }
   ],
   "source": [
    "poly"
   ]
  },
  {
   "cell_type": "code",
   "execution_count": 76,
   "id": "a58e8b69",
   "metadata": {
    "ExecuteTime": {
     "end_time": "2022-10-10T06:30:07.824252Z",
     "start_time": "2022-10-10T06:30:07.272056Z"
    }
   },
   "outputs": [],
   "source": [
    "#define diementions for the request\n",
    "final_bbox = BBox(bbox=bbox_generated, crs=CRS.WGS84)\n",
    "geometry = Geometry(geometry={\"type\":\"Polygon\",\"coordinates\":[poly]}, crs=CRS.WGS84)"
   ]
  },
  {
   "cell_type": "code",
   "execution_count": 77,
   "id": "13db9541",
   "metadata": {
    "ExecuteTime": {
     "end_time": "2022-10-10T06:30:08.844945Z",
     "start_time": "2022-10-10T06:30:08.251241Z"
    }
   },
   "outputs": [
    {
     "name": "stdout",
     "output_type": "stream",
     "text": [
      "Image shape at 10 m resolution: (80, 46) pixels\n"
     ]
    }
   ],
   "source": [
    "#resolution and size of the output\n",
    "resolution =10\n",
    "box_size = bbox_to_dimensions(final_bbox, resolution= resolution)\n",
    "print(f\"Image shape at {resolution} m resolution: {box_size} pixels\")"
   ]
  },
  {
   "cell_type": "code",
   "execution_count": 128,
   "id": "91af9961",
   "metadata": {
    "ExecuteTime": {
     "end_time": "2022-10-10T08:48:09.452187Z",
     "start_time": "2022-10-10T08:48:08.850825Z"
    }
   },
   "outputs": [
    {
     "name": "stdout",
     "output_type": "stream",
     "text": [
      "Monthly time windows:\n",
      "\n",
      "('2022-04-10', '2022-05-11')\n",
      "('2022-05-11', '2022-06-10')\n",
      "('2022-06-10', '2022-07-11')\n",
      "('2022-07-11', '2022-08-10')\n",
      "('2022-08-10', '2022-09-10')\n",
      "('2022-09-10', '2022-10-10')\n"
     ]
    }
   ],
   "source": [
    "#date range\n",
    "\n",
    "current_date = datetime.today()\n",
    "past_date = datetime.today() - relativedelta(months=6)\n",
    "n_chunks = 6\n",
    "tdelta = (current_date - past_date) / n_chunks\n",
    "edges = [(past_date + i * tdelta).date().isoformat() for i in range(n_chunks+1)]\n",
    "slots = [(edges[i], edges[i + 1]) for i in range(len(edges) - 1)]\n",
    "\n",
    "print(\"Monthly time windows:\\n\")\n",
    "for slot in slots:\n",
    "    print(slot)"
   ]
  },
  {
   "cell_type": "code",
   "execution_count": 146,
   "id": "c2e39583",
   "metadata": {
    "ExecuteTime": {
     "end_time": "2022-10-10T09:09:55.725159Z",
     "start_time": "2022-10-10T09:09:54.761835Z"
    }
   },
   "outputs": [],
   "source": [
    "evalscript_true_color = \"\"\"\n",
    "    //VERSION=3\n",
    "\n",
    "    function setup() {\n",
    "        return {\n",
    "            input: [{\n",
    "                bands: [\"B02\", \"B03\", \"B04\",\"B08\",\"CLM\"],\n",
    "                units: \"DN\"\n",
    "            }],\n",
    "            output: {\n",
    "                bands: 5,\n",
    "                sampleType: \"float32\"\n",
    "            }\n",
    "        };\n",
    "    }\n",
    "\n",
    "    function evaluatePixel(sample) {\n",
    "        return [sample.B02, sample.B03, sample.B04,sample.B08,sample.CLM];\n",
    "    }\n",
    "\"\"\"\n",
    "#32 bit Tiff output wuth 4 bands\n",
    "def request_all_bands(time_interval):\n",
    "    \n",
    "    return  SentinelHubRequest(\n",
    "        data_folder=\"Data\", #data store directory\n",
    "        evalscript=evalscript_all_bands,\n",
    "        input_data=[\n",
    "            SentinelHubRequest.input_data(\n",
    "                data_collection=DataCollection.SENTINEL2_L2A,\n",
    "                time_interval=time_interval,\n",
    "                mosaicking_order=MosaickingOrder.LEAST_CC,\n",
    "                #other_args={\"dataFilter\": {\"maxCloudCoverage\": 50}},\n",
    "            )\n",
    "        ],\n",
    "        responses=[SentinelHubRequest.output_response(\"default\", MimeType.TIFF)],\n",
    "        bbox=final_bbox,\n",
    "        size=box_size,\n",
    "        geometry = geometry,\n",
    "        config=config,\n",
    "    )"
   ]
  },
  {
   "cell_type": "code",
   "execution_count": 147,
   "id": "2f969ba7",
   "metadata": {
    "ExecuteTime": {
     "end_time": "2022-10-10T09:10:08.176316Z",
     "start_time": "2022-10-10T09:09:56.331965Z"
    }
   },
   "outputs": [
    {
     "data": {
      "text/plain": [
       "[[array([[[0., 0., 0., 0., 0.],\n",
       "          [0., 0., 0., 0., 0.],\n",
       "          [0., 0., 0., 0., 0.],\n",
       "          ...,\n",
       "          [0., 0., 0., 0., 0.],\n",
       "          [0., 0., 0., 0., 0.],\n",
       "          [0., 0., 0., 0., 0.]],\n",
       "  \n",
       "         [[0., 0., 0., 0., 0.],\n",
       "          [0., 0., 0., 0., 0.],\n",
       "          [0., 0., 0., 0., 0.],\n",
       "          ...,\n",
       "          [0., 0., 0., 0., 0.],\n",
       "          [0., 0., 0., 0., 0.],\n",
       "          [0., 0., 0., 0., 0.]],\n",
       "  \n",
       "         [[0., 0., 0., 0., 0.],\n",
       "          [0., 0., 0., 0., 0.],\n",
       "          [0., 0., 0., 0., 0.],\n",
       "          ...,\n",
       "          [0., 0., 0., 0., 0.],\n",
       "          [0., 0., 0., 0., 0.],\n",
       "          [0., 0., 0., 0., 0.]],\n",
       "  \n",
       "         ...,\n",
       "  \n",
       "         [[0., 0., 0., 0., 0.],\n",
       "          [0., 0., 0., 0., 0.],\n",
       "          [0., 0., 0., 0., 0.],\n",
       "          ...,\n",
       "          [0., 0., 0., 0., 0.],\n",
       "          [0., 0., 0., 0., 0.],\n",
       "          [0., 0., 0., 0., 0.]],\n",
       "  \n",
       "         [[0., 0., 0., 0., 0.],\n",
       "          [0., 0., 0., 0., 0.],\n",
       "          [0., 0., 0., 0., 0.],\n",
       "          ...,\n",
       "          [0., 0., 0., 0., 0.],\n",
       "          [0., 0., 0., 0., 0.],\n",
       "          [0., 0., 0., 0., 0.]],\n",
       "  \n",
       "         [[0., 0., 0., 0., 0.],\n",
       "          [0., 0., 0., 0., 0.],\n",
       "          [0., 0., 0., 0., 0.],\n",
       "          ...,\n",
       "          [0., 0., 0., 0., 0.],\n",
       "          [0., 0., 0., 0., 0.],\n",
       "          [0., 0., 0., 0., 0.]]], dtype=float32)],\n",
       " [array([[[0., 0., 0., 0., 0.],\n",
       "          [0., 0., 0., 0., 0.],\n",
       "          [0., 0., 0., 0., 0.],\n",
       "          ...,\n",
       "          [0., 0., 0., 0., 0.],\n",
       "          [0., 0., 0., 0., 0.],\n",
       "          [0., 0., 0., 0., 0.]],\n",
       "  \n",
       "         [[0., 0., 0., 0., 0.],\n",
       "          [0., 0., 0., 0., 0.],\n",
       "          [0., 0., 0., 0., 0.],\n",
       "          ...,\n",
       "          [0., 0., 0., 0., 0.],\n",
       "          [0., 0., 0., 0., 0.],\n",
       "          [0., 0., 0., 0., 0.]],\n",
       "  \n",
       "         [[0., 0., 0., 0., 0.],\n",
       "          [0., 0., 0., 0., 0.],\n",
       "          [0., 0., 0., 0., 0.],\n",
       "          ...,\n",
       "          [0., 0., 0., 0., 0.],\n",
       "          [0., 0., 0., 0., 0.],\n",
       "          [0., 0., 0., 0., 0.]],\n",
       "  \n",
       "         ...,\n",
       "  \n",
       "         [[0., 0., 0., 0., 0.],\n",
       "          [0., 0., 0., 0., 0.],\n",
       "          [0., 0., 0., 0., 0.],\n",
       "          ...,\n",
       "          [0., 0., 0., 0., 0.],\n",
       "          [0., 0., 0., 0., 0.],\n",
       "          [0., 0., 0., 0., 0.]],\n",
       "  \n",
       "         [[0., 0., 0., 0., 0.],\n",
       "          [0., 0., 0., 0., 0.],\n",
       "          [0., 0., 0., 0., 0.],\n",
       "          ...,\n",
       "          [0., 0., 0., 0., 0.],\n",
       "          [0., 0., 0., 0., 0.],\n",
       "          [0., 0., 0., 0., 0.]],\n",
       "  \n",
       "         [[0., 0., 0., 0., 0.],\n",
       "          [0., 0., 0., 0., 0.],\n",
       "          [0., 0., 0., 0., 0.],\n",
       "          ...,\n",
       "          [0., 0., 0., 0., 0.],\n",
       "          [0., 0., 0., 0., 0.],\n",
       "          [0., 0., 0., 0., 0.]]], dtype=float32)],\n",
       " [array([[[0., 0., 0., 0., 0.],\n",
       "          [0., 0., 0., 0., 0.],\n",
       "          [0., 0., 0., 0., 0.],\n",
       "          ...,\n",
       "          [0., 0., 0., 0., 0.],\n",
       "          [0., 0., 0., 0., 0.],\n",
       "          [0., 0., 0., 0., 0.]],\n",
       "  \n",
       "         [[0., 0., 0., 0., 0.],\n",
       "          [0., 0., 0., 0., 0.],\n",
       "          [0., 0., 0., 0., 0.],\n",
       "          ...,\n",
       "          [0., 0., 0., 0., 0.],\n",
       "          [0., 0., 0., 0., 0.],\n",
       "          [0., 0., 0., 0., 0.]],\n",
       "  \n",
       "         [[0., 0., 0., 0., 0.],\n",
       "          [0., 0., 0., 0., 0.],\n",
       "          [0., 0., 0., 0., 0.],\n",
       "          ...,\n",
       "          [0., 0., 0., 0., 0.],\n",
       "          [0., 0., 0., 0., 0.],\n",
       "          [0., 0., 0., 0., 0.]],\n",
       "  \n",
       "         ...,\n",
       "  \n",
       "         [[0., 0., 0., 0., 0.],\n",
       "          [0., 0., 0., 0., 0.],\n",
       "          [0., 0., 0., 0., 0.],\n",
       "          ...,\n",
       "          [0., 0., 0., 0., 0.],\n",
       "          [0., 0., 0., 0., 0.],\n",
       "          [0., 0., 0., 0., 0.]],\n",
       "  \n",
       "         [[0., 0., 0., 0., 0.],\n",
       "          [0., 0., 0., 0., 0.],\n",
       "          [0., 0., 0., 0., 0.],\n",
       "          ...,\n",
       "          [0., 0., 0., 0., 0.],\n",
       "          [0., 0., 0., 0., 0.],\n",
       "          [0., 0., 0., 0., 0.]],\n",
       "  \n",
       "         [[0., 0., 0., 0., 0.],\n",
       "          [0., 0., 0., 0., 0.],\n",
       "          [0., 0., 0., 0., 0.],\n",
       "          ...,\n",
       "          [0., 0., 0., 0., 0.],\n",
       "          [0., 0., 0., 0., 0.],\n",
       "          [0., 0., 0., 0., 0.]]], dtype=float32)],\n",
       " [array([[[0., 0., 0., 0., 0.],\n",
       "          [0., 0., 0., 0., 0.],\n",
       "          [0., 0., 0., 0., 0.],\n",
       "          ...,\n",
       "          [0., 0., 0., 0., 0.],\n",
       "          [0., 0., 0., 0., 0.],\n",
       "          [0., 0., 0., 0., 0.]],\n",
       "  \n",
       "         [[0., 0., 0., 0., 0.],\n",
       "          [0., 0., 0., 0., 0.],\n",
       "          [0., 0., 0., 0., 0.],\n",
       "          ...,\n",
       "          [0., 0., 0., 0., 0.],\n",
       "          [0., 0., 0., 0., 0.],\n",
       "          [0., 0., 0., 0., 0.]],\n",
       "  \n",
       "         [[0., 0., 0., 0., 0.],\n",
       "          [0., 0., 0., 0., 0.],\n",
       "          [0., 0., 0., 0., 0.],\n",
       "          ...,\n",
       "          [0., 0., 0., 0., 0.],\n",
       "          [0., 0., 0., 0., 0.],\n",
       "          [0., 0., 0., 0., 0.]],\n",
       "  \n",
       "         ...,\n",
       "  \n",
       "         [[0., 0., 0., 0., 0.],\n",
       "          [0., 0., 0., 0., 0.],\n",
       "          [0., 0., 0., 0., 0.],\n",
       "          ...,\n",
       "          [0., 0., 0., 0., 0.],\n",
       "          [0., 0., 0., 0., 0.],\n",
       "          [0., 0., 0., 0., 0.]],\n",
       "  \n",
       "         [[0., 0., 0., 0., 0.],\n",
       "          [0., 0., 0., 0., 0.],\n",
       "          [0., 0., 0., 0., 0.],\n",
       "          ...,\n",
       "          [0., 0., 0., 0., 0.],\n",
       "          [0., 0., 0., 0., 0.],\n",
       "          [0., 0., 0., 0., 0.]],\n",
       "  \n",
       "         [[0., 0., 0., 0., 0.],\n",
       "          [0., 0., 0., 0., 0.],\n",
       "          [0., 0., 0., 0., 0.],\n",
       "          ...,\n",
       "          [0., 0., 0., 0., 0.],\n",
       "          [0., 0., 0., 0., 0.],\n",
       "          [0., 0., 0., 0., 0.]]], dtype=float32)],\n",
       " [array([[[0., 0., 0., 0., 0.],\n",
       "          [0., 0., 0., 0., 0.],\n",
       "          [0., 0., 0., 0., 0.],\n",
       "          ...,\n",
       "          [0., 0., 0., 0., 0.],\n",
       "          [0., 0., 0., 0., 0.],\n",
       "          [0., 0., 0., 0., 0.]],\n",
       "  \n",
       "         [[0., 0., 0., 0., 0.],\n",
       "          [0., 0., 0., 0., 0.],\n",
       "          [0., 0., 0., 0., 0.],\n",
       "          ...,\n",
       "          [0., 0., 0., 0., 0.],\n",
       "          [0., 0., 0., 0., 0.],\n",
       "          [0., 0., 0., 0., 0.]],\n",
       "  \n",
       "         [[0., 0., 0., 0., 0.],\n",
       "          [0., 0., 0., 0., 0.],\n",
       "          [0., 0., 0., 0., 0.],\n",
       "          ...,\n",
       "          [0., 0., 0., 0., 0.],\n",
       "          [0., 0., 0., 0., 0.],\n",
       "          [0., 0., 0., 0., 0.]],\n",
       "  \n",
       "         ...,\n",
       "  \n",
       "         [[0., 0., 0., 0., 0.],\n",
       "          [0., 0., 0., 0., 0.],\n",
       "          [0., 0., 0., 0., 0.],\n",
       "          ...,\n",
       "          [0., 0., 0., 0., 0.],\n",
       "          [0., 0., 0., 0., 0.],\n",
       "          [0., 0., 0., 0., 0.]],\n",
       "  \n",
       "         [[0., 0., 0., 0., 0.],\n",
       "          [0., 0., 0., 0., 0.],\n",
       "          [0., 0., 0., 0., 0.],\n",
       "          ...,\n",
       "          [0., 0., 0., 0., 0.],\n",
       "          [0., 0., 0., 0., 0.],\n",
       "          [0., 0., 0., 0., 0.]],\n",
       "  \n",
       "         [[0., 0., 0., 0., 0.],\n",
       "          [0., 0., 0., 0., 0.],\n",
       "          [0., 0., 0., 0., 0.],\n",
       "          ...,\n",
       "          [0., 0., 0., 0., 0.],\n",
       "          [0., 0., 0., 0., 0.],\n",
       "          [0., 0., 0., 0., 0.]]], dtype=float32)],\n",
       " [array([[[0., 0., 0., 0., 0.],\n",
       "          [0., 0., 0., 0., 0.],\n",
       "          [0., 0., 0., 0., 0.],\n",
       "          ...,\n",
       "          [0., 0., 0., 0., 0.],\n",
       "          [0., 0., 0., 0., 0.],\n",
       "          [0., 0., 0., 0., 0.]],\n",
       "  \n",
       "         [[0., 0., 0., 0., 0.],\n",
       "          [0., 0., 0., 0., 0.],\n",
       "          [0., 0., 0., 0., 0.],\n",
       "          ...,\n",
       "          [0., 0., 0., 0., 0.],\n",
       "          [0., 0., 0., 0., 0.],\n",
       "          [0., 0., 0., 0., 0.]],\n",
       "  \n",
       "         [[0., 0., 0., 0., 0.],\n",
       "          [0., 0., 0., 0., 0.],\n",
       "          [0., 0., 0., 0., 0.],\n",
       "          ...,\n",
       "          [0., 0., 0., 0., 0.],\n",
       "          [0., 0., 0., 0., 0.],\n",
       "          [0., 0., 0., 0., 0.]],\n",
       "  \n",
       "         ...,\n",
       "  \n",
       "         [[0., 0., 0., 0., 0.],\n",
       "          [0., 0., 0., 0., 0.],\n",
       "          [0., 0., 0., 0., 0.],\n",
       "          ...,\n",
       "          [0., 0., 0., 0., 0.],\n",
       "          [0., 0., 0., 0., 0.],\n",
       "          [0., 0., 0., 0., 0.]],\n",
       "  \n",
       "         [[0., 0., 0., 0., 0.],\n",
       "          [0., 0., 0., 0., 0.],\n",
       "          [0., 0., 0., 0., 0.],\n",
       "          ...,\n",
       "          [0., 0., 0., 0., 0.],\n",
       "          [0., 0., 0., 0., 0.],\n",
       "          [0., 0., 0., 0., 0.]],\n",
       "  \n",
       "         [[0., 0., 0., 0., 0.],\n",
       "          [0., 0., 0., 0., 0.],\n",
       "          [0., 0., 0., 0., 0.],\n",
       "          ...,\n",
       "          [0., 0., 0., 0., 0.],\n",
       "          [0., 0., 0., 0., 0.],\n",
       "          [0., 0., 0., 0., 0.]]], dtype=float32)]]"
      ]
     },
     "execution_count": 147,
     "metadata": {},
     "output_type": "execute_result"
    }
   ],
   "source": [
    "# create a list of requests\n",
    "list_of_requests = [request_all_bands(slot) for slot in slots]\n",
    "list_of_requests = [request.get_data() for request in list_of_requests]\n",
    "#list_of_requests"
   ]
  },
  {
   "cell_type": "code",
   "execution_count": 148,
   "id": "778c2e0c",
   "metadata": {
    "ExecuteTime": {
     "end_time": "2022-10-10T09:10:11.277139Z",
     "start_time": "2022-10-10T09:10:08.178617Z"
    }
   },
   "outputs": [
    {
     "name": "stdout",
     "output_type": "stream",
     "text": [
      "0 2558 ('2022-04-10', '2022-05-11') (46, 80, 3)\n",
      "1 2558 ('2022-05-11', '2022-06-10') (46, 80, 3)\n",
      "2 0 ('2022-06-10', '2022-07-11') (46, 80, 3)\n",
      "3 0 ('2022-07-11', '2022-08-10') (46, 80, 3)\n",
      "4 0 ('2022-08-10', '2022-09-10') (46, 80, 3)\n",
      "5 2032 ('2022-09-10', '2022-10-10') (46, 80, 3)\n",
      "0 4\n"
     ]
    },
    {
     "data": {
      "image/png": "[encoded data removed]",
      "text/plain": [
       "<Figure size 2608.7x1000 with 6 Axes>"
      ]
     },
     "metadata": {},
     "output_type": "display_data"
    }
   ],
   "source": [
    "# plotting\n",
    "cloud_pix=list_of_requests[0][0]\n",
    "best=np.count_nonzero(cloud_pix == 1) #initializing\n",
    "ncols = 3\n",
    "nrows = 2\n",
    "aspect_ratio = box_size[0] / box_size[1]\n",
    "subplot_kw = {\"xticks\": [], \"yticks\": [], \"frame_on\": False}\n",
    "pos=0 #position\n",
    "best_slot=0\n",
    "fig, axs = plt.subplots(ncols=ncols, nrows=nrows, figsize=(5 * ncols * aspect_ratio, 5 * nrows), subplot_kw=subplot_kw)\n",
    "cloud_pix=list_of_requests[0][0]\n",
    "best=np.count_nonzero(cloud_pix == 1)\n",
    "for  idx, image in enumerate(list_of_requests):\n",
    "    imagex = image[0][:, :, [0,1, 2]]\n",
    "    cloud_pix = image[0][:, :, 4]\n",
    "    cloud = np.count_nonzero(cloud_pix == 1)\n",
    "    if best >= cloud :\n",
    "        best=cloud\n",
    "        best_slot=slots[idx]\n",
    "        pos = idx\n",
    "    print(idx,cloud,slots[idx],imagex.shape)\n",
    "    ax = axs[idx // ncols][idx % ncols]\n",
    "    ax.imshow(np.clip(imagex * 2.5 , 0, 1))\n",
    "    ax.set_title(f\"{slots[idx][0]}  -  {slots[idx][1]}\", fontsize=10)\n",
    "plt.tight_layout()\n",
    "print(best,pos)"
   ]
  },
  {
   "cell_type": "code",
   "execution_count": 149,
   "id": "523b4d23",
   "metadata": {
    "ExecuteTime": {
     "end_time": "2022-10-10T09:10:16.748992Z",
     "start_time": "2022-10-10T09:10:15.598530Z"
    }
   },
   "outputs": [
    {
     "data": {
      "image/png": "[encoded data removed]",
      "text/plain": [
       "<Figure size 1500x1500 with 1 Axes>"
      ]
     },
     "metadata": {},
     "output_type": "display_data"
    }
   ],
   "source": [
    "#plot best image\n",
    "plot_image(list_of_requests[pos][0][:, :, [0, 1, 2]], factor=2.5, clip_range=(0, 1))"
   ]
  },
  {
   "cell_type": "code",
   "execution_count": 150,
   "id": "d8ddcb34",
   "metadata": {
    "ExecuteTime": {
     "end_time": "2022-10-10T09:10:23.843089Z",
     "start_time": "2022-10-10T09:10:21.695075Z"
    }
   },
   "outputs": [],
   "source": [
    "all_bands_img = request_all_bands(best_slot).get_data(save_data=True)"
   ]
  },
  {
   "cell_type": "code",
   "execution_count": null,
   "id": "946b8d7b",
   "metadata": {},
   "outputs": [],
   "source": []
  }
 ],
 "metadata": {
  "kernelspec": {
   "display_name": "Python 3 (ipykernel)",
   "language": "python",
   "name": "python3"
  },
  "language_info": {
   "codemirror_mode": {
    "name": "ipython",
    "version": 3
   },
   "file_extension": ".py",
   "mimetype": "text/x-python",
   "name": "python",
   "nbconvert_exporter": "python",
   "pygments_lexer": "ipython3",
   "version": "3.8.13"
  },
  "toc": {
   "base_numbering": 1,
   "nav_menu": {},
   "number_sections": true,
   "sideBar": true,
   "skip_h1_title": false,
   "title_cell": "Table of Contents",
   "title_sidebar": "Contents",
   "toc_cell": false,
   "toc_position": {},
   "toc_section_display": true,
   "toc_window_display": false
  }
 },
 "nbformat": 4,
 "nbformat_minor": 5
}

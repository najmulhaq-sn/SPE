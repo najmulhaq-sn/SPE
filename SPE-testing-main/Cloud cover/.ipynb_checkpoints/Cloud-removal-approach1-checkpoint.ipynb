{
 "cells": [
  {
   "cell_type": "markdown",
   "id": "42d840b9",
   "metadata": {},
   "source": [
    "Process API"
   ]
  },
  {
   "cell_type": "code",
   "execution_count": 1,
   "id": "e17af412",
   "metadata": {
    "ExecuteTime": {
     "end_time": "2022-10-10T04:18:25.085340Z",
     "start_time": "2022-10-10T04:18:14.205837Z"
    }
   },
   "outputs": [
    {
     "name": "stderr",
     "output_type": "stream",
     "text": [
      "C:\\Users\\Harith\\anaconda3\\envs\\sentinal\\lib\\site-packages\\tqdm\\auto.py:22: TqdmWarning: IProgress not found. Please update jupyter and ipywidgets. See https://ipywidgets.readthedocs.io/en/stable/user_install.html\n",
      "  from .autonotebook import tqdm as notebook_tqdm\n"
     ]
    }
   ],
   "source": [
    "from sentinelhub import SHConfig\n",
    "\n",
    "config = SHConfig()\n",
    "#create an client and instance on sentinal-hub\n",
    "config.sh_client_id = '1543b9e6-3abf-441b-9f19-0c8b70b925b2'\n",
    "config.sh_client_secret = 'J2H.z_4ENpdQomb)Q1t*f-u?Zh<{)TH1Cd4JmQMv'\n",
    "config.instance_id = \"d6043a1f-543a-453e-acd6-8f90b6b74f56\"\n",
    "config.save()\n",
    "if not config.sh_client_id or not config.sh_client_secret:\n",
    "    print(\"Warning! To use Process API, please provide the credentials (OAuth client ID and client secret).\")"
   ]
  },
  {
   "cell_type": "markdown",
   "id": "d43b9d79",
   "metadata": {},
   "source": [
    "Imports"
   ]
  },
  {
   "cell_type": "code",
   "execution_count": 2,
   "id": "8512bcea",
   "metadata": {
    "ExecuteTime": {
     "end_time": "2022-10-10T04:18:28.919528Z",
     "start_time": "2022-10-10T04:18:25.086976Z"
    }
   },
   "outputs": [
    {
     "ename": "ModuleNotFoundError",
     "evalue": "No module named 'utils'",
     "output_type": "error",
     "traceback": [
      "\u001b[1;31m---------------------------------------------------------------------------\u001b[0m",
      "\u001b[1;31mModuleNotFoundError\u001b[0m                       Traceback (most recent call last)",
      "Cell \u001b[1;32mIn [2], line 25\u001b[0m\n\u001b[0;32m     11\u001b[0m \u001b[38;5;28;01mfrom\u001b[39;00m \u001b[38;5;21;01msentinelhub\u001b[39;00m \u001b[38;5;28;01mimport\u001b[39;00m (\n\u001b[0;32m     12\u001b[0m     CRS,\n\u001b[0;32m     13\u001b[0m     BBox,\n\u001b[1;32m   (...)\u001b[0m\n\u001b[0;32m     21\u001b[0m     bbox_to_dimensions,\n\u001b[0;32m     22\u001b[0m )\n\u001b[0;32m     24\u001b[0m \u001b[38;5;66;03m# The following is not a package. It is a file utils.py which should be in the same folder as this notebook.\u001b[39;00m\n\u001b[1;32m---> 25\u001b[0m \u001b[38;5;28;01mfrom\u001b[39;00m \u001b[38;5;21;01mutils\u001b[39;00m \u001b[38;5;28;01mimport\u001b[39;00m plot_image\n\u001b[0;32m     26\u001b[0m \u001b[38;5;28;01mfrom\u001b[39;00m \u001b[38;5;21;01ms2cloudless\u001b[39;00m \u001b[38;5;28;01mimport\u001b[39;00m CloudMaskRequest, S2PixelCloudDetector, get_s2_evalscript\n",
      "\u001b[1;31mModuleNotFoundError\u001b[0m: No module named 'utils'"
     ]
    }
   ],
   "source": [
    "%reload_ext autoreload\n",
    "%autoreload 2\n",
    "%matplotlib inline\n",
    "\n",
    "import datetime\n",
    "import os\n",
    "\n",
    "import matplotlib.pyplot as plt\n",
    "import numpy as np\n",
    "\n",
    "from sentinelhub import (\n",
    "    CRS,\n",
    "    BBox,\n",
    "    Geometry,\n",
    "    DataCollection,\n",
    "    DownloadRequest,\n",
    "    MimeType,\n",
    "    MosaickingOrder,\n",
    "    SentinelHubDownloadClient,\n",
    "    SentinelHubRequest,\n",
    "    bbox_to_dimensions,\n",
    ")\n",
    "\n",
    "# The following is not a package. It is a file utils.py which should be in the same folder as this notebook.\n",
    "from utils import plot_image\n",
    "from s2cloudless import CloudMaskRequest, S2PixelCloudDetector, get_s2_evalscript\n"
   ]
  },
  {
   "cell_type": "markdown",
   "id": "8c9f9100",
   "metadata": {},
   "source": [
    "Select Area"
   ]
  },
  {
   "cell_type": "code",
   "execution_count": null,
   "id": "40d07840",
   "metadata": {
    "ExecuteTime": {
     "end_time": "2022-10-10T04:18:28.923614Z",
     "start_time": "2022-10-10T04:18:28.923614Z"
    }
   },
   "outputs": [],
   "source": [
    "#bounding box defining\n",
    "def bbox_cord(poly):\n",
    "    poly_arr = np.array(poly)\n",
    "    df = pd.DataFrame(poly_arr, columns = ['long','lat'])\n",
    "    Xmin = df['lat'].min()\n",
    "    Ymin = df['long'].min()\n",
    "    Xmax = df['lat'].max()\n",
    "    Ymax = df['long'].max()\n",
    "    bbox = [Xmin,Ymin,Xmax,Ymax]\n",
    "    i = [1,0]\n",
    "    output = poly_arr[:,i]\n",
    "    output = output.tolist()\n",
    "    return bbox,output"
   ]
  },
  {
   "cell_type": "code",
   "execution_count": null,
   "id": "00555fb4",
   "metadata": {
    "ExecuteTime": {
     "end_time": "2022-10-10T04:18:28.923614Z",
     "start_time": "2022-10-10T04:18:28.923614Z"
    }
   },
   "outputs": [],
   "source": [
    "poly = [[7.090278,80.55444],[7.090278,80.55417],[7.090556,80.55222],[7.090278,80.55167],[7.09,80.55083],[7.091389,80.54806],[7.093056,80.55],[7.093333,80.55083],[7.094167,80.55306],[7.094167,80.55333],[7.093889,80.55417],[7.093611,80.555],[7.0925,80.55528],[7.091667,80.55528],[7.090833,80.555]]\n",
    "bbox_generated,poly = bbox_cord(poly)\n",
    "bbox_generated"
   ]
  },
  {
   "cell_type": "code",
   "execution_count": null,
   "id": "ae8a25c2",
   "metadata": {
    "ExecuteTime": {
     "end_time": "2022-10-10T04:18:28.923614Z",
     "start_time": "2022-10-10T04:18:28.923614Z"
    }
   },
   "outputs": [],
   "source": [
    "#define diementions for the request\n",
    "final_bbox = BBox(bbox=bbox_generated, crs=CRS.WGS84)\n",
    "geometry = Geometry(geometry={\"type\":\"Polygon\",\"coordinates\":[poly]}, crs=CRS.WGS84)"
   ]
  },
  {
   "cell_type": "code",
   "execution_count": null,
   "id": "b1af547e",
   "metadata": {
    "ExecuteTime": {
     "end_time": "2022-10-10T04:18:28.923614Z",
     "start_time": "2022-10-10T04:18:28.923614Z"
    }
   },
   "outputs": [],
   "source": [
    "#resolution and size of the output\n",
    "resolution =10\n",
    "box_size = bbox_to_dimensions(final_bbox, resolution= resolution)\n",
    "print(f\"Image shape at {resolution} m resolution: {box_size} pixels\")"
   ]
  },
  {
   "cell_type": "code",
   "execution_count": null,
   "id": "264eaff8",
   "metadata": {
    "ExecuteTime": {
     "end_time": "2022-10-10T04:18:28.923614Z",
     "start_time": "2022-10-10T04:18:28.923614Z"
    }
   },
   "outputs": [],
   "source": [
    "#date range\n",
    "current_date = datetime.today().strftime('%Y-%m-%d')\n",
    "past_date = datetime.today() - relativedelta(months=6)\n",
    "past_date = past_date.strftime('%Y-%m-%d')\n",
    "\n",
    "n_chunks = 20\n",
    "tdelta = (current_date - past_date) / n_chunks\n",
    "edges = [(past_date + i * tdelta).date().isoformat() for i in range(n_chunks)]\n",
    "slots = [(edges[i], edges[i + 1]) for i in range(len(edges) - 1)]\n",
    "\n",
    "print(\"Monthly time windows:\\n\")\n",
    "for slot in slots:"
   ]
  },
  {
   "cell_type": "code",
   "execution_count": null,
   "id": "bb71c4b0",
   "metadata": {
    "ExecuteTime": {
     "end_time": "2022-10-10T04:18:28.939235Z",
     "start_time": "2022-10-10T04:18:28.939235Z"
    }
   },
   "outputs": [],
   "source": [
    "evalscript_all_bands = \"\"\"\n",
    "    //VERSION=3\n",
    "    function setup() {\n",
    "        return {\n",
    "            input: [{\n",
    "                bands: [\"B02\",\"B03\",\"B04\",\"B08\"],\n",
    "                units: \"DN\"\n",
    "            }],\n",
    "            output: {\n",
    "                bands: 4,\n",
    "                sampleType: \"float32\" \n",
    "            }\n",
    "        };\n",
    "    }\n",
    "\n",
    "    function evaluatePixel(sample) {\n",
    "        return [sample.B02,\n",
    "                sample.B03,\n",
    "                sample.B04,\n",
    "                sample.B08,\n",
    "];\n",
    "    }\n",
    "\"\"\"\n",
    "#32 bit Tiff output wuth 4 bands\n",
    "request_all_bands = SentinelHubRequest(\n",
    "    data_folder=\"Data\", #data store directory\n",
    "    evalscript=evalscript_all_bands,\n",
    "    input_data=[\n",
    "        SentinelHubRequest.input_data(\n",
    "            data_collection=DataCollection.SENTINEL2_L1C,\n",
    "            time_interval=( past_date,current_date),\n",
    "            mosaicking_order=MosaickingOrder.LEAST_CC,\n",
    "            other_args={\"dataFilter\": {\"maxCloudCoverage\": 50}},\n",
    "        )\n",
    "    ],\n",
    "    responses=[SentinelHubRequest.output_response(\"default\", MimeType.TIFF)],\n",
    "    bbox=final_bbox,\n",
    "    size=box_size,\n",
    "    geometry = geometry,\n",
    "    config=config,\n",
    ")"
   ]
  },
  {
   "cell_type": "code",
   "execution_count": null,
   "id": "096a52e4",
   "metadata": {
    "ExecuteTime": {
     "end_time": "2022-10-10T04:18:28.941744Z",
     "start_time": "2022-10-10T04:18:28.941744Z"
    }
   },
   "outputs": [],
   "source": [
    "# create a list of requests\n",
    "list_of_requests = [get_true_color_request(slot) for slot in slots]\n",
    "list_of_requests = [request.get_data() for request in list_of_requests]\n",
    "list_of_requests"
   ]
  },
  {
   "cell_type": "code",
   "execution_count": null,
   "id": "12eb9d98",
   "metadata": {
    "ExecuteTime": {
     "end_time": "2022-10-10T04:18:28.941744Z",
     "start_time": "2022-10-10T04:18:28.941744Z"
    }
   },
   "outputs": [],
   "source": [
    "# plotting\n",
    "cloud_pix=list_of_requests[0][0]\n",
    "best=np.count_nonzero(cloud_pix == 255) #initializing\n",
    "ncols = 4\n",
    "nrows = 5\n",
    "aspect_ratio = betsiboka_size[0] / betsiboka_size[1]\n",
    "subplot_kw = {\"xticks\": [], \"yticks\": [], \"frame_on\": False}\n",
    "pos=0 #position\n",
    "best_slot=0\n",
    "fig, axs = plt.subplots(ncols=ncols, nrows=nrows, figsize=(5 * ncols * aspect_ratio, 5 * nrows), subplot_kw=subplot_kw)\n",
    "cloud_pix=list_of_requests[0][0]\n",
    "best=np.count_nonzero(cloud_pix == 255)\n",
    "for  idx, image in enumerate(list_of_requests):\n",
    "    imagex = image[0][:, :, [0,1, 2]]\n",
    "    cloud_pix = image[0][:, :, 3]\n",
    "    cloud = np.count_nonzero(cloud_pix == 255)\n",
    "    if best > cloud :\n",
    "        best=cloud\n",
    "        best_slot=slots[idx]\n",
    "        pos = idx\n",
    "    print(idx,cloud,slots[idx],imagex.shape)\n",
    "    ax = axs[idx // ncols][idx % ncols]\n",
    "    ax.imshow(np.clip(imagex * 2.5 / 255, 0, 1))\n",
    "    ax.set_title(f\"{slots[idx][0]}  -  {slots[idx][1]}\", fontsize=10)\n",
    "plt.tight_layout()\n",
    "print(best,pos)"
   ]
  },
  {
   "cell_type": "code",
   "execution_count": null,
   "id": "2d6623b7",
   "metadata": {
    "ExecuteTime": {
     "end_time": "2022-10-10T04:18:28.941744Z",
     "start_time": "2022-10-10T04:18:28.941744Z"
    }
   },
   "outputs": [],
   "source": [
    "#plot best image\n",
    "plot_image(list_of_requests[0][:, :, [0, 1, 2]], factor=3.5 / 1e4, clip_range=(0, 1))"
   ]
  },
  {
   "cell_type": "code",
   "execution_count": null,
   "id": "4231bd11",
   "metadata": {},
   "outputs": [],
   "source": []
  }
 ],
 "metadata": {
  "kernelspec": {
   "display_name": "Python 3 (ipykernel)",
   "language": "python",
   "name": "python3"
  },
  "language_info": {
   "codemirror_mode": {
    "name": "ipython",
    "version": 3
   },
   "file_extension": ".py",
   "mimetype": "text/x-python",
   "name": "python",
   "nbconvert_exporter": "python",
   "pygments_lexer": "ipython3",
   "version": "3.8.13"
  },
  "toc": {
   "base_numbering": 1,
   "nav_menu": {},
   "number_sections": true,
   "sideBar": true,
   "skip_h1_title": false,
   "title_cell": "Table of Contents",
   "title_sidebar": "Contents",
   "toc_cell": false,
   "toc_position": {},
   "toc_section_display": true,
   "toc_window_display": false
  }
 },
 "nbformat": 4,
 "nbformat_minor": 5
}

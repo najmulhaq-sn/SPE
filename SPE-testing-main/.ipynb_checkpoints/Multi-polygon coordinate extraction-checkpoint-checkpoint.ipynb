{
 "cells": [
  {
   "cell_type": "code",
   "execution_count": 1,
   "id": "7828ec90",
   "metadata": {},
   "outputs": [],
   "source": [
    "# Start by importing the kml module\n",
    "from fastkml import geometry\n",
    "from fastkml import kml\n",
    "import numpy as np\n"
   ]
  },
  {
   "cell_type": "code",
   "execution_count": null,
   "id": "f5aae69d",
   "metadata": {},
   "outputs": [],
   "source": [
    "\"\"\"\"\n",
    "def kml_coord(path):\n",
    "    coord_list=[]\n",
    "    kml_filename = path\n",
    "    with open(kml_filename) as kml_file:\n",
    "        doc = kml_file.read().encode('utf-8')\n",
    "        k = kml.KML()\n",
    "        k.from_string(doc)\n",
    "        for feature0 in k.features():\n",
    "            #print(\"{}, {}\".format(feature0.name, feature0.description))\n",
    "            for feature1 in feature0.features():\n",
    "                if isinstance(feature1.geometry, geometry.Polygon):\n",
    "                    polygon = feature1.geometry\n",
    "                    for coord in polygon.exterior.coords:\n",
    "                        # these are long, lat tuples\n",
    "                        coord_list.append(coord[:2])\n",
    "    coord_list = np.array(coord_list)\n",
    "    return coord_list\n",
    "    \n",
    "\"\"\""
   ]
  },
  {
   "cell_type": "code",
   "execution_count": 71,
   "id": "dd18eadc",
   "metadata": {},
   "outputs": [],
   "source": [
    "kml_filename = r'C:\\Users\\DELL\\Documents\\GitHub\\SPE\\SPE-testing\\test_kml_files\\AmazonSPE.kml'\n",
    "#kml_filename = r'C:\\Users\\DELL\\Downloads\\bongo.kml'\n",
    "with open(kml_filename) as kml_file:\n",
    "    doc = kml_file.read().encode('utf-8')"
   ]
  },
  {
   "cell_type": "code",
   "execution_count": 72,
   "id": "1d1a59a2",
   "metadata": {},
   "outputs": [],
   "source": [
    "# Create the KML object to store the parsed result\n",
    "k = kml.KML()\n",
    "\n",
    "# Read in the KML string\n",
    "k.from_string(doc) \n"
   ]
  },
  {
   "cell_type": "code",
   "execution_count": 73,
   "id": "e4b4b6e1",
   "metadata": {},
   "outputs": [
    {
     "name": "stdout",
     "output_type": "stream",
     "text": [
      "<kml xmlns=\"http://www.opengis.net/kml/2.2\">\n",
      "  <Document>\n",
      "    <name>AmazonSPE</name>\n",
      "    <visibility>1</visibility>\n",
      "    <StyleMap id=\"__managed_style_0EED1D207925687D78E0\">\n",
      "      <Pair>\n",
      "        <key>normal</key>\n",
      "        <styleUrl>#__managed_style_169A1ECF7825687D78E0</styleUrl>\n",
      "      </Pair>\n",
      "      <Pair>\n",
      "        <key>highlight</key>\n",
      "        <styleUrl>#__managed_style_2D64003ADD25687D78E0</styleUrl>\n",
      "      </Pair>\n",
      "    </StyleMap>\n",
      "    <StyleMap id=\"__managed_style_04F70A729F2567A48987\">\n",
      "      <Pair>\n",
      "        <key>normal</key>\n",
      "        <styleUrl>#__managed_style_1819E125292567A48987</styleUrl>\n",
      "      </Pair>\n",
      "      <Pair>\n",
      "        <key>highlight</key>\n",
      "        <styleUrl>#__managed_style_2BF820624A2567A48987</styleUrl>\n",
      "      </Pair>\n",
      "    </StyleMap>\n",
      "    <StyleMap id=\"__managed_style_072DDEDE6C2567A48985\">\n",
      "      <Pair>\n",
      "        <key>normal</key>\n",
      "        <styleUrl>#__managed_style_12F9A3E1822567A48985</styleUrl>\n",
      "      </Pair>\n",
      "      <Pair>\n",
      "        <key>highlight</key>\n",
      "        <styleUrl>#__managed_style_25867518972567A48985</styleUrl>\n",
      "      </Pair>\n",
      "    </StyleMap>\n",
      "    <Placemark id=\"0139CFA157256796C115\">\n",
      "      <name>1Â°30'27.2\"S 60Â°26'49.3\"W</name>\n",
      "      <visibility>1</visibility>\n",
      "      <styleUrl>#__managed_style_072DDEDE6C2567A48985</styleUrl>\n",
      "      <Point>\n",
      "        <altitudeMode>relativeToGround</altitudeMode>\n",
      "        <coordinates>-60.447016,-1.507554,0.000000</coordinates>\n",
      "      </Point>\n",
      "    </Placemark>\n",
      "    <Placemark id=\"0C2EBF083E2567914334\">\n",
      "      <name>1Â°32'03.8\"S 60Â°25'51.5\"W</name>\n",
      "      <visibility>1</visibility>\n",
      "      <styleUrl>#__managed_style_04F70A729F2567A48987</styleUrl>\n",
      "      <Point>\n",
      "        <altitudeMode>relativeToGround</altitudeMode>\n",
      "        <coordinates>-60.430963,-1.534378,0.000000</coordinates>\n",
      "      </Point>\n",
      "    </Placemark>\n",
      "    <Placemark id=\"02AB79CF9025679361E4\">\n",
      "      <name>1Â°32'13.4\"S 60Â°25'52.9\"W</name>\n",
      "      <visibility>1</visibility>\n",
      "      <styleUrl>#__managed_style_04F70A729F2567A48987</styleUrl>\n",
      "      <Point>\n",
      "        <altitudeMode>relativeToGround</altitudeMode>\n",
      "        <coordinates>-60.431364,-1.537054,0.000000</coordinates>\n",
      "      </Point>\n",
      "    </Placemark>\n",
      "    <Placemark id=\"000B648CA62567956D56\">\n",
      "      <name>1Â°32'52.2\"S 60Â°26'52.9\"W</name>\n",
      "      <visibility>1</visibility>\n",
      "      <styleUrl>#__managed_style_04F70A729F2567A48987</styleUrl>\n",
      "      <Point>\n",
      "        <altitudeMode>relativeToGround</altitudeMode>\n",
      "        <coordinates>-60.448020,-1.547821,0.000000</coordinates>\n",
      "      </Point>\n",
      "    </Placemark>\n",
      "    <Placemark id=\"0FCA2C5844256796013E\">\n",
      "      <name>1Â°30'45.4\"S 60Â°28'11.3\"W</name>\n",
      "      <visibility>1</visibility>\n",
      "      <styleUrl>#__managed_style_04F70A729F2567A48987</styleUrl>\n",
      "      <Point>\n",
      "        <altitudeMode>relativeToGround</altitudeMode>\n",
      "        <coordinates>-60.469795,-1.512615,0.000000</coordinates>\n",
      "      </Point>\n",
      "    </Placemark>\n",
      "    <Placemark id=\"091B7AE07F25687D78DF\">\n",
      "      <name>AmazonSPE_Correct</name>\n",
      "      <visibility>1</visibility>\n",
      "      <styleUrl>#__managed_style_0EED1D207925687D78E0</styleUrl>\n",
      "      <Polygon>\n",
      "        <outerBoundaryIs>\n",
      "          <LinearRing>\n",
      "            <coordinates>-60.448020,-1.547820,66.360497 -60.431364,-1.537053,79.714121 -60.430963,-1.534377,79.720526 -60.447016,-1.507553,76.278517 -60.469795,-1.512614,66.417160 -60.448020,-1.547820,66.360497</coordinates>\n",
      "          </LinearRing>\n",
      "        </outerBoundaryIs>\n",
      "      </Polygon>\n",
      "    </Placemark>\n",
      "  </Document>\n",
      "</kml>\n",
      "\n"
     ]
    }
   ],
   "source": [
    "# Verify that we can print back out the KML object as a string\n",
    "print(k.to_string(prettyprint=True))"
   ]
  },
  {
   "cell_type": "code",
   "execution_count": 74,
   "id": "d84caa26",
   "metadata": {},
   "outputs": [
    {
     "name": "stdout",
     "output_type": "stream",
     "text": [
      "[<fastkml.kml.Document object at 0x000002296D56F9A0>]\n"
     ]
    }
   ],
   "source": [
    "features = list(k.features()) # gives all the features inside\n",
    "print(features)"
   ]
  },
  {
   "cell_type": "code",
   "execution_count": 75,
   "id": "bcc8c3f8",
   "metadata": {},
   "outputs": [
    {
     "name": "stdout",
     "output_type": "stream",
     "text": [
      "1\n"
     ]
    }
   ],
   "source": [
    "# Check that the number of features is correct\n",
    "# This corresponds to the single ``Document``\n",
    "features = list(k.features()) # gives all the features inside\n",
    "print(len(features))"
   ]
  },
  {
   "cell_type": "code",
   "execution_count": 76,
   "id": "ace48b41",
   "metadata": {},
   "outputs": [
    {
     "data": {
      "text/plain": [
       "6"
      ]
     },
     "execution_count": 76,
     "metadata": {},
     "output_type": "execute_result"
    }
   ],
   "source": [
    "len(list(features[0].features()))"
   ]
  },
  {
   "cell_type": "code",
   "execution_count": 77,
   "id": "24dedfaf",
   "metadata": {},
   "outputs": [],
   "source": [
    "def print_child_features(element):\n",
    "    \"\"\"Prints the name of every child node of the given element, recursively\"\"\"\n",
    "    if not getattr(element, \"features\", None):\n",
    "        return\n",
    "    for feature in element.features():\n",
    "        print(feature.name)\n",
    "        print_child_features(feature)\n"
   ]
  },
  {
   "cell_type": "code",
   "execution_count": 78,
   "id": "b1930325",
   "metadata": {},
   "outputs": [
    {
     "name": "stdout",
     "output_type": "stream",
     "text": [
      "AmazonSPE\n",
      "1Â°30'27.2\"S 60Â°26'49.3\"W\n",
      "1Â°32'03.8\"S 60Â°25'51.5\"W\n",
      "1Â°32'13.4\"S 60Â°25'52.9\"W\n",
      "1Â°32'52.2\"S 60Â°26'52.9\"W\n",
      "1Â°30'45.4\"S 60Â°28'11.3\"W\n",
      "AmazonSPE_Correct\n"
     ]
    }
   ],
   "source": [
    "print_child_features(k)"
   ]
  },
  {
   "cell_type": "code",
   "execution_count": 67,
   "id": "3c03b3f1",
   "metadata": {},
   "outputs": [],
   "source": [
    "#k = kml.KML()\n",
    "document = list(k.features())\n",
    "def parse_placemarks(self, document):\n",
    "    for feature in document:\n",
    "        if isinstance(feature, kml.Placemark):  \n",
    "           placemark = feature\n",
    "           self.parse_geometries(placemark)\n",
    "    for feature in document:\n",
    "        if isinstance(feature, kml.Folder):\n",
    "            self.parse_placemarks(list(feature.features()))\n",
    "        if isinstance(feature, kml.Document):\n",
    "           self.parse_placemarks(list(feature.features()))"
   ]
  },
  {
   "cell_type": "code",
   "execution_count": 69,
   "id": "ccdff2cf",
   "metadata": {},
   "outputs": [
    {
     "ename": "TypeError",
     "evalue": "parse_placemarks() missing 1 required positional argument: 'document'",
     "output_type": "error",
     "traceback": [
      "\u001b[1;31m---------------------------------------------------------------------------\u001b[0m",
      "\u001b[1;31mTypeError\u001b[0m                                 Traceback (most recent call last)",
      "\u001b[1;32m~\\AppData\\Local\\Temp\\ipykernel_6168\\2771674427.py\u001b[0m in \u001b[0;36m<cell line: 1>\u001b[1;34m()\u001b[0m\n\u001b[1;32m----> 1\u001b[1;33m \u001b[0mparse_placemarks\u001b[0m\u001b[1;33m(\u001b[0m\u001b[0mdocument\u001b[0m\u001b[1;33m)\u001b[0m\u001b[1;33m\u001b[0m\u001b[1;33m\u001b[0m\u001b[0m\n\u001b[0m",
      "\u001b[1;31mTypeError\u001b[0m: parse_placemarks() missing 1 required positional argument: 'document'"
     ]
    }
   ],
   "source": [
    "parse_placemarks(document)"
   ]
  },
  {
   "cell_type": "code",
   "execution_count": 70,
   "id": "e346ee57",
   "metadata": {},
   "outputs": [
    {
     "ename": "AttributeError",
     "evalue": "'list' object has no attribute 'parse_placemarks'",
     "output_type": "error",
     "traceback": [
      "\u001b[1;31m---------------------------------------------------------------------------\u001b[0m",
      "\u001b[1;31mAttributeError\u001b[0m                            Traceback (most recent call last)",
      "\u001b[1;32m~\\AppData\\Local\\Temp\\ipykernel_6168\\866520225.py\u001b[0m in \u001b[0;36m<cell line: 1>\u001b[1;34m()\u001b[0m\n\u001b[1;32m----> 1\u001b[1;33m \u001b[0mdocument\u001b[0m\u001b[1;33m.\u001b[0m\u001b[0mparse_placemarks\u001b[0m\u001b[1;33m(\u001b[0m\u001b[0mlist\u001b[0m\u001b[1;33m(\u001b[0m\u001b[0mfeature\u001b[0m\u001b[1;33m.\u001b[0m\u001b[0mfeatures\u001b[0m\u001b[1;33m(\u001b[0m\u001b[1;33m)\u001b[0m\u001b[1;33m)\u001b[0m\u001b[1;33m)\u001b[0m\u001b[1;33m\u001b[0m\u001b[1;33m\u001b[0m\u001b[0m\n\u001b[0m",
      "\u001b[1;31mAttributeError\u001b[0m: 'list' object has no attribute 'parse_placemarks'"
     ]
    }
   ],
   "source": [
    "document.parse_placemarks(list(feature.features()))"
   ]
  },
  {
   "cell_type": "code",
   "execution_count": 47,
   "id": "6033cbf8",
   "metadata": {},
   "outputs": [
    {
     "name": "stdout",
     "output_type": "stream",
     "text": [
      "<generator object _Container.features at 0x0000022974E0F040>\n"
     ]
    }
   ],
   "source": [
    "# Check that we can access the features as a generator\n",
    "# (The two Placemarks of the Document)\n",
    "print(features[0].features())\n"
   ]
  },
  {
   "cell_type": "code",
   "execution_count": 44,
   "id": "c64203f1",
   "metadata": {},
   "outputs": [
    {
     "name": "stdout",
     "output_type": "stream",
     "text": [
      "1\n"
     ]
    }
   ],
   "source": [
    "f2 = list(features[0].features())\n",
    "print(len(f2))"
   ]
  },
  {
   "cell_type": "code",
   "execution_count": 16,
   "id": "9f446b7d",
   "metadata": {},
   "outputs": [
    {
     "data": {
      "text/plain": [
       "1"
      ]
     },
     "execution_count": 16,
     "metadata": {},
     "output_type": "execute_result"
    }
   ],
   "source": [
    "len(features)"
   ]
  },
  {
   "cell_type": "code",
   "execution_count": 23,
   "id": "7f899082",
   "metadata": {},
   "outputs": [
    {
     "data": {
      "text/plain": [
       "6"
      ]
     },
     "execution_count": 23,
     "metadata": {},
     "output_type": "execute_result"
    }
   ],
   "source": [
    "# Check that we can access the features as a generator\n",
    "# (The six Placemarks of the Document)\n",
    "len(list(features[0].features()))"
   ]
  },
  {
   "cell_type": "code",
   "execution_count": 25,
   "id": "02948ebb",
   "metadata": {},
   "outputs": [],
   "source": [
    "f2 = list(features[0].features())\n",
    "# Check specifics of the first Placemark in the Document\n",
    "f2[0]\n",
    "f2[0].description\n"
   ]
  },
  {
   "cell_type": "code",
   "execution_count": 30,
   "id": "8545d73a",
   "metadata": {},
   "outputs": [
    {
     "data": {
      "text/plain": [
       "'1Â°30\\'27.2\"S 60Â°26\\'49.3\"W'"
      ]
     },
     "execution_count": 30,
     "metadata": {},
     "output_type": "execute_result"
    }
   ],
   "source": [
    "f2[0].name"
   ]
  },
  {
   "cell_type": "code",
   "execution_count": 27,
   "id": "9ffa300f",
   "metadata": {},
   "outputs": [
    {
     "data": {
      "text/plain": [
       "'1Â°32\\'03.8\"S 60Â°25\\'51.5\"W'"
      ]
     },
     "execution_count": 27,
     "metadata": {},
     "output_type": "execute_result"
    }
   ],
   "source": [
    "f2[1].name"
   ]
  },
  {
   "cell_type": "code",
   "execution_count": 31,
   "id": "282d3c70",
   "metadata": {},
   "outputs": [
    {
     "data": {
      "text/plain": [
       "'1Â°32\\'13.4\"S 60Â°25\\'52.9\"W'"
      ]
     },
     "execution_count": 31,
     "metadata": {},
     "output_type": "execute_result"
    }
   ],
   "source": [
    "f2[2].name"
   ]
  },
  {
   "cell_type": "code",
   "execution_count": null,
   "id": "1768b198",
   "metadata": {},
   "outputs": [],
   "source": []
  }
 ],
 "metadata": {
  "kernelspec": {
   "display_name": "Python 3 (ipykernel)",
   "language": "python",
   "name": "python3"
  },
  "language_info": {
   "codemirror_mode": {
    "name": "ipython",
    "version": 3
   },
   "file_extension": ".py",
   "mimetype": "text/x-python",
   "name": "python",
   "nbconvert_exporter": "python",
   "pygments_lexer": "ipython3",
   "version": "3.8.0"
  }
 },
 "nbformat": 4,
 "nbformat_minor": 5
}

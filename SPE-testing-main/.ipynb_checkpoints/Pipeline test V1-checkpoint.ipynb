{
 "cells": [
  {
   "cell_type": "code",
   "execution_count": 8,
   "id": "e3fc4ddc",
   "metadata": {},
   "outputs": [
    {
     "name": "stdout",
     "output_type": "stream",
     "text": [
      "Enter kml file path: C:\\Users\\User\\Downloads\\gAMPOLA TEST SITE 2.kml\n",
      "C:\\Users\\User\\Downloads\\gAMPOLA TEST SITE 2.kml\n",
      "The file exists\n",
      "gAMPOLA TEST SITE 2, None\n",
      "[[80.54830488  7.09138959]\n",
      " [80.54862792  7.0908058 ]\n",
      " [80.54983642  7.09009562]\n",
      " [80.55092306  7.09024294]\n",
      " [80.55188896  7.09040945]\n",
      " [80.55227594  7.09060375]\n",
      " [80.55291793  7.09075515]\n",
      " [80.55346817  7.09067105]\n",
      " [80.55432141  7.09055437]\n",
      " [80.55468188  7.09055554]\n",
      " [80.55514106  7.09091272]\n",
      " [80.55538022  7.09175008]\n",
      " [80.55549106  7.09276935]\n",
      " [80.55517581  7.09363418]\n",
      " [80.55438863  7.09398713]\n",
      " [80.55357122  7.09426935]\n",
      " [80.55309183  7.09425854]\n",
      " [80.55259774  7.09410748]\n",
      " [80.55215408  7.09387411]\n",
      " [80.55163136  7.09373405]\n",
      " [80.55100531  7.09343574]\n",
      " [80.55023178  7.09319959]\n",
      " [80.55022909  7.09321476]\n",
      " [80.54910537  7.09293352]\n",
      " [80.54821586  7.0922228 ]\n",
      " [80.54830488  7.09138959]]\n",
      "10\n",
      "[[[0. 0. 0. 0.]\n",
      "  [0. 0. 0. 0.]\n",
      "  [0. 0. 0. 0.]\n",
      "  ...\n",
      "  [0. 0. 0. 0.]\n",
      "  [0. 0. 0. 0.]\n",
      "  [0. 0. 0. 0.]]\n",
      "\n",
      " [[0. 0. 0. 0.]\n",
      "  [0. 0. 0. 0.]\n",
      "  [0. 0. 0. 0.]\n",
      "  ...\n",
      "  [0. 0. 0. 0.]\n",
      "  [0. 0. 0. 0.]\n",
      "  [0. 0. 0. 0.]]\n",
      "\n",
      " [[0. 0. 0. 0.]\n",
      "  [0. 0. 0. 0.]\n",
      "  [0. 0. 0. 0.]\n",
      "  ...\n",
      "  [0. 0. 0. 0.]\n",
      "  [0. 0. 0. 0.]\n",
      "  [0. 0. 0. 0.]]\n",
      "\n",
      " ...\n",
      "\n",
      " [[0. 0. 0. 0.]\n",
      "  [0. 0. 0. 0.]\n",
      "  [0. 0. 0. 0.]\n",
      "  ...\n",
      "  [0. 0. 0. 0.]\n",
      "  [0. 0. 0. 0.]\n",
      "  [0. 0. 0. 0.]]\n",
      "\n",
      " [[0. 0. 0. 0.]\n",
      "  [0. 0. 0. 0.]\n",
      "  [0. 0. 0. 0.]\n",
      "  ...\n",
      "  [0. 0. 0. 0.]\n",
      "  [0. 0. 0. 0.]\n",
      "  [0. 0. 0. 0.]]\n",
      "\n",
      " [[0. 0. 0. 0.]\n",
      "  [0. 0. 0. 0.]\n",
      "  [0. 0. 0. 0.]\n",
      "  ...\n",
      "  [0. 0. 0. 0.]\n",
      "  [0. 0. 0. 0.]\n",
      "  [0. 0. 0. 0.]]]\n"
     ]
    }
   ],
   "source": [
    "import os\n",
    "from Utils.read_coord import kml_coord\n",
    "from Utils.sentinal_request import senti_api\n",
    "from Utils.forest_cover import get_cover\n",
    "\n",
    "file_path = input('Enter kml file path: ')\n",
    "print(file_path)\n",
    "\n",
    "if os.path.exists(file_path):\n",
    "    print('The file exists')\n",
    "\n",
    "    with open(file_path, 'r', encoding='utf-8-sig') as f:\n",
    "        lines = f.readlines()\n",
    "\n",
    "        #print(lines)\n",
    "else:\n",
    "    print('The specified file does NOT exist')\n",
    "    \n",
    "poly_coord = kml_coord(file_path)\n",
    "print(poly_coord)\n",
    "\n",
    "img,resol = senti_api(poly_coord)\n",
    "print(resol)\n",
    "print(img)"
   ]
  },
  {
   "cell_type": "code",
   "execution_count": 9,
   "id": "70daaff4",
   "metadata": {},
   "outputs": [
    {
     "data": {
      "text/plain": [
       "(46, 80, 4)"
      ]
     },
     "execution_count": 9,
     "metadata": {},
     "output_type": "execute_result"
    }
   ],
   "source": [
    "img.shape"
   ]
  },
  {
   "cell_type": "code",
   "execution_count": 10,
   "id": "cb270978",
   "metadata": {},
   "outputs": [
    {
     "data": {
      "text/plain": [
       "array([0., 0., 0., 0.], dtype=float32)"
      ]
     },
     "execution_count": 10,
     "metadata": {},
     "output_type": "execute_result"
    }
   ],
   "source": [
    "img[40][50]"
   ]
  },
  {
   "cell_type": "code",
   "execution_count": 11,
   "id": "ef98685b",
   "metadata": {},
   "outputs": [
    {
     "name": "stdout",
     "output_type": "stream",
     "text": [
      "Forest/ Green area:  0.1419 km2\n",
      "Forest/green cover:  56.76 %\n"
     ]
    },
    {
     "name": "stderr",
     "output_type": "stream",
     "text": [
      "C:\\Users\\User\\Anaconda3\\envs\\spe\\lib\\site-packages\\earthpy\\spatial.py:105: RuntimeWarning: invalid value encountered in divide\n",
      "  n_diff = (b1 - b2) / (b1 + b2)\n"
     ]
    },
    {
     "data": {
      "text/plain": [
       "(0.1419, None)"
      ]
     },
     "execution_count": 11,
     "metadata": {},
     "output_type": "execute_result"
    }
   ],
   "source": [
    "from Utils.forest_cover import get_cover\n",
    "get_cover(img,resol,0.25)"
   ]
  },
  {
   "cell_type": "code",
   "execution_count": 12,
   "id": "ad26bdfb",
   "metadata": {},
   "outputs": [],
   "source": [
    "red = img[:, :, 2]\n",
    "nir = img[:, :, 3]"
   ]
  },
  {
   "cell_type": "code",
   "execution_count": 13,
   "id": "f404405e",
   "metadata": {},
   "outputs": [
    {
     "data": {
      "text/plain": [
       "(46, 80)"
      ]
     },
     "execution_count": 13,
     "metadata": {},
     "output_type": "execute_result"
    }
   ],
   "source": [
    "red.shape"
   ]
  },
  {
   "cell_type": "code",
   "execution_count": 14,
   "id": "4f33ba04",
   "metadata": {},
   "outputs": [],
   "source": [
    "from Utils.forest_cover import ndvi_api\n",
    "from Utils.forest_cover import green_area\n",
    "from Utils.forest_cover import green_cover"
   ]
  },
  {
   "cell_type": "code",
   "execution_count": 15,
   "id": "5a85d505",
   "metadata": {},
   "outputs": [
    {
     "data": {
      "text/plain": [
       "(46, 80)"
      ]
     },
     "execution_count": 15,
     "metadata": {},
     "output_type": "execute_result"
    }
   ],
   "source": [
    "ndvi = ndvi_api(red,nir)\n",
    "ndvi.shape"
   ]
  },
  {
   "cell_type": "code",
   "execution_count": 16,
   "id": "b8a7d1b5",
   "metadata": {},
   "outputs": [
    {
     "data": {
      "text/plain": [
       "masked"
      ]
     },
     "execution_count": 16,
     "metadata": {},
     "output_type": "execute_result"
    }
   ],
   "source": [
    "ndvi[40][50]"
   ]
  },
  {
   "cell_type": "code",
   "execution_count": 17,
   "id": "fd18559b",
   "metadata": {},
   "outputs": [
    {
     "name": "stdout",
     "output_type": "stream",
     "text": [
      "Forest/ Green area:  0.1419 km2\n"
     ]
    },
    {
     "data": {
      "text/plain": [
       "0.1419"
      ]
     },
     "execution_count": 17,
     "metadata": {},
     "output_type": "execute_result"
    }
   ],
   "source": [
    "green_area = green_area(ndvi,resol)\n",
    "green_area"
   ]
  },
  {
   "cell_type": "code",
   "execution_count": 19,
   "id": "7c2cf94b",
   "metadata": {},
   "outputs": [
    {
     "name": "stdout",
     "output_type": "stream",
     "text": [
      "Forest/green cover:  56.76 %\n"
     ]
    }
   ],
   "source": [
    "green_cover(green_area,0.25)"
   ]
  },
  {
   "cell_type": "code",
   "execution_count": 20,
   "id": "e33207cb",
   "metadata": {},
   "outputs": [],
   "source": [
    "def get_cover(req,res,total_area):\n",
    "    red = req[:, :, 2]\n",
    "    nir = req[:, :, 3]\n",
    "    ndvi = ndvi_api(red, nir)\n",
    "    forest_area = green_area(ndvi,res)\n",
    "    forest_cover = green_cover(forest_area,total_area)"
   ]
  },
  {
   "cell_type": "code",
   "execution_count": 21,
   "id": "b8dbaa6b",
   "metadata": {},
   "outputs": [
    {
     "ename": "TypeError",
     "evalue": "'float' object is not callable",
     "output_type": "error",
     "traceback": [
      "\u001b[1;31m---------------------------------------------------------------------------\u001b[0m",
      "\u001b[1;31mTypeError\u001b[0m                                 Traceback (most recent call last)",
      "Cell \u001b[1;32mIn [21], line 1\u001b[0m\n\u001b[1;32m----> 1\u001b[0m \u001b[43mget_cover\u001b[49m\u001b[43m(\u001b[49m\u001b[43mimg\u001b[49m\u001b[43m,\u001b[49m\u001b[43mresol\u001b[49m\u001b[43m,\u001b[49m\u001b[38;5;241;43m1000\u001b[39;49m\u001b[43m)\u001b[49m\n",
      "Cell \u001b[1;32mIn [20], line 5\u001b[0m, in \u001b[0;36mget_cover\u001b[1;34m(req, res, total_area)\u001b[0m\n\u001b[0;32m      3\u001b[0m nir \u001b[38;5;241m=\u001b[39m req[:, :, \u001b[38;5;241m3\u001b[39m]\n\u001b[0;32m      4\u001b[0m ndvi \u001b[38;5;241m=\u001b[39m ndvi_api(red, nir)\n\u001b[1;32m----> 5\u001b[0m forest_area \u001b[38;5;241m=\u001b[39m \u001b[43mgreen_area\u001b[49m\u001b[43m(\u001b[49m\u001b[43mndvi\u001b[49m\u001b[43m,\u001b[49m\u001b[43mres\u001b[49m\u001b[43m)\u001b[49m\n\u001b[0;32m      6\u001b[0m forest_cover \u001b[38;5;241m=\u001b[39m green_cover(forest_area,total_area)\n",
      "\u001b[1;31mTypeError\u001b[0m: 'float' object is not callable"
     ]
    }
   ],
   "source": [
    "get_cover(img,resol,1000)"
   ]
  },
  {
   "cell_type": "code",
   "execution_count": null,
   "id": "842d98c0",
   "metadata": {},
   "outputs": [],
   "source": []
  }
 ],
 "metadata": {
  "kernelspec": {
   "display_name": "Python 3 (ipykernel)",
   "language": "python",
   "name": "python3"
  },
  "language_info": {
   "codemirror_mode": {
    "name": "ipython",
    "version": 3
   },
   "file_extension": ".py",
   "mimetype": "text/x-python",
   "name": "python",
   "nbconvert_exporter": "python",
   "pygments_lexer": "ipython3",
   "version": "3.8.0"
  }
 },
 "nbformat": 4,
 "nbformat_minor": 5
}

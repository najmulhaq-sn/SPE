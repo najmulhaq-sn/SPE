{
 "cells": [
  {
   "cell_type": "markdown",
   "id": "b021b0ac",
   "metadata": {},
   "source": [
    "# Polygon Area Calculation"
   ]
  },
  {
   "cell_type": "markdown",
   "id": "8c3e4e39",
   "metadata": {},
   "source": [
    "Calculate the selected polygon area by calculating back ground (bg) pixels.  \n",
    "API is always providing a bounding box (BB) which polygon is inside.  \n",
    "To estimate the actual polygon area, the following approach going to be taken.  \n",
    "__Approach 1:__    \n",
    "1. Calculate the bg pixel count which is stored as 0.0\n",
    "2. Get the BB pixel count -> (rows*cols)\n",
    "3. Polygon area = BB pixel - bg pixel"
   ]
  },
  {
   "cell_type": "code",
   "execution_count": 1,
   "id": "f61e0938",
   "metadata": {},
   "outputs": [],
   "source": [
    "import numpy as np\n",
    "import numpy.ma as ma\n",
    "import rioxarray as rxr\n",
    "import earthpy as et\n",
    "import earthpy.spatial as es"
   ]
  },
  {
   "cell_type": "markdown",
   "id": "08544867",
   "metadata": {},
   "source": [
    "## Gampola Land"
   ]
  },
  {
   "cell_type": "code",
   "execution_count": 133,
   "id": "04392b59",
   "metadata": {},
   "outputs": [],
   "source": [
    "img_path = r'C:\\Users\\User\\OneDrive - Engenuity (Pvt) Ltd\\Github\\SPE-testing\\Cloud cover\\Data\\4214373c5795de2e9483de852fe0920e'\n",
    "file = 'response.tiff'\n",
    "file = rxr.open_rasterio(img_path+'/'+file)"
   ]
  },
  {
   "cell_type": "code",
   "execution_count": 134,
   "id": "efad932a",
   "metadata": {},
   "outputs": [
    {
     "name": "stdout",
     "output_type": "stream",
     "text": [
      "(5, 46, 80)\n"
     ]
    }
   ],
   "source": [
    "print(file.shape)"
   ]
  },
  {
   "cell_type": "code",
   "execution_count": 135,
   "id": "46334961",
   "metadata": {},
   "outputs": [
    {
     "data": {
      "text/plain": [
       "array([[[0., 0., 0., ..., 0., 0., 0.],\n",
       "        [0., 0., 0., ..., 0., 0., 0.],\n",
       "        [0., 0., 0., ..., 0., 0., 0.],\n",
       "        ...,\n",
       "        [0., 0., 0., ..., 0., 0., 0.],\n",
       "        [0., 0., 0., ..., 0., 0., 0.],\n",
       "        [0., 0., 0., ..., 0., 0., 0.]],\n",
       "\n",
       "       [[0., 0., 0., ..., 0., 0., 0.],\n",
       "        [0., 0., 0., ..., 0., 0., 0.],\n",
       "        [0., 0., 0., ..., 0., 0., 0.],\n",
       "        ...,\n",
       "        [0., 0., 0., ..., 0., 0., 0.],\n",
       "        [0., 0., 0., ..., 0., 0., 0.],\n",
       "        [0., 0., 0., ..., 0., 0., 0.]],\n",
       "\n",
       "       [[0., 0., 0., ..., 0., 0., 0.],\n",
       "        [0., 0., 0., ..., 0., 0., 0.],\n",
       "        [0., 0., 0., ..., 0., 0., 0.],\n",
       "        ...,\n",
       "        [0., 0., 0., ..., 0., 0., 0.],\n",
       "        [0., 0., 0., ..., 0., 0., 0.],\n",
       "        [0., 0., 0., ..., 0., 0., 0.]],\n",
       "\n",
       "       [[0., 0., 0., ..., 0., 0., 0.],\n",
       "        [0., 0., 0., ..., 0., 0., 0.],\n",
       "        [0., 0., 0., ..., 0., 0., 0.],\n",
       "        ...,\n",
       "        [0., 0., 0., ..., 0., 0., 0.],\n",
       "        [0., 0., 0., ..., 0., 0., 0.],\n",
       "        [0., 0., 0., ..., 0., 0., 0.]],\n",
       "\n",
       "       [[0., 0., 0., ..., 0., 0., 0.],\n",
       "        [0., 0., 0., ..., 0., 0., 0.],\n",
       "        [0., 0., 0., ..., 0., 0., 0.],\n",
       "        ...,\n",
       "        [0., 0., 0., ..., 0., 0., 0.],\n",
       "        [0., 0., 0., ..., 0., 0., 0.],\n",
       "        [0., 0., 0., ..., 0., 0., 0.]]], dtype=float32)"
      ]
     },
     "execution_count": 135,
     "metadata": {},
     "output_type": "execute_result"
    }
   ],
   "source": [
    "file.values"
   ]
  },
  {
   "cell_type": "code",
   "execution_count": 136,
   "id": "91a5457d",
   "metadata": {},
   "outputs": [
    {
     "name": "stdout",
     "output_type": "stream",
     "text": [
      "46\n",
      "80\n"
     ]
    }
   ],
   "source": [
    "_, rows, cols = file.shape\n",
    "print(rows)\n",
    "print(cols)"
   ]
  },
  {
   "cell_type": "code",
   "execution_count": 137,
   "id": "32491781",
   "metadata": {},
   "outputs": [
    {
     "data": {
      "text/plain": [
       "(46, 80)"
      ]
     },
     "execution_count": 137,
     "metadata": {},
     "output_type": "execute_result"
    }
   ],
   "source": [
    "bb = file[3].values.copy()\n",
    "bb.shape"
   ]
  },
  {
   "cell_type": "code",
   "execution_count": 138,
   "id": "6b94f83d",
   "metadata": {},
   "outputs": [],
   "source": [
    "for i in range(0,rows-1):\n",
    "    for j in range(0,cols-1):\n",
    "        if bb[i][j] > 0.0:\n",
    "            bb[i][j] = 0\n",
    "        else:\n",
    "            bb[i][j] = 1"
   ]
  },
  {
   "cell_type": "code",
   "execution_count": 139,
   "id": "aff5431c",
   "metadata": {},
   "outputs": [
    {
     "data": {
      "text/plain": [
       "1020"
      ]
     },
     "execution_count": 139,
     "metadata": {},
     "output_type": "execute_result"
    }
   ],
   "source": [
    "bb_list = bb.tolist()\n",
    "bg_pixel = sum(x.count(1) for x in bb_list)\n",
    "bg_pixel"
   ]
  },
  {
   "cell_type": "code",
   "execution_count": 140,
   "id": "ebcce13c",
   "metadata": {},
   "outputs": [
    {
     "data": {
      "text/plain": [
       "2660"
      ]
     },
     "execution_count": 140,
     "metadata": {},
     "output_type": "execute_result"
    }
   ],
   "source": [
    "land_pixel = (rows*cols)-bg_pixel\n",
    "land_pixel"
   ]
  },
  {
   "cell_type": "code",
   "execution_count": 141,
   "id": "ddc58a6f",
   "metadata": {},
   "outputs": [
    {
     "name": "stdout",
     "output_type": "stream",
     "text": [
      "0.266 sqr kilometers\n"
     ]
    }
   ],
   "source": [
    "res = 10\n",
    "land_area = (land_pixel*res*res)/1000000 # in km2\n",
    "print(land_area, \"sqr kilometers\")"
   ]
  },
  {
   "cell_type": "markdown",
   "id": "29446229",
   "metadata": {},
   "source": [
    "## Sri Lanka"
   ]
  },
  {
   "cell_type": "code",
   "execution_count": 123,
   "id": "47d42de9",
   "metadata": {},
   "outputs": [
    {
     "name": "stdout",
     "output_type": "stream",
     "text": [
      "(4, 2476, 1453)\n"
     ]
    },
    {
     "data": {
      "text/plain": [
       "array([[[1196., 1197., 1198., ...,    0.,    0.,    0.],\n",
       "        [1199., 1196., 1197., ...,    0.,    0.,    0.],\n",
       "        [1204., 1205., 1213., ...,    0.,    0.,    0.],\n",
       "        ...,\n",
       "        [   0.,    0.,    0., ...,    0.,    0.,    0.],\n",
       "        [   0.,    0.,    0., ...,    0.,    0.,    0.],\n",
       "        [   0.,    0.,    0., ...,    0.,    0.,    0.]],\n",
       "\n",
       "       [[ 923.,  925.,  925., ...,    0.,    0.,    0.],\n",
       "        [ 928.,  925.,  926., ...,    0.,    0.,    0.],\n",
       "        [ 936.,  938.,  941., ...,    0.,    0.,    0.],\n",
       "        ...,\n",
       "        [   0.,    0.,    0., ...,    0.,    0.,    0.],\n",
       "        [   0.,    0.,    0., ...,    0.,    0.,    0.],\n",
       "        [   0.,    0.,    0., ...,    0.,    0.,    0.]],\n",
       "\n",
       "       [[ 403.,  404.,  404., ...,    0.,    0.,    0.],\n",
       "        [ 404.,  405.,  404., ...,    0.,    0.,    0.],\n",
       "        [ 410.,  412.,  412., ...,    0.,    0.,    0.],\n",
       "        ...,\n",
       "        [   0.,    0.,    0., ...,    0.,    0.,    0.],\n",
       "        [   0.,    0.,    0., ...,    0.,    0.,    0.],\n",
       "        [   0.,    0.,    0., ...,    0.,    0.,    0.]],\n",
       "\n",
       "       [[ 187.,  187.,  188., ...,    0.,    0.,    0.],\n",
       "        [ 188.,  188.,  187., ...,    0.,    0.,    0.],\n",
       "        [ 190.,  188.,  189., ...,    0.,    0.,    0.],\n",
       "        ...,\n",
       "        [   0.,    0.,    0., ...,    0.,    0.,    0.],\n",
       "        [   0.,    0.,    0., ...,    0.,    0.,    0.],\n",
       "        [   0.,    0.,    0., ...,    0.,    0.,    0.]]], dtype=float32)"
      ]
     },
     "execution_count": 123,
     "metadata": {},
     "output_type": "execute_result"
    }
   ],
   "source": [
    "img_path = r'C:\\Users\\User\\OneDrive - Engenuity (Pvt) Ltd\\Github\\SPE-testing\\Sentinel-hub API\\Data\\c63cc1c7352bd86d218dbe557a56aa21'\n",
    "file = 'response.tiff'\n",
    "file = rxr.open_rasterio(img_path+'/'+file)\n",
    "print(file.shape)\n",
    "file.values"
   ]
  },
  {
   "cell_type": "code",
   "execution_count": 93,
   "id": "4376e7e0",
   "metadata": {},
   "outputs": [
    {
     "name": "stdout",
     "output_type": "stream",
     "text": [
      "(2476, 1453)\n",
      "2476\n",
      "1453\n"
     ]
    }
   ],
   "source": [
    "bb = file[3].values.copy()\n",
    "print(bb.shape)\n",
    "rows, cols = bb.shape\n",
    "print(rows)\n",
    "print(cols)"
   ]
  },
  {
   "cell_type": "code",
   "execution_count": 94,
   "id": "a8d47c8c",
   "metadata": {},
   "outputs": [],
   "source": [
    "for i in range(0,rows-1):\n",
    "    for j in range(0,cols-1):\n",
    "        if bb[i][j] > 0.0:\n",
    "            bb[i][j] = 0\n",
    "        else:\n",
    "            bb[i][j] = 1"
   ]
  },
  {
   "cell_type": "code",
   "execution_count": 95,
   "id": "7512da4b",
   "metadata": {},
   "outputs": [
    {
     "data": {
      "text/plain": [
       "333614"
      ]
     },
     "execution_count": 95,
     "metadata": {},
     "output_type": "execute_result"
    }
   ],
   "source": [
    "bb_list = bb.tolist()\n",
    "bg_pixel = sum(x.count(1) for x in bb_list)\n",
    "bg_pixel"
   ]
  },
  {
   "cell_type": "code",
   "execution_count": 96,
   "id": "5ff7ed53",
   "metadata": {},
   "outputs": [
    {
     "data": {
      "text/plain": [
       "3264014"
      ]
     },
     "execution_count": 96,
     "metadata": {},
     "output_type": "execute_result"
    }
   ],
   "source": [
    "land_pixel = (rows*cols)-bg_pixel\n",
    "land_pixel"
   ]
  },
  {
   "cell_type": "code",
   "execution_count": 98,
   "id": "dc52cbd3",
   "metadata": {},
   "outputs": [
    {
     "name": "stdout",
     "output_type": "stream",
     "text": [
      "59486.66 sqr kilometers\n"
     ]
    }
   ],
   "source": [
    "res = 135\n",
    "land_area = np.round((land_pixel*res*res)/1000000,2) # in km2\n",
    "print(land_area, \"sqr kilometers\")"
   ]
  },
  {
   "cell_type": "markdown",
   "id": "cda0975a",
   "metadata": {},
   "source": [
    "## Polygon Area Function"
   ]
  },
  {
   "cell_type": "code",
   "execution_count": 151,
   "id": "14fa5c6f",
   "metadata": {},
   "outputs": [],
   "source": [
    "def poly_area(req,resol):\n",
    "    bb = req[0].values\n",
    "    r, c = bb.shape\n",
    "    \n",
    "    for i in range(0,r-1):\n",
    "        for j in range(0,c-1):\n",
    "            if bb[i][j] > 0.0:\n",
    "                bb[i][j] = 0\n",
    "            else:\n",
    "                bb[i][j] = 1\n",
    "            \n",
    "    bb_list = bb.tolist()\n",
    "    bg_pixel = sum(x.count(1) for x in bb_list)\n",
    "    poly_pixel = (r*c)-bg_pixel\n",
    "    poly_area = np.round((poly_pixel*res*res)/1000000,2) # in km2\n",
    "    print(\"Polygon Area\",poly_area, \"km2\")\n",
    "    \n",
    "    return poly_area"
   ]
  },
  {
   "cell_type": "markdown",
   "id": "8e1acbd5",
   "metadata": {},
   "source": [
    "Test with Gampola site"
   ]
  },
  {
   "cell_type": "code",
   "execution_count": 152,
   "id": "b4e05bdc",
   "metadata": {},
   "outputs": [
    {
     "name": "stdout",
     "output_type": "stream",
     "text": [
      "Polygon Area 0.11 km2\n"
     ]
    },
    {
     "data": {
      "text/plain": [
       "0.11"
      ]
     },
     "execution_count": 152,
     "metadata": {},
     "output_type": "execute_result"
    }
   ],
   "source": [
    "poly_area(file,10)"
   ]
  },
  {
   "cell_type": "code",
   "execution_count": null,
   "id": "242efa2d",
   "metadata": {},
   "outputs": [],
   "source": []
  }
 ],
 "metadata": {
  "kernelspec": {
   "display_name": "Python 3 (ipykernel)",
   "language": "python",
   "name": "python3"
  },
  "language_info": {
   "codemirror_mode": {
    "name": "ipython",
    "version": 3
   },
   "file_extension": ".py",
   "mimetype": "text/x-python",
   "name": "python",
   "nbconvert_exporter": "python",
   "pygments_lexer": "ipython3",
   "version": "3.8.13"
  },
  "toc": {
   "base_numbering": 1,
   "nav_menu": {},
   "number_sections": true,
   "sideBar": true,
   "skip_h1_title": false,
   "title_cell": "Table of Contents",
   "title_sidebar": "Contents",
   "toc_cell": false,
   "toc_position": {},
   "toc_section_display": true,
   "toc_window_display": false
  }
 },
 "nbformat": 4,
 "nbformat_minor": 5
}

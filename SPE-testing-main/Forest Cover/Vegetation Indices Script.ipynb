{
 "cells": [
  {
   "cell_type": "code",
   "execution_count": null,
   "id": "7be63527",
   "metadata": {},
   "outputs": [],
   "source": [
    "import numpy as np\n",
    "\n",
    "def normalized_diff(b1, b2):\n",
    "    \"\"\"Take two n-dimensional numpy arrays and calculate the normalized\n",
    "    difference.\n",
    "\n",
    "    Math will be calculated (b1-b2) / (b1 + b2).\n",
    "\n",
    "    Parameters\n",
    "    ----------\n",
    "    b1, b2 : numpy arrays\n",
    "        Two numpy arrays that will be used to calculate the normalized\n",
    "        difference. Math will be calculated (b1-b2) / (b1+b2).\n",
    "\n",
    "    Returns\n",
    "    ----------\n",
    "    n_diff : numpy array\n",
    "        The element-wise result of (b1-b2) / (b1+b2) calculation. Inf values\n",
    "        are set to nan. Array returned as masked if result includes nan values.\n",
    "        \n",
    "    \"\"\"\n",
    "    \n",
    "    if not (b1.shape == b2.shape):\n",
    "        raise ValueError(\"Both arrays should have the same dimensions\")\n",
    "    \n",
    "    \n",
    "    # Ignore warning for division by zero\n",
    "    with np.errstate(divide=\"ignore\",invalid='ignore'):\n",
    "        \n",
    "       \n",
    "        n_diff = (b1 - b2) / (b1 + b2)\n",
    "\n",
    "    #Set inf values to nan and provide custom warning\n",
    "    if np.isinf(n_diff).any():\n",
    "        warnings.warn(\n",
    "            \"Divide by zero produced infinity values that will be replaced \"\n",
    "            \"with nan values\",\n",
    "            Warning,\n",
    "        )\n",
    "        n_diff[np.isinf(n_diff)] = np.nan\n",
    "\n",
    "    # Mask invalid values\n",
    "    if np.isnan(n_diff).any():\n",
    "        n_diff = np.ma.masked_invalid(n_diff)\n",
    "\n",
    "    return n_diff\n"
   ]
  }
 ],
 "metadata": {
  "kernelspec": {
   "display_name": "Python 3 (ipykernel)",
   "language": "python",
   "name": "python3"
  },
  "language_info": {
   "codemirror_mode": {
    "name": "ipython",
    "version": 3
   },
   "file_extension": ".py",
   "mimetype": "text/x-python",
   "name": "python",
   "nbconvert_exporter": "python",
   "pygments_lexer": "ipython3",
   "version": "3.8.0"
  }
 },
 "nbformat": 4,
 "nbformat_minor": 5
}

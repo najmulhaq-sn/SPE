{
 "cells": [
  {
   "cell_type": "code",
   "execution_count": 3,
   "id": "91b6c322",
   "metadata": {},
   "outputs": [],
   "source": [
    "import os\n",
    "from Utils.read_coord import kml_coord\n",
    "from Utils.sentinal_request import senti_api\n",
    "from Utils.forest_cover import get_cover,green_cover_plot\n",
    "from Utils.seques_forecast import plot_SEQ,cal_existing\n",
    "from Utils.map_view import map_show\n",
    "from Utils.tree_count import count_trees\n",
    "from Utils.tree_count import tree_count\n",
    "import webbrowser"
   ]
  },
  {
   "cell_type": "code",
   "execution_count": 4,
   "id": "f90c7eee",
   "metadata": {},
   "outputs": [
    {
     "name": "stdout",
     "output_type": "stream",
     "text": [
      "Enter kml file path: C:\\Users\\User\\OneDrive - Engenuity (Pvt) Ltd\\Github\\SPE-testing\\Test Data\\Rubber Kalutara.kml\n",
      "C:\\Users\\User\\OneDrive - Engenuity (Pvt) Ltd\\Github\\SPE-testing\\Test Data\\Rubber Kalutara.kml\n",
      "The file exists\n"
     ]
    }
   ],
   "source": [
    "file_path = input('Enter kml file path: ')\n",
    "print(file_path)\n",
    "#C:\\Users\\Harith\\EngenuityAI\\SPE\\SPE-development\\sentinal\\gAMPOLA TEST SITE 2.kml\n",
    "if os.path.exists(file_path):\n",
    "    print('The file exists')\n",
    "\n",
    "    with open(file_path, 'r', encoding='utf-8-sig') as f:\n",
    "        lines = f.readlines()\n",
    "\n",
    "        #print(lines)\n",
    "else:\n",
    "    print('The specified file does NOT exist')\n",
    "    \n",
    "poly_coord = kml_coord(file_path)\n",
    "#C:\\Users\\User\\OneDrive - Engenuity (Pvt) Ltd\\Github\\SPE-testing\\Test Data\\Rubber Kalutara.kml"
   ]
  },
  {
   "cell_type": "code",
   "execution_count": 5,
   "id": "2f0092cd",
   "metadata": {},
   "outputs": [],
   "source": [
    "img,resol = senti_api(poly_coord)"
   ]
  },
  {
   "cell_type": "markdown",
   "id": "f39e06e6",
   "metadata": {},
   "source": [
    "## NDVI calculation"
   ]
  },
  {
   "cell_type": "code",
   "execution_count": 6,
   "id": "a4f2f395",
   "metadata": {},
   "outputs": [],
   "source": [
    "from Utils.forest_cover import *"
   ]
  },
  {
   "cell_type": "code",
   "execution_count": 7,
   "id": "e9bd743d",
   "metadata": {},
   "outputs": [],
   "source": [
    "red = img[:, :, 2]\n",
    "nir = img[:, :, 3]\n",
    "ndvi = ndvi_api(red, nir)"
   ]
  },
  {
   "cell_type": "markdown",
   "id": "cbbbb71c",
   "metadata": {},
   "source": [
    "## Green pixel calculation"
   ]
  },
  {
   "cell_type": "code",
   "execution_count": 8,
   "id": "630e59a0",
   "metadata": {},
   "outputs": [],
   "source": [
    "import numpy as np\n",
    "import numpy.ma as ma"
   ]
  },
  {
   "cell_type": "code",
   "execution_count": 21,
   "id": "746aa26b",
   "metadata": {},
   "outputs": [
    {
     "name": "stdout",
     "output_type": "stream",
     "text": [
      "Forest/ Green area:  0.021 km2\n",
      "Forest/ Green pixel:  210\n"
     ]
    }
   ],
   "source": [
    "l_thresh = 0.6\n",
    "up_thresh = 0.8\n",
    "res = 10\n",
    "\n",
    "# get the ndvi data from masked array\n",
    "ndvi_data = ma.getdata(ndvi).copy()\n",
    "# get the row & col count\n",
    "rows, cols = ndvi_data.shape\n",
    "\n",
    "# replace ndvi values with 1, if ndvi >= threshold value\n",
    "for i in range(0,rows):\n",
    "    for j in range(0,cols):\n",
    "     #   if ((ndvi_data[i][j] >= 0.88) and (ndvi_data[i][j] <= 0.92)):\n",
    "        if ( ndvi_data[i][j] >= 0.8):\n",
    "            ndvi_data[i][j] = 1\n",
    "        else:\n",
    "            ndvi_data[i][j] = 0\n",
    "\n",
    "# count the ones\n",
    "#ndvi_list = ndvi_data.tolist()\n",
    "#green_pixel = sum(x.count(1) for x in ndvi_list)\n",
    "land_pixel = sum(x.count(0) for x in ndvi_list)\n",
    "# calculate the green area in km2\n",
    "green_area = np.round((green_pixel*res*res)/1e6,4)\n",
    "\n",
    "print('Forest/ Green area: ',green_area,\"km2\")\n",
    "print('Forest/ Green pixel: ',green_pixel)"
   ]
  },
  {
   "cell_type": "code",
   "execution_count": 31,
   "id": "10252584",
   "metadata": {},
   "outputs": [
    {
     "data": {
      "text/plain": [
       "210.0"
      ]
     },
     "execution_count": 31,
     "metadata": {},
     "output_type": "execute_result"
    }
   ],
   "source": [
    "np.sum(ndvi_data)"
   ]
  },
  {
   "cell_type": "code",
   "execution_count": 27,
   "id": "1bad8eac",
   "metadata": {},
   "outputs": [
    {
     "ename": "TypeError",
     "evalue": "unsupported operand type(s) for +: 'int' and 'list'",
     "output_type": "error",
     "traceback": [
      "\u001b[1;31m---------------------------------------------------------------------------\u001b[0m",
      "\u001b[1;31mTypeError\u001b[0m                                 Traceback (most recent call last)",
      "\u001b[1;32m~\\AppData\\Local\\Temp\\ipykernel_7132\\55581693.py\u001b[0m in \u001b[0;36m<cell line: 1>\u001b[1;34m()\u001b[0m\n\u001b[1;32m----> 1\u001b[1;33m \u001b[0mprint\u001b[0m\u001b[1;33m(\u001b[0m\u001b[0msum\u001b[0m\u001b[1;33m(\u001b[0m\u001b[0mndvi_list\u001b[0m\u001b[1;33m)\u001b[0m\u001b[1;33m)\u001b[0m\u001b[1;33m\u001b[0m\u001b[1;33m\u001b[0m\u001b[0m\n\u001b[0m",
      "\u001b[1;31mTypeError\u001b[0m: unsupported operand type(s) for +: 'int' and 'list'"
     ]
    }
   ],
   "source": [
    "print(sum(ndvi_list))"
   ]
  },
  {
   "cell_type": "markdown",
   "id": "bd8af83a",
   "metadata": {},
   "source": [
    "## Plot the binary array"
   ]
  },
  {
   "cell_type": "code",
   "execution_count": 22,
   "id": "725c52a0",
   "metadata": {},
   "outputs": [],
   "source": [
    "from matplotlib.colors import ListedColormap\n",
    "import matplotlib.pyplot as plt\n",
    "import earthpy.plot as ep"
   ]
  },
  {
   "cell_type": "code",
   "execution_count": 23,
   "id": "00003380",
   "metadata": {},
   "outputs": [
    {
     "data": {
      "image/png": "[encoded data removed]",
      "text/plain": [
       "<Figure size 640x480 with 1 Axes>"
      ]
     },
     "metadata": {},
     "output_type": "display_data"
    }
   ],
   "source": [
    "#ndvi_data = ma.getdata(ndvi).copy()\n",
    "# Apply the nodata mask to the newly classified NDVI data\n",
    "ndvi_class = np.ma.masked_where(np.ma.getmask(ndvi), \n",
    "                                        ndvi_data)\n",
    "#print(np.unique(ndvi_class))\n",
    "#np.unique(ndvi_landsat_class)\n",
    "\n",
    "# Define color map\n",
    "nbr_colors = [\"gray\", \"g\"]\n",
    "nbr_cmap = ListedColormap(nbr_colors)\n",
    "\n",
    "# Define class names\n",
    "ndvi_cat_names = [\n",
    "    \"No Vegetation\",\n",
    "    \"Vegetation\"]\n",
    "\n",
    "# Get list of classes\n",
    "classes = np.unique(ndvi_class)\n",
    "classes = classes.tolist()\n",
    "\n",
    "# The mask returns a value of none in the classes. remove that\n",
    "classes = classes[0:2]\n",
    "\n",
    "# Plot your data\n",
    "fig, ax = plt.subplots()\n",
    "im = ax.imshow(ndvi_class, cmap=nbr_cmap)\n",
    "ep.draw_legend(im_ax=im, classes=classes, titles=ndvi_cat_names)\n",
    "ax.set_title(\n",
    "\"Forest Cover - \"+ str(green_area)+\" km2\",\n",
    "fontsize=14)\n",
    "ax.set_axis_off()\n",
    "plt.show()"
   ]
  },
  {
   "cell_type": "code",
   "execution_count": 62,
   "id": "98f739ac",
   "metadata": {},
   "outputs": [],
   "source": [
    " x = [1,2,3]"
   ]
  },
  {
   "cell_type": "code",
   "execution_count": 64,
   "id": "73de3c7b",
   "metadata": {},
   "outputs": [],
   "source": [
    "y = x[1]"
   ]
  },
  {
   "cell_type": "code",
   "execution_count": 65,
   "id": "b2bf3f82",
   "metadata": {},
   "outputs": [
    {
     "data": {
      "text/plain": [
       "2"
      ]
     },
     "execution_count": 65,
     "metadata": {},
     "output_type": "execute_result"
    }
   ],
   "source": [
    "y"
   ]
  },
  {
   "cell_type": "code",
   "execution_count": 66,
   "id": "44647167",
   "metadata": {},
   "outputs": [],
   "source": [
    "y = y+1"
   ]
  },
  {
   "cell_type": "code",
   "execution_count": 67,
   "id": "0b74b56f",
   "metadata": {},
   "outputs": [
    {
     "data": {
      "text/plain": [
       "[1, 2, 3]"
      ]
     },
     "execution_count": 67,
     "metadata": {},
     "output_type": "execute_result"
    }
   ],
   "source": [
    "x"
   ]
  },
  {
   "cell_type": "code",
   "execution_count": null,
   "id": "0aadc4f8",
   "metadata": {},
   "outputs": [],
   "source": []
  }
 ],
 "metadata": {
  "kernelspec": {
   "display_name": "Python 3 (ipykernel)",
   "language": "python",
   "name": "python3"
  },
  "language_info": {
   "codemirror_mode": {
    "name": "ipython",
    "version": 3
   },
   "file_extension": ".py",
   "mimetype": "text/x-python",
   "name": "python",
   "nbconvert_exporter": "python",
   "pygments_lexer": "ipython3",
   "version": "3.8.0"
  }
 },
 "nbformat": 4,
 "nbformat_minor": 5
}

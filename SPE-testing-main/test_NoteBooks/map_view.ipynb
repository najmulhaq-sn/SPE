{
 "cells": [
  {
   "cell_type": "code",
   "execution_count": null,
   "id": "6489a9b7",
   "metadata": {},
   "outputs": [],
   "source": [
    "import pandas as pd\n",
    "import folium\n",
    "from folium import plugins\n",
    "import webbrowser\n",
    "\n",
    "### Create map\n",
    "def plot_map(loc_array):\n",
    "    loc_cord = pd.DataFrame(loc_array, columns = ['lon','lat'])\n",
    "    \n",
    "    country_map = folium.Map(location=[loc_cord.lat.mean(), \n",
    "                           loc_cord.lon.mean()], #center the map\n",
    "                 zoom_start=18)\n",
    "    poly_cord = []\n",
    "    for index, row in loc_cord.iterrows():\n",
    "        poly_cord.append((row['lat'],row['lon']))\n",
    "    \n",
    "    folium.Polygon(poly_cord,\n",
    "               color=\"blue\",\n",
    "               weight=5,\n",
    "               fill=True,\n",
    "               opacity=0.4).add_to(country_map)\n",
    "    \n",
    "    folium.TileLayer(\n",
    "        tiles = 'https://server.arcgisonline.com/ArcGIS/rest/services/World_Imagery/MapServer/tile/{z}/{y}/{x}',\n",
    "        attr = 'Esri',\n",
    "        name = 'Esri Satellite',\n",
    "        overlay = False,\n",
    "        control = True\n",
    "       ).add_to(country_map)\n",
    "    \n",
    "    country_map.save(\"bounded_map.html\")\n",
    "#     \n",
    "    return country_map"
   ]
  }
 ],
 "metadata": {
  "kernelspec": {
   "display_name": "Python 3 (ipykernel)",
   "language": "python",
   "name": "python3"
  },
  "language_info": {
   "codemirror_mode": {
    "name": "ipython",
    "version": 3
   },
   "file_extension": ".py",
   "mimetype": "text/x-python",
   "name": "python",
   "nbconvert_exporter": "python",
   "pygments_lexer": "ipython3",
   "version": "3.8.0"
  }
 },
 "nbformat": 4,
 "nbformat_minor": 5
}

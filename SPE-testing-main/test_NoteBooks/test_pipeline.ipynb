{
 "cells": [
  {
   "cell_type": "code",
   "execution_count": 42,
   "id": "5451ef0a",
   "metadata": {
    "ExecuteTime": {
     "end_time": "2022-10-18T04:36:19.062796Z",
     "start_time": "2022-10-18T04:36:19.042850Z"
    }
   },
   "outputs": [],
   "source": [
    "import os\n",
    "from Utils.read_coord import kml_coord\n",
    "from Utils.sentinal_request import senti_api\n",
    "from Utils.forest_cover import get_cover\n",
    "from Utils.forest_cover import ndvi_api\n",
    "import numpy as np"
   ]
  },
  {
   "cell_type": "code",
   "execution_count": 43,
   "id": "441f5852",
   "metadata": {
    "ExecuteTime": {
     "end_time": "2022-10-18T04:36:47.639641Z",
     "start_time": "2022-10-18T04:36:19.429467Z"
    }
   },
   "outputs": [
    {
     "name": "stdout",
     "output_type": "stream",
     "text": [
      "Enter kml file path: C:\\Users\\Harith\\EngenuityAI\\SPE\\SPE-development\\sentinal\\gAMPOLA TEST SITE 2.kml\n",
      "C:\\Users\\Harith\\EngenuityAI\\SPE\\SPE-development\\sentinal\\gAMPOLA TEST SITE 2.kml\n",
      "The file exists\n",
      "gAMPOLA TEST SITE 2, None\n",
      "[[80.54830488  7.09138959]\n",
      " [80.54862792  7.0908058 ]\n",
      " [80.54983642  7.09009562]\n",
      " [80.55092306  7.09024294]\n",
      " [80.55188896  7.09040945]\n",
      " [80.55227594  7.09060375]\n",
      " [80.55291793  7.09075515]\n",
      " [80.55346817  7.09067105]\n",
      " [80.55432141  7.09055437]\n",
      " [80.55468188  7.09055554]\n",
      " [80.55514106  7.09091272]\n",
      " [80.55538022  7.09175008]\n",
      " [80.55549106  7.09276935]\n",
      " [80.55517581  7.09363418]\n",
      " [80.55438863  7.09398713]\n",
      " [80.55357122  7.09426935]\n",
      " [80.55309183  7.09425854]\n",
      " [80.55259774  7.09410748]\n",
      " [80.55215408  7.09387411]\n",
      " [80.55163136  7.09373405]\n",
      " [80.55100531  7.09343574]\n",
      " [80.55023178  7.09319959]\n",
      " [80.55022909  7.09321476]\n",
      " [80.54910537  7.09293352]\n",
      " [80.54821586  7.0922228 ]\n",
      " [80.54830488  7.09138959]]\n",
      "10\n"
     ]
    }
   ],
   "source": [
    "file_path = input('Enter kml file path: ')\n",
    "print(file_path)\n",
    "\n",
    "if os.path.exists(file_path):\n",
    "    print('The file exists')\n",
    "\n",
    "    with open(file_path, 'r', encoding='utf-8-sig') as f:\n",
    "        lines = f.readlines()\n",
    "\n",
    "        #print(lines)\n",
    "else:\n",
    "    print('The specified file does NOT exist')\n",
    "    \n",
    "poly_coord = kml_coord(file_path)\n",
    "print(poly_coord)\n",
    "\n",
    "img,resol = senti_api(poly_coord)\n",
    "print(resol)"
   ]
  },
  {
   "cell_type": "code",
   "execution_count": 44,
   "id": "4679be65",
   "metadata": {
    "ExecuteTime": {
     "end_time": "2022-10-18T04:36:47.670557Z",
     "start_time": "2022-10-18T04:36:47.648617Z"
    }
   },
   "outputs": [],
   "source": [
    "red = img[:, :, 2]\n",
    "nir = img[:, :, 3]"
   ]
  },
  {
   "cell_type": "code",
   "execution_count": 45,
   "id": "76579483",
   "metadata": {
    "ExecuteTime": {
     "end_time": "2022-10-18T04:36:48.065200Z",
     "start_time": "2022-10-18T04:36:47.677538Z"
    }
   },
   "outputs": [],
   "source": [
    "def normalized_diff(b1, b2):\n",
    "    \"\"\"Take two n-dimensional numpy arrays and calculate the normalized\n",
    "    difference.\n",
    "\n",
    "    Math will be calculated (b1-b2) / (b1 + b2).\n",
    "\n",
    "    Parameters\n",
    "    ----------\n",
    "    b1, b2 : numpy arrays\n",
    "        Two numpy arrays that will be used to calculate the normalized\n",
    "        difference. Math will be calculated (b1-b2) / (b1+b2).\n",
    "\n",
    "    Returns\n",
    "    ----------\n",
    "    n_diff : numpy array\n",
    "        The element-wise result of (b1-b2) / (b1+b2) calculation. Inf values\n",
    "        are set to nan. Array returned as masked if result includes nan values.\n",
    "\n",
    "    Examples\n",
    "    --------\n",
    "    >>> import numpy as np\n",
    "    >>> import earthpy.spatial as es\n",
    "    >>> # Calculate normalized difference vegetation index\n",
    "    >>> nir_band = np.array([[6, 7, 8, 9, 10], [16, 17, 18, 19, 20]])\n",
    "    >>> red_band = np.array([[1, 2, 3, 4, 5], [11, 12, 13, 14, 15]])\n",
    "    >>> ndvi = es.normalized_diff(b1=nir_band, b2=red_band)\n",
    "    >>> ndvi\n",
    "    array([[0.71428571, 0.55555556, 0.45454545, 0.38461538, 0.33333333],\n",
    "           [0.18518519, 0.17241379, 0.16129032, 0.15151515, 0.14285714]])\n",
    "\n",
    "    >>> # Calculate normalized burn ratio\n",
    "    >>> nir_band = np.array([[8, 10, 13, 17, 15], [18, 20, 22, 23, 25]])\n",
    "    >>> swir_band = np.array([[6, 7, 8, 9, 10], [16, 17, 18, 19, 20]])\n",
    "    >>> nbr = es.normalized_diff(b1=nir_band, b2=swir_band)\n",
    "    >>> nbr\n",
    "    array([[0.14285714, 0.17647059, 0.23809524, 0.30769231, 0.2       ],\n",
    "           [0.05882353, 0.08108108, 0.1       , 0.0952381 , 0.11111111]])\n",
    "    \"\"\"\n",
    "    \n",
    "    if not (b1.shape == b2.shape):\n",
    "        raise ValueError(\"Both arrays should have the same dimensions\")\n",
    "    \n",
    "    \n",
    "\n",
    "\n",
    "    # Ignore warning for division by zero\n",
    "    with np.errstate(divide=\"ignore\",invalid='ignore'):\n",
    "        \n",
    "       \n",
    "        n_diff = (b1 - b2) / (b1 + b2)\n",
    "\n",
    "    #Set inf values to nan and provide custom warning\n",
    "    if np.isinf(n_diff).any():\n",
    "        warnings.warn(\n",
    "            \"Divide by zero produced infinity values that will be replaced \"\n",
    "            \"with nan values\",\n",
    "            Warning,\n",
    "        )\n",
    "        n_diff[np.isinf(n_diff)] = np.nan\n",
    "\n",
    "    # Mask invalid values\n",
    "    if np.isnan(n_diff).any():\n",
    "        n_diff = np.ma.masked_invalid(n_diff)\n",
    "\n",
    "    return n_diff\n"
   ]
  },
  {
   "cell_type": "code",
   "execution_count": 46,
   "id": "e95f3241",
   "metadata": {
    "ExecuteTime": {
     "end_time": "2022-10-18T04:36:48.202772Z",
     "start_time": "2022-10-18T04:36:48.071198Z"
    }
   },
   "outputs": [],
   "source": [
    "#np.seterr(divide='ignore',invalid='ignore')\n",
    "arr = normalized_diff(red,nir)"
   ]
  },
  {
   "cell_type": "code",
   "execution_count": 37,
   "id": "bf60de1d",
   "metadata": {
    "ExecuteTime": {
     "end_time": "2022-10-18T04:32:56.057508Z",
     "start_time": "2022-10-18T04:32:56.045544Z"
    }
   },
   "outputs": [
    {
     "data": {
      "text/plain": [
       "masked_array(\n",
       "  data=[[--, --, --, ..., --, --, --],\n",
       "        [--, --, --, ..., --, --, --],\n",
       "        [--, --, --, ..., --, --, --],\n",
       "        ...,\n",
       "        [--, --, --, ..., --, --, --],\n",
       "        [--, --, --, ..., --, --, --],\n",
       "        [--, --, --, ..., --, --, --]],\n",
       "  mask=[[ True,  True,  True, ...,  True,  True,  True],\n",
       "        [ True,  True,  True, ...,  True,  True,  True],\n",
       "        [ True,  True,  True, ...,  True,  True,  True],\n",
       "        ...,\n",
       "        [ True,  True,  True, ...,  True,  True,  True],\n",
       "        [ True,  True,  True, ...,  True,  True,  True],\n",
       "        [ True,  True,  True, ...,  True,  True,  True]],\n",
       "  fill_value=1e+20,\n",
       "  dtype=float32)"
      ]
     },
     "execution_count": 37,
     "metadata": {},
     "output_type": "execute_result"
    }
   ],
   "source": [
    "arr\n"
   ]
  },
  {
   "cell_type": "code",
   "execution_count": 47,
   "id": "07bcc24b",
   "metadata": {
    "ExecuteTime": {
     "end_time": "2022-10-18T04:37:04.104664Z",
     "start_time": "2022-10-18T04:37:04.081723Z"
    }
   },
   "outputs": [
    {
     "data": {
      "text/plain": [
       "masked_array(\n",
       "  data=[[--, --, --, ..., --, --, --],\n",
       "        [--, --, --, ..., --, --, --],\n",
       "        [--, --, --, ..., --, --, --],\n",
       "        ...,\n",
       "        [--, --, --, ..., --, --, --],\n",
       "        [--, --, --, ..., --, --, --],\n",
       "        [--, --, --, ..., --, --, --]],\n",
       "  mask=[[ True,  True,  True, ...,  True,  True,  True],\n",
       "        [ True,  True,  True, ...,  True,  True,  True],\n",
       "        [ True,  True,  True, ...,  True,  True,  True],\n",
       "        ...,\n",
       "        [ True,  True,  True, ...,  True,  True,  True],\n",
       "        [ True,  True,  True, ...,  True,  True,  True],\n",
       "        [ True,  True,  True, ...,  True,  True,  True]],\n",
       "  fill_value=1e+20,\n",
       "  dtype=float32)"
      ]
     },
     "execution_count": 47,
     "metadata": {},
     "output_type": "execute_result"
    }
   ],
   "source": [
    "ndvi = ndvi_api(red, nir)\n",
    "ndvi"
   ]
  },
  {
   "cell_type": "code",
   "execution_count": null,
   "id": "33c5d46e",
   "metadata": {},
   "outputs": [],
   "source": []
  }
 ],
 "metadata": {
  "kernelspec": {
   "display_name": "Python 3 (ipykernel)",
   "language": "python",
   "name": "python3"
  },
  "language_info": {
   "codemirror_mode": {
    "name": "ipython",
    "version": 3
   },
   "file_extension": ".py",
   "mimetype": "text/x-python",
   "name": "python",
   "nbconvert_exporter": "python",
   "pygments_lexer": "ipython3",
   "version": "3.8.13"
  },
  "toc": {
   "base_numbering": 1,
   "nav_menu": {},
   "number_sections": true,
   "sideBar": true,
   "skip_h1_title": false,
   "title_cell": "Table of Contents",
   "title_sidebar": "Contents",
   "toc_cell": false,
   "toc_position": {},
   "toc_section_display": true,
   "toc_window_display": false
  }
 },
 "nbformat": 4,
 "nbformat_minor": 5
}

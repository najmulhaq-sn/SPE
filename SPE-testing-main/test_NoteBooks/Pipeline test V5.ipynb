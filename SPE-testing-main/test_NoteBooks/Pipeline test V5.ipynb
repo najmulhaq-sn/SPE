{
 "cells": [
  {
   "cell_type": "code",
   "execution_count": null,
   "id": "baab17c9",
   "metadata": {},
   "outputs": [],
   "source": [
    "pwd"
   ]
  },
  {
   "cell_type": "code",
   "execution_count": 1,
   "id": "60c02a10",
   "metadata": {
    "ExecuteTime": {
     "end_time": "2022-10-25T14:56:32.752786Z",
     "start_time": "2022-10-25T14:56:29.301544Z"
    }
   },
   "outputs": [],
   "source": [
    "import os\n",
    "from Utils.read_coord import kml_coord\n",
    "from Utils.sentinal_request import senti_api\n",
    "from Utils.forest_cover import get_cover, green_cover_plot\n",
    "from Utils.seques_forecast import plot_SEQ,cal_existing\n",
    "from Utils.map_view import map_show\n",
    "from Utils.tree_count import count_trees\n",
    "from Utils.tree_count import tree_count"
   ]
  },
  {
   "cell_type": "markdown",
   "id": "8bba588f",
   "metadata": {},
   "source": [
    "import numpy as np\n",
    "import pandas as pd\n",
    "\n",
    "\n",
    "def count_trees(res,green_pixel,spacing):\n",
    "    \n",
    "    # Count no of trees per pixel\n",
    "    tree_per_pixel = (res*res)/(spacing*spacing)\n",
    "    tree_count = round(green_pixel*tree_per_pixel)\n",
    "    \n",
    "    print('Estimated No of Trees: ',tree_count)\n",
    "    return tree_count"
   ]
  },
  {
   "cell_type": "code",
   "execution_count": null,
   "id": "871ed5e3",
   "metadata": {
    "ExecuteTime": {
     "end_time": "2022-10-25T14:40:32.677357Z",
     "start_time": "2022-10-25T14:40:32.111230Z"
    }
   },
   "outputs": [],
   "source": [
    "spacing = 4\n",
    "count_trees(resol,green_pix,spacing)"
   ]
  },
  {
   "cell_type": "markdown",
   "id": "0280f4d9",
   "metadata": {},
   "source": [
    "## Check a pipeline"
   ]
  },
  {
   "cell_type": "code",
   "execution_count": 2,
   "id": "8bcdeaa2",
   "metadata": {
    "ExecuteTime": {
     "end_time": "2022-10-25T14:56:58.762427Z",
     "start_time": "2022-10-25T14:56:33.387375Z"
    }
   },
   "outputs": [
    {
     "name": "stdout",
     "output_type": "stream",
     "text": [
      "Enter kml file path: C:\\Users\\Harith\\EngenuityAI\\SPE\\SPE testing\\SPE-testing\\Test Data\\gAMPOLA TEST SITE 2.kml\n",
      "C:\\Users\\Harith\\EngenuityAI\\SPE\\SPE testing\\SPE-testing\\Test Data\\gAMPOLA TEST SITE 2.kml\n",
      "The file exists\n",
      "Forecasting for one tree type\n",
      "Enter the tree type: Rubber\n",
      "Enter the tree count: 30\n",
      "resolution 10\n",
      "green_pix 2522\n",
      "green_cover 0.2522\n",
      "forest_cover 89.02\n",
      "Rubber\n"
     ]
    },
    {
     "ename": "TypeError",
     "evalue": "plot_SEQ() missing 1 required positional argument: 'age_max'",
     "output_type": "error",
     "traceback": [
      "\u001b[1;31m---------------------------------------------------------------------------\u001b[0m",
      "\u001b[1;31mTypeError\u001b[0m                                 Traceback (most recent call last)",
      "\u001b[1;32m~\\AppData\\Local\\Temp\\ipykernel_12440\\2370961840.py\u001b[0m in \u001b[0;36m<cell line: 41>\u001b[1;34m()\u001b[0m\n\u001b[0;32m     39\u001b[0m \u001b[1;31m# CO2 forecasting\u001b[0m\u001b[1;33m\u001b[0m\u001b[1;33m\u001b[0m\u001b[1;33m\u001b[0m\u001b[0m\n\u001b[0;32m     40\u001b[0m \u001b[0mprint\u001b[0m\u001b[1;33m(\u001b[0m\u001b[0mtree_type\u001b[0m\u001b[1;33m)\u001b[0m\u001b[1;33m\u001b[0m\u001b[1;33m\u001b[0m\u001b[0m\n\u001b[1;32m---> 41\u001b[1;33m \u001b[0mplot_SEQ\u001b[0m\u001b[1;33m(\u001b[0m\u001b[0mtree_type\u001b[0m\u001b[1;33m,\u001b[0m\u001b[0mn_tree\u001b[0m\u001b[1;33m)\u001b[0m\u001b[1;33m\u001b[0m\u001b[1;33m\u001b[0m\u001b[0m\n\u001b[0m\u001b[0;32m     42\u001b[0m \u001b[1;33m\u001b[0m\u001b[0m\n\u001b[0;32m     43\u001b[0m \u001b[0mspacing\u001b[0m \u001b[1;33m=\u001b[0m \u001b[0minput\u001b[0m\u001b[1;33m(\u001b[0m\u001b[1;34m'Enter the spacing between the trees in meters: '\u001b[0m\u001b[1;33m)\u001b[0m\u001b[1;33m\u001b[0m\u001b[1;33m\u001b[0m\u001b[0m\n",
      "\u001b[1;31mTypeError\u001b[0m: plot_SEQ() missing 1 required positional argument: 'age_max'"
     ]
    }
   ],
   "source": [
    "file_path = input('Enter kml file path: ')\n",
    "print(file_path)\n",
    "#C:\\Users\\DELL\\Documents\\GitHub\\SPE\\SPE-testing\\Test Data\\gAMPOLA TEST SITE 2.kml\n",
    "if os.path.exists(file_path):\n",
    "    print('The file exists')\n",
    "\n",
    "    with open(file_path, 'r', encoding='utf-8-sig') as f:\n",
    "        lines = f.readlines()\n",
    "\n",
    "        #print(lines)\n",
    "else:\n",
    "    print('The specified file does NOT exist')\n",
    "    \n",
    "# getting polygon coordinates\n",
    "poly_coord = kml_coord(file_path)\n",
    "#print(poly_coord)\n",
    "\n",
    "# show the map view\n",
    "map_show(poly_coord)\n",
    "\n",
    "    \n",
    "# User inputs\n",
    "print(\"Forecasting for one tree type\")\n",
    "tree_type = input('Enter the tree type: ')\n",
    "n_tree = input('Enter the tree count: ')\n",
    "n_tree = int(n_tree)\n",
    "\n",
    "\n",
    "\n",
    "img,resol = senti_api(poly_coord)\n",
    "print('resolution',resol)\n",
    "#print(img.shape)\n",
    "#print(img[:,:,2][40][10])\n",
    "forest_area,forest_cover,green_pix,green_cov,ndvi = get_cover(img,resol)\n",
    "print('green_pix',green_pix)\n",
    "print('green_cover',green_cov)\n",
    "print('forest_cover',forest_cover)\n",
    "\n",
    "# CO2 forecasting\n",
    "print(tree_type)\n",
    "plot_SEQ(tree_type,n_tree)\n",
    "\n",
    "spacing = input('Enter the spacing between the trees in meters: ')\n",
    "spacing = int(spacing)\n",
    "\n",
    "\n",
    "if spacing == 0:\n",
    "    age_tree = input('Enter the average age of trees: ')\n",
    "    age_tree = int(age_tree)\n",
    "\n",
    "    t_count = tree_count(tree_type, green_cov, age_tree)\n",
    "else:\n",
    "    t_count = count_trees(resol,green_pix,spacing)\n",
    "    \n",
    "print(\"Estimated Number of Trees\",t_count)\n",
    "\n",
    "fig = green_cover_plot(ndvi,forest_cover,t_count)"
   ]
  },
  {
   "cell_type": "code",
   "execution_count": 13,
   "id": "8077911e",
   "metadata": {
    "ExecuteTime": {
     "end_time": "2022-10-25T17:15:15.967418Z",
     "start_time": "2022-10-25T17:15:10.922056Z"
    }
   },
   "outputs": [
    {
     "name": "stdout",
     "output_type": "stream",
     "text": [
      "Enter the no of years ahead to forecast: 25\n"
     ]
    }
   ],
   "source": [
    "age_max = input('Enter the no of years ahead to forecast: ')\n",
    "age_max = int(age_max)\n"
   ]
  },
  {
   "cell_type": "code",
   "execution_count": 14,
   "id": "9781a141",
   "metadata": {
    "ExecuteTime": {
     "end_time": "2022-10-25T17:15:19.017474Z",
     "start_time": "2022-10-25T17:15:18.884283Z"
    }
   },
   "outputs": [],
   "source": [
    "t_count=30"
   ]
  },
  {
   "cell_type": "code",
   "execution_count": 15,
   "id": "3e8ad43e",
   "metadata": {
    "ExecuteTime": {
     "end_time": "2022-10-25T17:15:23.458499Z",
     "start_time": "2022-10-25T17:15:20.303425Z"
    }
   },
   "outputs": [],
   "source": [
    "seq = cal_existing(age_max,t_count,tree_type)"
   ]
  },
  {
   "cell_type": "code",
   "execution_count": 16,
   "id": "65d2a4b8",
   "metadata": {
    "ExecuteTime": {
     "end_time": "2022-10-25T17:15:23.875967Z",
     "start_time": "2022-10-25T17:15:23.497941Z"
    }
   },
   "outputs": [
    {
     "data": {
      "text/plain": [
       "Series([], dtype: float64)"
      ]
     },
     "execution_count": 16,
     "metadata": {},
     "output_type": "execute_result"
    }
   ],
   "source": [
    "seq"
   ]
  },
  {
   "cell_type": "code",
   "execution_count": 17,
   "id": "e9bd29ac",
   "metadata": {
    "ExecuteTime": {
     "end_time": "2022-10-25T17:15:35.053126Z",
     "start_time": "2022-10-25T17:15:31.887179Z"
    }
   },
   "outputs": [
    {
     "ename": "ValueError",
     "evalue": "can only convert an array of size 1 to a Python scalar",
     "output_type": "error",
     "traceback": [
      "\u001b[1;31m---------------------------------------------------------------------------\u001b[0m",
      "\u001b[1;31mValueError\u001b[0m                                Traceback (most recent call last)",
      "\u001b[1;32m~\\AppData\\Local\\Temp\\ipykernel_12440\\45254580.py\u001b[0m in \u001b[0;36m<cell line: 1>\u001b[1;34m()\u001b[0m\n\u001b[1;32m----> 1\u001b[1;33m \u001b[0mprint\u001b[0m\u001b[1;33m(\u001b[0m\u001b[0mseq\u001b[0m\u001b[1;33m.\u001b[0m\u001b[0mitem\u001b[0m\u001b[1;33m(\u001b[0m\u001b[1;33m)\u001b[0m\u001b[1;33m)\u001b[0m\u001b[1;33m\u001b[0m\u001b[1;33m\u001b[0m\u001b[0m\n\u001b[0m",
      "\u001b[1;32m~\\anaconda3\\envs\\sentinal\\lib\\site-packages\\pandas\\core\\base.py\u001b[0m in \u001b[0;36mitem\u001b[1;34m(self)\u001b[0m\n\u001b[0;32m    345\u001b[0m         \u001b[1;32mif\u001b[0m \u001b[0mlen\u001b[0m\u001b[1;33m(\u001b[0m\u001b[0mself\u001b[0m\u001b[1;33m)\u001b[0m \u001b[1;33m==\u001b[0m \u001b[1;36m1\u001b[0m\u001b[1;33m:\u001b[0m\u001b[1;33m\u001b[0m\u001b[1;33m\u001b[0m\u001b[0m\n\u001b[0;32m    346\u001b[0m             \u001b[1;32mreturn\u001b[0m \u001b[0mnext\u001b[0m\u001b[1;33m(\u001b[0m\u001b[0miter\u001b[0m\u001b[1;33m(\u001b[0m\u001b[0mself\u001b[0m\u001b[1;33m)\u001b[0m\u001b[1;33m)\u001b[0m\u001b[1;33m\u001b[0m\u001b[1;33m\u001b[0m\u001b[0m\n\u001b[1;32m--> 347\u001b[1;33m         \u001b[1;32mraise\u001b[0m \u001b[0mValueError\u001b[0m\u001b[1;33m(\u001b[0m\u001b[1;34m\"can only convert an array of size 1 to a Python scalar\"\u001b[0m\u001b[1;33m)\u001b[0m\u001b[1;33m\u001b[0m\u001b[1;33m\u001b[0m\u001b[0m\n\u001b[0m\u001b[0;32m    348\u001b[0m \u001b[1;33m\u001b[0m\u001b[0m\n\u001b[0;32m    349\u001b[0m     \u001b[1;33m@\u001b[0m\u001b[0mproperty\u001b[0m\u001b[1;33m\u001b[0m\u001b[1;33m\u001b[0m\u001b[0m\n",
      "\u001b[1;31mValueError\u001b[0m: can only convert an array of size 1 to a Python scalar"
     ]
    }
   ],
   "source": [
    "print(seq.item())"
   ]
  },
  {
   "cell_type": "code",
   "execution_count": 8,
   "id": "0990fd67",
   "metadata": {
    "ExecuteTime": {
     "end_time": "2022-10-25T14:57:12.143005Z",
     "start_time": "2022-10-25T14:57:11.302058Z"
    }
   },
   "outputs": [
    {
     "data": {
      "text/plain": [
       "4.122544898469472"
      ]
     },
     "execution_count": 8,
     "metadata": {},
     "output_type": "execute_result"
    }
   ],
   "source": [
    "x"
   ]
  },
  {
   "cell_type": "code",
   "execution_count": 12,
   "id": "6bfe2777",
   "metadata": {
    "ExecuteTime": {
     "end_time": "2022-10-25T16:35:50.294481Z",
     "start_time": "2022-10-25T16:35:49.967556Z"
    }
   },
   "outputs": [],
   "source": [
    "import os\n",
    "import numpy as np\n",
    "import numpy.ma as ma\n",
    "import matplotlib.pyplot as plt\n",
    "import cv2\n",
    "import rasterio\n",
    "\n",
    "import geopandas as gpd\n",
    "import earthpy as et\n",
    "import earthpy.spatial as es\n",
    "import earthpy.plot as ep\n",
    "from matplotlib.colors import ListedColormap\n",
    "import imutils\n",
    "\n",
    "def green_cover_plot(ndvi,green_cover,thresh = 0.6):\n",
    "    \n",
    "    '''\n",
    "    ndvi: ndvi index values\n",
    "\n",
    "    '''\n",
    "    \n",
    "    # Create classes and apply to NDVI results\n",
    "    ndvi_class_bins = [-np.inf, thresh, np.inf]\n",
    "    ndvi_landsat_class = np.digitize(ndvi, ndvi_class_bins)\n",
    "\n",
    "    # Apply the nodata mask to the newly classified NDVI data\n",
    "    ndvi_landsat_class = np.ma.masked_where(np.ma.getmask(ndvi), \n",
    "                                            ndvi_landsat_class)\n",
    "    #np.unique(ndvi_landsat_class)\n",
    "    \n",
    "    # Define color map\n",
    "    nbr_colors = [\"gray\", \"g\"]\n",
    "    nbr_cmap = ListedColormap(nbr_colors)\n",
    "\n",
    "    # Define class names\n",
    "    ndvi_cat_names = [\n",
    "        \"No Vegetation\",\n",
    "        \"Vegetation\"]\n",
    "\n",
    "    # Get list of classes\n",
    "    classes = np.unique(ndvi_landsat_class)\n",
    "    classes = classes.tolist()\n",
    "    \n",
    "    # The mask returns a value of none in the classes. remove that\n",
    "    classes = classes[0:2]\n",
    "\n",
    "    # Plot your data\n",
    "    fig, ax = plt.subplots()\n",
    "    im = ax.imshow(ndvi_landsat_class, cmap=nbr_cmap)\n",
    "    ep.draw_legend(im_ax=im, classes=classes, titles=ndvi_cat_names)\n",
    "    ax.set_title(\n",
    "    \"Forest Cover - \"+ str(green_cover)+\"%\",\n",
    "    fontsize=14)\n",
    "    ax.set_axis_off()\n",
    "    plt.show()\n",
    "    #canvas = plt.gca().figure.canvas\n",
    "    #canvas.draw()\n",
    "    #data = np.frombuffer(canvas.tostring_rgb(), dtype=np.uint8)\n",
    "    #image = data.reshape(canvas.get_width_height()[::-1] + (3,))\n",
    "    \n",
    "    #save img\n",
    "    #veg_file = os.path.splitext(file_name)[0]+'_g'+'.png'\n",
    "    #plt.savefig(save_path+'/'+veg_file)\n",
    "    #print(veg_file+'\\n'+\"successfully saved!\")\n",
    "\n",
    "    return fig"
   ]
  },
  {
   "cell_type": "code",
   "execution_count": null,
   "id": "9c9ce0f8",
   "metadata": {},
   "outputs": [],
   "source": []
  },
  {
   "cell_type": "code",
   "execution_count": null,
   "id": "b4aadd0b",
   "metadata": {},
   "outputs": [],
   "source": [
    " Define color map\n",
    "nbr_colors = [\"tan\", \"forestgreen\"]#, \"burlywood\"]\n",
    "nbr_cmap = ListedColormap(nbr_colors)\n",
    "\n",
    "# Define class names\n",
    "ndvi_cat_names = [\n",
    "    \"No Vegetation\",\n",
    "    \"Vegetation\",\n",
    "]\n",
    "\n",
    "# Get list of classes\n",
    "classes = np.unique(ndvi_landsat_class)\n",
    "classes = classes.tolist()\n",
    "# The mask returns a value of none in the classes. remove that\n",
    "classes = classes[0:2]"
   ]
  },
  {
   "cell_type": "code",
   "execution_count": null,
   "id": "8264d2c7",
   "metadata": {},
   "outputs": [],
   "source": [
    "# Plot your data\n",
    "fig, ax = plt.subplots()\n",
    "im = ax.imshow(ndvi_landsat_class, cmap=nbr_cmap)\n",
    "textstr = '\\n'.join((\n",
    "    r'Forest cover: %.2f' % (green_cov, ),\n",
    "    r'Total Sequestared CO2 amount: %.2f' % (seq, ),\n",
    "    r'Estimated No of trees: %.2f$' % (t_count, )))\n",
    "\n",
    "ep.draw_legend(im_ax=im, classes=classes, titles=ndvi_cat_names)\n",
    "ax.set_title(\n",
    "    \"Forest Cover - \"+ str(green_cover)+\"%\",\n",
    "    fontsize=14,\n",
    ")\n",
    "ax.set_axis_off()\n",
    "# these are matplotlib.patch.Patch properties\n",
    "props = dict(boxstyle='round', facecolor='wheat', alpha=0.5)\n",
    "\n",
    "# place a text box in upper left in axes coords\n",
    "ax.text(1.05, 0.80, textstr, transform=ax.transAxes, fontsize=10,\n",
    "        verticalalignment='top', bbox=props)\n",
    "\n",
    "# Auto adjust subplot to fit figure size\n",
    "plt.tight_layout()"
   ]
  },
  {
   "cell_type": "code",
   "execution_count": null,
   "id": "8bd47c72",
   "metadata": {},
   "outputs": [],
   "source": []
  }
 ],
 "metadata": {
  "kernelspec": {
   "display_name": "Python 3 (ipykernel)",
   "language": "python",
   "name": "python3"
  },
  "language_info": {
   "codemirror_mode": {
    "name": "ipython",
    "version": 3
   },
   "file_extension": ".py",
   "mimetype": "text/x-python",
   "name": "python",
   "nbconvert_exporter": "python",
   "pygments_lexer": "ipython3",
   "version": "3.8.13"
  },
  "toc": {
   "base_numbering": 1,
   "nav_menu": {},
   "number_sections": true,
   "sideBar": true,
   "skip_h1_title": false,
   "title_cell": "Table of Contents",
   "title_sidebar": "Contents",
   "toc_cell": false,
   "toc_position": {},
   "toc_section_display": true,
   "toc_window_display": false
  }
 },
 "nbformat": 4,
 "nbformat_minor": 5
}

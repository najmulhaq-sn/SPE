{
 "cells": [
  {
   "cell_type": "markdown",
   "id": "ac13fda0",
   "metadata": {},
   "source": [
    "# Testing the Pipeline"
   ]
  },
  {
   "cell_type": "code",
   "execution_count": 1,
   "id": "4900b5f4",
   "metadata": {},
   "outputs": [],
   "source": [
    "import numpy as np"
   ]
  },
  {
   "cell_type": "markdown",
   "id": "87a1a238",
   "metadata": {},
   "source": [
    "## API request to get img"
   ]
  },
  {
   "cell_type": "markdown",
   "id": "4bccf474",
   "metadata": {},
   "source": [
    "Return the img as a 4D array"
   ]
  },
  {
   "cell_type": "code",
   "execution_count": 14,
   "id": "e3fc4ddc",
   "metadata": {},
   "outputs": [
    {
     "name": "stdout",
     "output_type": "stream",
     "text": [
      "Enter kml file path: C:\\Users\\User\\OneDrive - Engenuity (Pvt) Ltd\\Github\\SPE-testing\\Test Data\\Hong Kong.kml\n",
      "C:\\Users\\User\\OneDrive - Engenuity (Pvt) Ltd\\Github\\SPE-testing\\Test Data\\Hong Kong.kml\n",
      "The file exists\n",
      "[[114.11390205  22.27660908]\n",
      " [114.13349276  22.24813719]\n",
      " [114.14182051  22.24596384]\n",
      " [114.16065688  22.22754671]\n",
      " [114.16735362  22.22922495]\n",
      " [114.1774882   22.22839118]\n",
      " [114.17748652  22.23643119]\n",
      " [114.18635543  22.22638381]\n",
      " [114.19594669  22.21851355]\n",
      " [114.19323345  22.21248256]\n",
      " [114.1963102   22.20544775]\n",
      " [114.21096432  22.21416133]\n",
      " [114.20897534  22.1969072 ]\n",
      " [114.21349825  22.19204991]\n",
      " [114.22616214  22.19255606]\n",
      " [114.22616132  22.19875433]\n",
      " [114.22435028  22.21215501]\n",
      " [114.22434941  22.21818523]\n",
      " [114.21910206  22.21985906]\n",
      " [114.22344337  22.22773252]\n",
      " [114.23194759  22.22706411]\n",
      " [114.24190038  22.20311254]\n",
      " [114.26324756  22.20261067]\n",
      " [114.26379053  22.20797086]\n",
      " [114.25782052  22.21517407]\n",
      " [114.25601145  22.22371638]\n",
      " [114.2614392   22.22287846]\n",
      " [114.26288745  22.23527257]\n",
      " [114.25546897  22.23309583]\n",
      " [114.25148691  22.24549016]\n",
      " [114.25872722  22.25285839]\n",
      " [114.2605378   22.26290737]\n",
      " [114.23210348  22.28939727]\n",
      " [114.20603517  22.29609415]\n",
      " [114.18648217  22.29408008]\n",
      " [114.18431108  22.28855252]\n",
      " [114.16765744  22.2878797 ]\n",
      " [114.14121756  22.29608098]\n",
      " [114.1258295   22.28853675]\n",
      " [114.11390205  22.27660908]]\n",
      "10\n"
     ]
    }
   ],
   "source": [
    "import os\n",
    "from Utils.read_coord import kml_coord\n",
    "from Utils.sentinal_request import senti_api\n",
    "from Utils.forest_cover import get_cover\n",
    "\n",
    "file_path = input('Enter kml file path: ')\n",
    "print(file_path)\n",
    "\n",
    "if os.path.exists(file_path):\n",
    "    print('The file exists')\n",
    "\n",
    "    with open(file_path, 'r', encoding='utf-8-sig') as f:\n",
    "        lines = f.readlines()\n",
    "\n",
    "        #print(lines)\n",
    "else:\n",
    "    print('The specified file does NOT exist')\n",
    "    \n",
    "poly_coord = kml_coord(file_path)\n",
    "print(poly_coord)\n",
    "\n",
    "img,resol = senti_api(poly_coord)\n",
    "print(resol)\n",
    "#print(img)"
   ]
  },
  {
   "cell_type": "code",
   "execution_count": 15,
   "id": "70daaff4",
   "metadata": {},
   "outputs": [
    {
     "data": {
      "text/plain": [
       "(1124, 1567, 4)"
      ]
     },
     "execution_count": 15,
     "metadata": {},
     "output_type": "execute_result"
    }
   ],
   "source": [
    "img.shape"
   ]
  },
  {
   "cell_type": "code",
   "execution_count": 16,
   "id": "cb270978",
   "metadata": {},
   "outputs": [
    {
     "data": {
      "text/plain": [
       "array([0., 0., 0., 0.], dtype=float32)"
      ]
     },
     "execution_count": 16,
     "metadata": {},
     "output_type": "execute_result"
    }
   ],
   "source": [
    "img[40][30]"
   ]
  },
  {
   "cell_type": "markdown",
   "id": "234a2e12",
   "metadata": {},
   "source": [
    "## Land area calculation function"
   ]
  },
  {
   "cell_type": "code",
   "execution_count": 14,
   "id": "2dfde137",
   "metadata": {},
   "outputs": [],
   "source": [
    "def land_area(req,res):\n",
    "    bb = req[:,:,0]\n",
    "    r, c = bb.shape\n",
    "    \n",
    "    for i in range(0,r-1):\n",
    "        for j in range(0,c-1):\n",
    "            if bb[i][j] > 0.0:\n",
    "                bb[i][j] = 0\n",
    "            else:\n",
    "                bb[i][j] = 1\n",
    "            \n",
    "    bb_list = bb.tolist()\n",
    "    bg_pixel = sum(x.count(1) for x in bb_list)\n",
    "    land_pixel = (r*c)-bg_pixel\n",
    "    land_area = np.round((land_pixel*res*res)/1000000,2) # in km2\n",
    "    print(\"Land Area\",land_area, \"km2\")\n",
    "    \n",
    "    return land_area"
   ]
  },
  {
   "cell_type": "code",
   "execution_count": 15,
   "id": "d2d4df5a",
   "metadata": {
    "scrolled": true
   },
   "outputs": [
    {
     "name": "stdout",
     "output_type": "stream",
     "text": [
      "Land Area 0.28 km2\n"
     ]
    }
   ],
   "source": [
    "total_area = land_area(img,resol)"
   ]
  },
  {
   "cell_type": "markdown",
   "id": "e3e2b76c",
   "metadata": {},
   "source": [
    "## Get the forest cover"
   ]
  },
  {
   "cell_type": "code",
   "execution_count": 17,
   "id": "ef98685b",
   "metadata": {},
   "outputs": [
    {
     "name": "stdout",
     "output_type": "stream",
     "text": [
      "Total Land Area 103.52 km2\n",
      "Forest/ Green area:  54.3154 km2\n",
      "Forest/green cover:  52.47 %\n"
     ]
    }
   ],
   "source": [
    "forest_area,forest_cover = get_cover(img,resol)"
   ]
  },
  {
   "cell_type": "markdown",
   "id": "75ce9f6f",
   "metadata": {},
   "source": [
    "## NDVI plot"
   ]
  },
  {
   "cell_type": "code",
   "execution_count": 10,
   "id": "647652f0",
   "metadata": {},
   "outputs": [],
   "source": [
    "from matplotlib.colors import ListedColormap\n",
    "import matplotlib.pyplot as plt\n",
    "from Utils.vegetation_indices import normalized_diff\n",
    "import earthpy.plot as ep"
   ]
  },
  {
   "cell_type": "code",
   "execution_count": 18,
   "id": "b24222e1",
   "metadata": {},
   "outputs": [],
   "source": [
    "red = img[:, :, 2]\n",
    "nir = img[:, :, 3]\n",
    "ndvi = normalized_diff(nir,red)"
   ]
  },
  {
   "cell_type": "code",
   "execution_count": 19,
   "id": "7ab5398f",
   "metadata": {},
   "outputs": [],
   "source": [
    "def ndvi_plot(ndvi,thresh = 0.6):\n",
    "    \n",
    "    '''\n",
    "    ndvi: ndvi index values\n",
    "    save_path: file path to save the classified image\n",
    "    file: original file name\n",
    "    '''\n",
    "    \n",
    "    # Create classes and apply to NDVI results\n",
    "    ndvi_class_bins = [-np.inf, thresh, np.inf]\n",
    "    ndvi_landsat_class = np.digitize(ndvi, ndvi_class_bins)\n",
    "\n",
    "    # Apply the nodata mask to the newly classified NDVI data\n",
    "    ndvi_landsat_class = np.ma.masked_where(np.ma.getmask(ndvi), \n",
    "                                            ndvi_landsat_class)\n",
    "    #np.unique(ndvi_landsat_class)\n",
    "    \n",
    "    # Define color map\n",
    "    nbr_colors = [\"gray\", \"g\"]\n",
    "    nbr_cmap = ListedColormap(nbr_colors)\n",
    "\n",
    "    # Define class names\n",
    "    ndvi_cat_names = [\n",
    "        \"No Vegetation\",\n",
    "        \"Vegetation\"]\n",
    "\n",
    "    # Get list of classes\n",
    "    classes = np.unique(ndvi_landsat_class)\n",
    "    classes = classes.tolist()\n",
    "    \n",
    "    # The mask returns a value of none in the classes. remove that\n",
    "    classes = classes[0:2]\n",
    "\n",
    "    # Plot your data\n",
    "    fig, ax = plt.subplots()\n",
    "    im = ax.imshow(ndvi_landsat_class, cmap=nbr_cmap)\n",
    "    ep.draw_legend(im_ax=im, classes=classes, titles=ndvi_cat_names)\n",
    "    ax.set_axis_off()\n",
    "\n",
    "    return"
   ]
  },
  {
   "cell_type": "code",
   "execution_count": 20,
   "id": "e2b5470a",
   "metadata": {},
   "outputs": [
    {
     "data": {
      "image/png": "[encoded data removed]",
      "text/plain": [
       "<Figure size 640x480 with 1 Axes>"
      ]
     },
     "metadata": {},
     "output_type": "display_data"
    }
   ],
   "source": [
    "ndvi_plot(ndvi)"
   ]
  },
  {
   "cell_type": "code",
   "execution_count": null,
   "id": "a8fd6717",
   "metadata": {},
   "outputs": [],
   "source": []
  }
 ],
 "metadata": {
  "kernelspec": {
   "display_name": "Python 3 (ipykernel)",
   "language": "python",
   "name": "python3"
  },
  "language_info": {
   "codemirror_mode": {
    "name": "ipython",
    "version": 3
   },
   "file_extension": ".py",
   "mimetype": "text/x-python",
   "name": "python",
   "nbconvert_exporter": "python",
   "pygments_lexer": "ipython3",
   "version": "3.8.13"
  },
  "toc": {
   "base_numbering": 1,
   "nav_menu": {},
   "number_sections": true,
   "sideBar": true,
   "skip_h1_title": false,
   "title_cell": "Table of Contents",
   "title_sidebar": "Contents",
   "toc_cell": false,
   "toc_position": {},
   "toc_section_display": true,
   "toc_window_display": false
  }
 },
 "nbformat": 4,
 "nbformat_minor": 5
}
